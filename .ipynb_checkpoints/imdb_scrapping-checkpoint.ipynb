{
 "cells": [
  {
   "cell_type": "code",
   "execution_count": 1,
   "id": "781310c0-c80f-4bc9-83d4-c920c1b6f3e2",
   "metadata": {},
   "outputs": [],
   "source": [
    "from bs4 import BeautifulSoup\n",
    "import requests"
   ]
  },
  {
   "cell_type": "code",
   "execution_count": 2,
   "id": "92c945ff-d164-4fac-bd05-a27b3e75ba02",
   "metadata": {},
   "outputs": [
    {
     "data": {
      "text/plain": [
       "<Response [200]>"
      ]
     },
     "execution_count": 2,
     "metadata": {},
     "output_type": "execute_result"
    }
   ],
   "source": [
    "# URL of the IMDb Top 250 movies chart\n",
    "url = 'https://www.imdb.com/chart/top/'\n",
    "\n",
    "# Define headers to mimic a web browser\n",
    "headers = {\n",
    "    'User-Agent': 'Mozilla/5.0 (Windows NT 10.0; Win64; x64) AppleWebKit/537.36 (KHTML, like Gecko) Chrome/58.0.3029.110 Safari/537.36'\n",
    "}\n",
    "\n",
    "# Fetch the content from the URL with headers\n",
    "response = requests.get(url, headers=headers)\n",
    "response"
   ]
  },
  {
   "cell_type": "code",
   "execution_count": 3,
   "id": "2c0e56a7-61ed-48c9-bc2d-9beba50f9937",
   "metadata": {},
   "outputs": [],
   "source": [
    "soup = BeautifulSoup(response.text,'html')"
   ]
  },
  {
   "cell_type": "code",
   "execution_count": 4,
   "id": "faffa852-b0a0-458f-bf85-120f550fd0a2",
   "metadata": {},
   "outputs": [],
   "source": [
    "def convert_duration(duration):\n",
    "    hours = 0\n",
    "    minutes = 0\n",
    "    if 'H' in duration:\n",
    "        hours = int(duration.split('H')[0].replace('PT', ''))\n",
    "    if 'M' in duration:\n",
    "        minutes_part = duration.split('H')[-1] if 'H' in duration else duration.replace('PT', '')\n",
    "        minutes = int(minutes_part.replace('M', ''))\n",
    "    return f\"{hours}h {minutes}m\""
   ]
  },
  {
   "cell_type": "code",
   "execution_count": 5,
   "id": "514729b2-c119-4db3-b798-c77a3e19e70b",
   "metadata": {},
   "outputs": [
    {
     "name": "stdout",
     "output_type": "stream",
     "text": [
      "Data successfully saved to imdb.csv\n"
     ]
    }
   ],
   "source": [
    "import json\n",
    "import csv\n",
    "if response.status_code == 200:\n",
    "    # Parse the HTML content\n",
    "    soup = BeautifulSoup(response.text, 'html.parser')\n",
    "    \n",
    "    # Find the script tag with type \"application/ld+json\"\n",
    "    script_tag = soup.find('script', type='application/ld+json')\n",
    "    \n",
    "    if script_tag:\n",
    "        # Parse the JSON content\n",
    "        json_content = json.loads(script_tag.string)\n",
    "\n",
    "        # Define the CSV file name\n",
    "        filename = 'imdb.csv'\n",
    "\n",
    "        # Specify the column names for the CSV\n",
    "        fieldnames = ['Title', 'Link', 'Rating', 'Description', 'Genre', 'Duration (hrs)']\n",
    "\n",
    "        # Write the movie details to the CSV file\n",
    "        with open(filename, mode='w', newline='', encoding='utf-8') as file:\n",
    "            writer = csv.DictWriter(file, fieldnames=fieldnames)\n",
    "\n",
    "            # Write the header row\n",
    "            writer.writeheader()\n",
    "        \n",
    "            # Extract movie data\n",
    "            for item in json_content['itemListElement']:\n",
    "                movie = item['item']\n",
    "                title = movie['name']\n",
    "                link = movie['url']\n",
    "                rating = movie['aggregateRating']['ratingValue']\n",
    "                description = movie['description']\n",
    "                genre = movie['genre']\n",
    "                duration = movie['duration']\n",
    "                total_hours = convert_duration(duration)\n",
    "                \n",
    "                # Write the movie details to the CSV file\n",
    "                writer.writerow({\n",
    "                    'Title': title,\n",
    "                    'Link': link,\n",
    "                    'Rating': rating,\n",
    "                    'Description': description,\n",
    "                    'Genre': genre,\n",
    "                    'Duration (hrs)': total_hours\n",
    "                })\n",
    "\n",
    "        print(f\"Data successfully saved to {filename}\")\n",
    "    else:\n",
    "        print('The specified script tag was not found.')\n",
    "else:\n",
    "    print('Failed to retrieve the webpage. Status code:', response.status_code)"
   ]
  },
  {
   "cell_type": "code",
   "execution_count": 6,
   "id": "41377adc-d30d-4c25-a533-6c7538989188",
   "metadata": {},
   "outputs": [
    {
     "data": {
      "text/html": [
       "<div>\n",
       "<style scoped>\n",
       "    .dataframe tbody tr th:only-of-type {\n",
       "        vertical-align: middle;\n",
       "    }\n",
       "\n",
       "    .dataframe tbody tr th {\n",
       "        vertical-align: top;\n",
       "    }\n",
       "\n",
       "    .dataframe thead th {\n",
       "        text-align: right;\n",
       "    }\n",
       "</style>\n",
       "<table border=\"1\" class=\"dataframe\">\n",
       "  <thead>\n",
       "    <tr style=\"text-align: right;\">\n",
       "      <th></th>\n",
       "      <th>Title</th>\n",
       "      <th>Link</th>\n",
       "      <th>Rating</th>\n",
       "      <th>Description</th>\n",
       "      <th>Genre</th>\n",
       "      <th>Duration (hrs)</th>\n",
       "    </tr>\n",
       "  </thead>\n",
       "  <tbody>\n",
       "    <tr>\n",
       "      <th>0</th>\n",
       "      <td>The Shawshank Redemption</td>\n",
       "      <td>https://www.imdb.com/title/tt0111161/</td>\n",
       "      <td>9.3</td>\n",
       "      <td>Over the course of several years, two convicts...</td>\n",
       "      <td>Drama</td>\n",
       "      <td>2h 22m</td>\n",
       "    </tr>\n",
       "    <tr>\n",
       "      <th>1</th>\n",
       "      <td>The Godfather</td>\n",
       "      <td>https://www.imdb.com/title/tt0068646/</td>\n",
       "      <td>9.2</td>\n",
       "      <td>The aging patriarch of an organized crime dyna...</td>\n",
       "      <td>Crime, Drama</td>\n",
       "      <td>2h 55m</td>\n",
       "    </tr>\n",
       "    <tr>\n",
       "      <th>2</th>\n",
       "      <td>The Dark Knight</td>\n",
       "      <td>https://www.imdb.com/title/tt0468569/</td>\n",
       "      <td>9.0</td>\n",
       "      <td>When the menace known as the Joker wreaks havo...</td>\n",
       "      <td>Action, Crime, Drama</td>\n",
       "      <td>2h 32m</td>\n",
       "    </tr>\n",
       "    <tr>\n",
       "      <th>3</th>\n",
       "      <td>The Godfather Part II</td>\n",
       "      <td>https://www.imdb.com/title/tt0071562/</td>\n",
       "      <td>9.0</td>\n",
       "      <td>The early life and career of Vito Corleone in ...</td>\n",
       "      <td>Crime, Drama</td>\n",
       "      <td>3h 22m</td>\n",
       "    </tr>\n",
       "    <tr>\n",
       "      <th>4</th>\n",
       "      <td>12 Angry Men</td>\n",
       "      <td>https://www.imdb.com/title/tt0050083/</td>\n",
       "      <td>9.0</td>\n",
       "      <td>The jury in a New York City murder trial is fr...</td>\n",
       "      <td>Crime, Drama</td>\n",
       "      <td>1h 36m</td>\n",
       "    </tr>\n",
       "    <tr>\n",
       "      <th>...</th>\n",
       "      <td>...</td>\n",
       "      <td>...</td>\n",
       "      <td>...</td>\n",
       "      <td>...</td>\n",
       "      <td>...</td>\n",
       "      <td>...</td>\n",
       "    </tr>\n",
       "    <tr>\n",
       "      <th>245</th>\n",
       "      <td>It Happened One Night</td>\n",
       "      <td>https://www.imdb.com/title/tt0025316/</td>\n",
       "      <td>8.1</td>\n",
       "      <td>A rogue reporter trailing a runaway heiress fo...</td>\n",
       "      <td>Comedy, Romance</td>\n",
       "      <td>1h 45m</td>\n",
       "    </tr>\n",
       "    <tr>\n",
       "      <th>246</th>\n",
       "      <td>Drishyam</td>\n",
       "      <td>https://www.imdb.com/title/tt4430212/</td>\n",
       "      <td>8.2</td>\n",
       "      <td>Desperate measures are taken by a man who trie...</td>\n",
       "      <td>Crime, Drama, Mystery</td>\n",
       "      <td>2h 43m</td>\n",
       "    </tr>\n",
       "    <tr>\n",
       "      <th>247</th>\n",
       "      <td>Aladdin</td>\n",
       "      <td>https://www.imdb.com/title/tt0103639/</td>\n",
       "      <td>8.0</td>\n",
       "      <td>A kind-hearted street urchin and a power-hungr...</td>\n",
       "      <td>Animation, Adventure, Comedy</td>\n",
       "      <td>1h 30m</td>\n",
       "    </tr>\n",
       "    <tr>\n",
       "      <th>248</th>\n",
       "      <td>Dances with Wolves</td>\n",
       "      <td>https://www.imdb.com/title/tt0099348/</td>\n",
       "      <td>8.0</td>\n",
       "      <td>Lieutenant John Dunbar, assigned to a remote w...</td>\n",
       "      <td>Adventure, Drama, Western</td>\n",
       "      <td>3h 1m</td>\n",
       "    </tr>\n",
       "    <tr>\n",
       "      <th>249</th>\n",
       "      <td>Gangs of Wasseypur</td>\n",
       "      <td>https://www.imdb.com/title/tt1954470/</td>\n",
       "      <td>8.2</td>\n",
       "      <td>A clash between Sultan and Shahid Khan leads t...</td>\n",
       "      <td>Action, Comedy, Crime</td>\n",
       "      <td>5h 21m</td>\n",
       "    </tr>\n",
       "  </tbody>\n",
       "</table>\n",
       "<p>250 rows × 6 columns</p>\n",
       "</div>"
      ],
      "text/plain": [
       "                        Title                                   Link  Rating  \\\n",
       "0    The Shawshank Redemption  https://www.imdb.com/title/tt0111161/     9.3   \n",
       "1               The Godfather  https://www.imdb.com/title/tt0068646/     9.2   \n",
       "2             The Dark Knight  https://www.imdb.com/title/tt0468569/     9.0   \n",
       "3       The Godfather Part II  https://www.imdb.com/title/tt0071562/     9.0   \n",
       "4                12 Angry Men  https://www.imdb.com/title/tt0050083/     9.0   \n",
       "..                        ...                                    ...     ...   \n",
       "245     It Happened One Night  https://www.imdb.com/title/tt0025316/     8.1   \n",
       "246                  Drishyam  https://www.imdb.com/title/tt4430212/     8.2   \n",
       "247                   Aladdin  https://www.imdb.com/title/tt0103639/     8.0   \n",
       "248        Dances with Wolves  https://www.imdb.com/title/tt0099348/     8.0   \n",
       "249        Gangs of Wasseypur  https://www.imdb.com/title/tt1954470/     8.2   \n",
       "\n",
       "                                           Description  \\\n",
       "0    Over the course of several years, two convicts...   \n",
       "1    The aging patriarch of an organized crime dyna...   \n",
       "2    When the menace known as the Joker wreaks havo...   \n",
       "3    The early life and career of Vito Corleone in ...   \n",
       "4    The jury in a New York City murder trial is fr...   \n",
       "..                                                 ...   \n",
       "245  A rogue reporter trailing a runaway heiress fo...   \n",
       "246  Desperate measures are taken by a man who trie...   \n",
       "247  A kind-hearted street urchin and a power-hungr...   \n",
       "248  Lieutenant John Dunbar, assigned to a remote w...   \n",
       "249  A clash between Sultan and Shahid Khan leads t...   \n",
       "\n",
       "                            Genre Duration (hrs)  \n",
       "0                           Drama         2h 22m  \n",
       "1                    Crime, Drama         2h 55m  \n",
       "2            Action, Crime, Drama         2h 32m  \n",
       "3                    Crime, Drama         3h 22m  \n",
       "4                    Crime, Drama         1h 36m  \n",
       "..                            ...            ...  \n",
       "245               Comedy, Romance         1h 45m  \n",
       "246         Crime, Drama, Mystery         2h 43m  \n",
       "247  Animation, Adventure, Comedy         1h 30m  \n",
       "248     Adventure, Drama, Western          3h 1m  \n",
       "249         Action, Comedy, Crime         5h 21m  \n",
       "\n",
       "[250 rows x 6 columns]"
      ]
     },
     "execution_count": 6,
     "metadata": {},
     "output_type": "execute_result"
    }
   ],
   "source": [
    "import pandas as pd\n",
    "df = pd.read_csv('imdb.csv', encoding = 'latin1')\n",
    "df"
   ]
  },
  {
   "cell_type": "code",
   "execution_count": 12,
   "id": "76f12413-ce1c-4614-8891-3e474b10b275",
   "metadata": {},
   "outputs": [
    {
     "name": "stdout",
     "output_type": "stream",
     "text": [
      "The Shawshank Redemption\n",
      "The Godfather\n",
      "The Dark Knight\n",
      "The Godfather Part II\n",
      "12 Angry Men\n",
      "Schindler&apos;s List\n",
      "The Lord of the Rings: The Return of the King\n",
      "Pulp Fiction\n",
      "The Lord of the Rings: The Fellowship of the Ring\n",
      "Il buono, il brutto, il cattivo\n",
      "Forrest Gump\n",
      "The Lord of the Rings: The Two Towers\n",
      "Fight Club\n",
      "Goodfellas\n",
      "One Flew Over the Cuckoo&apos;s Nest\n",
      "Se7en\n",
      "Interstellar\n",
      "It&apos;s a Wonderful Life\n",
      "Shichinin no samurai\n",
      "The Silence of the Lambs\n",
      "Saving Private Ryan\n",
      "Cidade de Deus\n",
      "La vita Ã¨ bella\n",
      "The Green Mile\n",
      "The Pianist\n",
      "Dune: Part Two\n",
      "Gisaengchung\n",
      "Gladiator\n",
      "The Lion King\n",
      "The Departed\n",
      "LÃ©on\n",
      "American History X\n",
      "Whiplash\n",
      "The Prestige\n",
      "Hotaru no haka\n",
      "Seppuku\n",
      "The Usual Suspects\n",
      "Casablanca\n",
      "Intouchables\n",
      "Nuovo Cinema Paradiso\n",
      "Modern Times\n",
      "C&apos;era una volta il West\n",
      "City Lights\n",
      "Django Unchained\n",
      "Apocalypse Now\n",
      "12th Fail\n",
      "Das Leben der Anderen\n",
      "Sunset Blvd.\n",
      "Paths of Glory\n",
      "Witness for the Prosecution\n",
      "The Shining\n",
      "The Great Dictator\n",
      "Inglourious Basterds\n",
      "The Dark Knight Rises\n",
      "Coco\n",
      "Oldeuboi\n",
      "Amadeus\n",
      "American Beauty\n",
      "Avengers: Endgame\n",
      "Das Boot\n",
      "Braveheart\n",
      "Good Will Hunting\n",
      "Joker\n",
      "Kimi no na wa.\n",
      "Tengoku to jigoku\n",
      "Once Upon a Time in America\n",
      "3 Idiots\n",
      "CapharnaÃ¼m\n",
      "Idi i smotri\n",
      "Requiem for a Dream\n",
      "Eternal Sunshine of the Spotless Mind\n",
      "Jagten\n",
      "Ikiru\n",
      "Oppenheimer\n",
      "Lawrence of Arabia\n",
      "The Apartment\n",
      "Incendies\n",
      "Citizen Kane\n",
      "Scarface\n",
      "Double Indemnity\n",
      "Full Metal Jacket\n",
      "Heat\n",
      "To Kill a Mockingbird\n",
      "Jodaeiye Nader az Simin\n",
      "The Sting\n",
      "Taare Zameen Par\n",
      "Metropolis\n",
      "1917\n",
      "L.A. Confidential\n",
      "Ladri di biciclette\n",
      "Hamilton\n",
      "Taxi Driver\n",
      "Der Untergang\n",
      "Dangal\n",
      "Per qualche dollaro in piÃ¹\n",
      "Batman Begins\n",
      "Green Book\n",
      "The Kid\n",
      "The Father\n",
      "Judgment at Nuremberg\n",
      "The Truman Show\n",
      "All About Eve\n",
      "Shutter Island\n",
      "Top Gun: Maverick\n",
      "There Will Be Blood\n",
      "Casino\n",
      "Ran\n",
      "The Sixth Sense\n",
      "El laberinto del fauno\n",
      "Unforgiven\n",
      "No Country for Old Men\n",
      "A Beautiful Mind\n",
      "The Treasure of the Sierra Madre\n",
      "YÃ´jinbÃ´\n",
      "The Great Escape\n",
      "Prisoners\n",
      "RashÃ´mon\n",
      "The Elephant Man\n",
      "Chinatown\n",
      "Gone with the Wind\n",
      "V for Vendetta\n",
      "El secreto de sus ojos\n",
      "Raging Bull\n",
      "Three Billboards Outside Ebbing, Missouri\n",
      "Trainspotting\n",
      "The Bridge on the River Kwai\n",
      "Catch Me If You Can\n",
      "Warrior\n",
      "Gran Torino\n",
      "Million Dollar Baby\n",
      "Bacheha-Ye aseman\n",
      "12 Years a Slave\n",
      "Ben-Hur\n",
      "Blade Runner\n",
      "Before Sunrise\n",
      "Barry Lyndon\n",
      "Gone Girl\n",
      "Hacksaw Ridge\n",
      "Dead Poets Society\n",
      "The Gold Rush\n",
      "Salinui chueok\n",
      "In the Name of the Father\n",
      "Relatos salvajes\n",
      "The Deer Hunter\n",
      "On the Waterfront\n",
      "Mary and Max.\n",
      "Le salaire de la peur\n",
      "SmultronstÃ¤llet\n",
      "Mr. Smith Goes to Washington\n",
      "Ford v Ferrari\n",
      "TÃ´kyÃ´ monogatari\n",
      "Rocky\n",
      "Det sjunde inseglet\n",
      "Room\n",
      "Logan\n",
      "Spotlight\n",
      "Hotel Rwanda\n",
      "Platoon\n",
      "La passion de Jeanne d&apos;Arc\n",
      "La haine\n",
      "Before Sunset\n",
      "The Best Years of Our Lives\n",
      "Jai Bhim\n",
      "Rush\n",
      "Network\n",
      "Stand by Me\n",
      "Hachi: A Dog&apos;s Tale\n",
      "Babam ve Oglum\n",
      "Ah-ga-ssi\n",
      "The Sound of Music\n",
      "Into the Wild\n",
      "La battaglia di Algeri\n",
      "The Grapes of Wrath\n",
      "Groundhog Day\n",
      "Amores perros\n",
      "Rebecca\n",
      "Cool Hand Luke\n",
      "The Help\n",
      "Drishyam\n",
      "Dances with Wolves\n"
     ]
    }
   ],
   "source": [
    "drama_movies = df[df['Genre'].str.contains('Drama')]\n",
    "# Print the titles of drama movies\n",
    "for title in drama_movies['Title']:\n",
    "    print(title)"
   ]
  },
  {
   "cell_type": "code",
   "execution_count": 15,
   "id": "a7821cd4-fdc6-4959-80b0-08d57f8ca84b",
   "metadata": {},
   "outputs": [
    {
     "name": "stdout",
     "output_type": "stream",
     "text": [
      "The Shawshank Redemption\n",
      "The Godfather\n",
      "The Dark Knight\n",
      "The Godfather Part II\n",
      "12 Angry Men\n",
      "Schindler&apos;s List\n",
      "The Lord of the Rings: The Return of the King\n",
      "Pulp Fiction\n",
      "The Lord of the Rings: The Fellowship of the Ring\n",
      "Il buono, il brutto, il cattivo\n",
      "Forrest Gump\n",
      "The Lord of the Rings: The Two Towers\n",
      "Fight Club\n",
      "Inception\n",
      "Star Wars: Episode V - The Empire Strikes Back\n",
      "The Matrix\n",
      "Goodfellas\n",
      "One Flew Over the Cuckoo&apos;s Nest\n",
      "Se7en\n",
      "Interstellar\n",
      "It&apos;s a Wonderful Life\n",
      "Shichinin no samurai\n",
      "The Silence of the Lambs\n",
      "Saving Private Ryan\n",
      "Cidade de Deus\n",
      "La vita Ã¨ bella\n",
      "The Green Mile\n",
      "Terminator 2: Judgment Day\n",
      "Star Wars\n",
      "Back to the Future\n",
      "Sen to Chihiro no kamikakushi\n",
      "The Pianist\n",
      "Dune: Part Two\n",
      "Gisaengchung\n",
      "Psycho\n",
      "Gladiator\n",
      "Spider-Man: Across the Spider-Verse\n",
      "The Lion King\n",
      "The Departed\n",
      "LÃ©on\n",
      "American History X\n",
      "Whiplash\n",
      "The Prestige\n",
      "Hotaru no haka\n",
      "Seppuku\n",
      "The Usual Suspects\n",
      "Casablanca\n",
      "Intouchables\n",
      "Nuovo Cinema Paradiso\n",
      "Modern Times\n",
      "Rear Window\n",
      "C&apos;era una volta il West\n",
      "Alien\n",
      "City Lights\n",
      "Django Unchained\n",
      "Apocalypse Now\n",
      "Memento\n",
      "WALLÂ·E\n",
      "12th Fail\n",
      "Raiders of the Lost Ark\n",
      "Das Leben der Anderen\n",
      "Sunset Blvd.\n",
      "Avengers: Infinity War\n",
      "Paths of Glory\n",
      "Spider-Man: Into the Spider-Verse\n",
      "Witness for the Prosecution\n",
      "The Shining\n",
      "The Great Dictator\n",
      "Aliens\n",
      "Inglourious Basterds\n",
      "The Dark Knight Rises\n",
      "Coco\n",
      "Dr. Strangelove or: How I Learned to Stop Worrying and Love the Bomb\n",
      "Oldeuboi\n",
      "Amadeus\n",
      "American Beauty\n",
      "Toy Story\n",
      "Avengers: Endgame\n",
      "Das Boot\n",
      "Braveheart\n",
      "Good Will Hunting\n",
      "Mononoke-hime\n",
      "Joker\n",
      "Kimi no na wa.\n",
      "Tengoku to jigoku\n",
      "Once Upon a Time in America\n",
      "3 Idiots\n",
      "Singin&apos; in the Rain\n",
      "CapharnaÃ¼m\n",
      "Idi i smotri\n",
      "Requiem for a Dream\n",
      "Toy Story 3\n",
      "Star Wars: Episode VI - Return of the Jedi\n",
      "Eternal Sunshine of the Spotless Mind\n",
      "Jagten\n",
      "2001: A Space Odyssey\n",
      "Reservoir Dogs\n",
      "Ikiru\n",
      "Oppenheimer\n",
      "Lawrence of Arabia\n",
      "The Apartment\n",
      "Incendies\n",
      "North by Northwest\n",
      "Citizen Kane\n",
      "M - Eine Stadt sucht einen MÃ¶rder\n",
      "Scarface\n",
      "Double Indemnity\n",
      "Vertigo\n",
      "Full Metal Jacket\n",
      "Le fabuleux destin d&apos;AmÃ©lie Poulain\n",
      "Heat\n",
      "Up\n",
      "A Clockwork Orange\n",
      "To Kill a Mockingbird\n",
      "Jodaeiye Nader az Simin\n",
      "The Sting\n",
      "Indiana Jones and the Last Crusade\n",
      "Die Hard\n",
      "Taare Zameen Par\n",
      "Metropolis\n",
      "Snatch\n",
      "1917\n",
      "L.A. Confidential\n",
      "Ladri di biciclette\n",
      "Hamilton\n",
      "Taxi Driver\n",
      "Der Untergang\n",
      "Dangal\n",
      "Per qualche dollaro in piÃ¹\n",
      "Batman Begins\n",
      "The Wolf of Wall Street\n",
      "Some Like It Hot\n",
      "Green Book\n",
      "The Kid\n",
      "The Father\n",
      "Judgment at Nuremberg\n",
      "The Truman Show\n",
      "All About Eve\n",
      "Shutter Island\n",
      "Top Gun: Maverick\n",
      "There Will Be Blood\n",
      "Casino\n",
      "Jurassic Park\n",
      "Ran\n",
      "The Sixth Sense\n",
      "El laberinto del fauno\n",
      "Unforgiven\n",
      "No Country for Old Men\n",
      "A Beautiful Mind\n",
      "The Thing\n",
      "Kill Bill: Vol. 1\n",
      "The Treasure of the Sierra Madre\n",
      "YÃ´jinbÃ´\n",
      "Monty Python and the Holy Grail\n",
      "The Great Escape\n",
      "Finding Nemo\n",
      "Prisoners\n",
      "Hauru no ugoku shiro\n",
      "RashÃ´mon\n",
      "The Elephant Man\n",
      "Dial M for Murder\n",
      "Chinatown\n",
      "Gone with the Wind\n",
      "Lock, Stock and Two Smoking Barrels\n",
      "V for Vendetta\n",
      "El secreto de sus ojos\n",
      "Inside Out\n",
      "Raging Bull\n",
      "Three Billboards Outside Ebbing, Missouri\n",
      "Trainspotting\n",
      "The Bridge on the River Kwai\n",
      "Klaus\n",
      "Fargo\n",
      "Catch Me If You Can\n",
      "Spider-Man: No Way Home\n",
      "Warrior\n",
      "Gran Torino\n",
      "Harry Potter and the Deathly Hallows - Part 2\n",
      "Million Dollar Baby\n",
      "Tonari no Totoro\n",
      "Bacheha-Ye aseman\n",
      "12 Years a Slave\n",
      "Ben-Hur\n",
      "Blade Runner\n",
      "Before Sunrise\n",
      "Barry Lyndon\n",
      "The Grand Budapest Hotel\n",
      "Mad Max: Fury Road\n",
      "Gone Girl\n",
      "Hacksaw Ridge\n",
      "Dead Poets Society\n",
      "The Gold Rush\n",
      "Salinui chueok\n",
      "In the Name of the Father\n",
      "Relatos salvajes\n",
      "Monsters, Inc.\n",
      "The Deer Hunter\n",
      "The General\n",
      "On the Waterfront\n",
      "Sherlock Jr.\n",
      "How to Train Your Dragon\n",
      "Jaws\n",
      "Mary and Max.\n",
      "The Third Man\n",
      "Le salaire de la peur\n",
      "Ratatouille\n",
      "SmultronstÃ¤llet\n",
      "Mr. Smith Goes to Washington\n",
      "Ford v Ferrari\n",
      "TÃ´kyÃ´ monogatari\n",
      "The Big Lebowski\n",
      "Rocky\n",
      "Det sjunde inseglet\n",
      "Room\n",
      "Logan\n",
      "Spotlight\n",
      "Hotel Rwanda\n",
      "The Terminator\n",
      "Platoon\n",
      "La passion de Jeanne d&apos;Arc\n",
      "La haine\n",
      "Before Sunset\n",
      "Pirates of the Caribbean: The Curse of the Black Pearl\n",
      "The Best Years of Our Lives\n",
      "The Exorcist\n",
      "Jai Bhim\n",
      "Rush\n",
      "Network\n",
      "The Wizard of Oz\n",
      "Stand by Me\n",
      "Hachi: A Dog&apos;s Tale\n",
      "Babam ve Oglum\n",
      "Ah-ga-ssi\n",
      "The Sound of Music\n",
      "Into the Wild\n",
      "To Be or Not to Be\n",
      "La battaglia di Algeri\n",
      "The Grapes of Wrath\n",
      "Amores perros\n",
      "The Iron Giant\n",
      "Rebecca\n",
      "Cool Hand Luke\n",
      "The Help\n",
      "It Happened One Night\n",
      "Drishyam\n",
      "Gangs of Wasseypur\n"
     ]
    }
   ],
   "source": [
    "high_rating_movies = df[df['Rating'] > 8]\n",
    "\n",
    "# Print the titles of movies with a rating greater than 8\n",
    "for title in high_rating_movies['Title']:\n",
    "    print(title)"
   ]
  },
  {
   "cell_type": "code",
   "execution_count": 16,
   "id": "4fc74142-eeb7-455b-bd56-834b4ab89f63",
   "metadata": {},
   "outputs": [
    {
     "data": {
      "text/html": [
       "<div>\n",
       "<style scoped>\n",
       "    .dataframe tbody tr th:only-of-type {\n",
       "        vertical-align: middle;\n",
       "    }\n",
       "\n",
       "    .dataframe tbody tr th {\n",
       "        vertical-align: top;\n",
       "    }\n",
       "\n",
       "    .dataframe thead th {\n",
       "        text-align: right;\n",
       "    }\n",
       "</style>\n",
       "<table border=\"1\" class=\"dataframe\">\n",
       "  <thead>\n",
       "    <tr style=\"text-align: right;\">\n",
       "      <th></th>\n",
       "      <th>Title</th>\n",
       "      <th>Link</th>\n",
       "      <th>Rating</th>\n",
       "      <th>Description</th>\n",
       "      <th>Genre</th>\n",
       "      <th>Duration (hrs)</th>\n",
       "    </tr>\n",
       "  </thead>\n",
       "  <tbody>\n",
       "    <tr>\n",
       "      <th>0</th>\n",
       "      <td>The Shawshank Redemption</td>\n",
       "      <td>https://www.imdb.com/title/tt0111161/</td>\n",
       "      <td>9.3</td>\n",
       "      <td>Over the course of several years, two convicts...</td>\n",
       "      <td>Drama</td>\n",
       "      <td>2h 22m</td>\n",
       "    </tr>\n",
       "    <tr>\n",
       "      <th>1</th>\n",
       "      <td>The Godfather</td>\n",
       "      <td>https://www.imdb.com/title/tt0068646/</td>\n",
       "      <td>9.2</td>\n",
       "      <td>The aging patriarch of an organized crime dyna...</td>\n",
       "      <td>Crime, Drama</td>\n",
       "      <td>2h 55m</td>\n",
       "    </tr>\n",
       "    <tr>\n",
       "      <th>2</th>\n",
       "      <td>The Dark Knight</td>\n",
       "      <td>https://www.imdb.com/title/tt0468569/</td>\n",
       "      <td>9.0</td>\n",
       "      <td>When the menace known as the Joker wreaks havo...</td>\n",
       "      <td>Action, Crime, Drama</td>\n",
       "      <td>2h 32m</td>\n",
       "    </tr>\n",
       "    <tr>\n",
       "      <th>3</th>\n",
       "      <td>The Godfather Part II</td>\n",
       "      <td>https://www.imdb.com/title/tt0071562/</td>\n",
       "      <td>9.0</td>\n",
       "      <td>The early life and career of Vito Corleone in ...</td>\n",
       "      <td>Crime, Drama</td>\n",
       "      <td>3h 22m</td>\n",
       "    </tr>\n",
       "    <tr>\n",
       "      <th>4</th>\n",
       "      <td>12 Angry Men</td>\n",
       "      <td>https://www.imdb.com/title/tt0050083/</td>\n",
       "      <td>9.0</td>\n",
       "      <td>The jury in a New York City murder trial is fr...</td>\n",
       "      <td>Crime, Drama</td>\n",
       "      <td>1h 36m</td>\n",
       "    </tr>\n",
       "    <tr>\n",
       "      <th>5</th>\n",
       "      <td>Schindler&amp;apos;s List</td>\n",
       "      <td>https://www.imdb.com/title/tt0108052/</td>\n",
       "      <td>9.0</td>\n",
       "      <td>In German-occupied Poland during World War II,...</td>\n",
       "      <td>Biography, Drama, History</td>\n",
       "      <td>3h 15m</td>\n",
       "    </tr>\n",
       "    <tr>\n",
       "      <th>6</th>\n",
       "      <td>The Lord of the Rings: The Return of the King</td>\n",
       "      <td>https://www.imdb.com/title/tt0167260/</td>\n",
       "      <td>9.0</td>\n",
       "      <td>Gandalf and Aragorn lead the World of Men agai...</td>\n",
       "      <td>Action, Adventure, Drama</td>\n",
       "      <td>3h 21m</td>\n",
       "    </tr>\n",
       "    <tr>\n",
       "      <th>7</th>\n",
       "      <td>Pulp Fiction</td>\n",
       "      <td>https://www.imdb.com/title/tt0110912/</td>\n",
       "      <td>8.9</td>\n",
       "      <td>The lives of two mob hitmen, a boxer, a gangst...</td>\n",
       "      <td>Crime, Drama</td>\n",
       "      <td>2h 34m</td>\n",
       "    </tr>\n",
       "    <tr>\n",
       "      <th>8</th>\n",
       "      <td>The Lord of the Rings: The Fellowship of the Ring</td>\n",
       "      <td>https://www.imdb.com/title/tt0120737/</td>\n",
       "      <td>8.9</td>\n",
       "      <td>A meek Hobbit from the Shire and eight compani...</td>\n",
       "      <td>Action, Adventure, Drama</td>\n",
       "      <td>2h 58m</td>\n",
       "    </tr>\n",
       "    <tr>\n",
       "      <th>9</th>\n",
       "      <td>Il buono, il brutto, il cattivo</td>\n",
       "      <td>https://www.imdb.com/title/tt0060196/</td>\n",
       "      <td>8.8</td>\n",
       "      <td>A bounty hunting scam joins two men in an unea...</td>\n",
       "      <td>Adventure, Drama, Western</td>\n",
       "      <td>2h 41m</td>\n",
       "    </tr>\n",
       "  </tbody>\n",
       "</table>\n",
       "</div>"
      ],
      "text/plain": [
       "                                               Title  \\\n",
       "0                           The Shawshank Redemption   \n",
       "1                                      The Godfather   \n",
       "2                                    The Dark Knight   \n",
       "3                              The Godfather Part II   \n",
       "4                                       12 Angry Men   \n",
       "5                              Schindler&apos;s List   \n",
       "6      The Lord of the Rings: The Return of the King   \n",
       "7                                       Pulp Fiction   \n",
       "8  The Lord of the Rings: The Fellowship of the Ring   \n",
       "9                    Il buono, il brutto, il cattivo   \n",
       "\n",
       "                                    Link  Rating  \\\n",
       "0  https://www.imdb.com/title/tt0111161/     9.3   \n",
       "1  https://www.imdb.com/title/tt0068646/     9.2   \n",
       "2  https://www.imdb.com/title/tt0468569/     9.0   \n",
       "3  https://www.imdb.com/title/tt0071562/     9.0   \n",
       "4  https://www.imdb.com/title/tt0050083/     9.0   \n",
       "5  https://www.imdb.com/title/tt0108052/     9.0   \n",
       "6  https://www.imdb.com/title/tt0167260/     9.0   \n",
       "7  https://www.imdb.com/title/tt0110912/     8.9   \n",
       "8  https://www.imdb.com/title/tt0120737/     8.9   \n",
       "9  https://www.imdb.com/title/tt0060196/     8.8   \n",
       "\n",
       "                                         Description  \\\n",
       "0  Over the course of several years, two convicts...   \n",
       "1  The aging patriarch of an organized crime dyna...   \n",
       "2  When the menace known as the Joker wreaks havo...   \n",
       "3  The early life and career of Vito Corleone in ...   \n",
       "4  The jury in a New York City murder trial is fr...   \n",
       "5  In German-occupied Poland during World War II,...   \n",
       "6  Gandalf and Aragorn lead the World of Men agai...   \n",
       "7  The lives of two mob hitmen, a boxer, a gangst...   \n",
       "8  A meek Hobbit from the Shire and eight compani...   \n",
       "9  A bounty hunting scam joins two men in an unea...   \n",
       "\n",
       "                       Genre Duration (hrs)  \n",
       "0                      Drama         2h 22m  \n",
       "1               Crime, Drama         2h 55m  \n",
       "2       Action, Crime, Drama         2h 32m  \n",
       "3               Crime, Drama         3h 22m  \n",
       "4               Crime, Drama         1h 36m  \n",
       "5  Biography, Drama, History         3h 15m  \n",
       "6   Action, Adventure, Drama         3h 21m  \n",
       "7               Crime, Drama         2h 34m  \n",
       "8   Action, Adventure, Drama         2h 58m  \n",
       "9  Adventure, Drama, Western         2h 41m  "
      ]
     },
     "execution_count": 16,
     "metadata": {},
     "output_type": "execute_result"
    }
   ],
   "source": [
    "top_10 = high_rating_movies[0:10]\n",
    "top_10"
   ]
  },
  {
   "cell_type": "code",
   "execution_count": 19,
   "id": "c25b90df-b2bb-448c-95af-6cbb673aa4fd",
   "metadata": {},
   "outputs": [
    {
     "data": {
      "application/vnd.plotly.v1+json": {
       "config": {
        "plotlyServerURL": "https://plot.ly"
       },
       "data": [
        {
         "alignmentgroup": "True",
         "hovertemplate": "Title=%{x}<br>Rating=%{y}<extra></extra>",
         "legendgroup": "",
         "marker": {
          "color": "#636efa",
          "pattern": {
           "shape": ""
          }
         },
         "name": "",
         "offsetgroup": "",
         "orientation": "v",
         "showlegend": false,
         "textposition": "auto",
         "type": "bar",
         "x": [
          "The Shawshank Redemption",
          "The Godfather",
          "The Dark Knight",
          "The Godfather Part II",
          "12 Angry Men",
          "Schindler&apos;s List",
          "The Lord of the Rings: The Return of the King",
          "Pulp Fiction",
          "The Lord of the Rings: The Fellowship of the Ring",
          "Il buono, il brutto, il cattivo",
          "Forrest Gump"
         ],
         "xaxis": "x",
         "y": [
          9.3,
          9.2,
          9,
          9,
          9,
          9,
          9,
          8.9,
          8.9,
          8.8,
          8.8
         ],
         "yaxis": "y"
        }
       ],
       "layout": {
        "barmode": "relative",
        "height": 600,
        "legend": {
         "tracegroupgap": 0
        },
        "margin": {
         "t": 60
        },
        "template": {
         "data": {
          "bar": [
           {
            "error_x": {
             "color": "#2a3f5f"
            },
            "error_y": {
             "color": "#2a3f5f"
            },
            "marker": {
             "line": {
              "color": "#E5ECF6",
              "width": 0.5
             },
             "pattern": {
              "fillmode": "overlay",
              "size": 10,
              "solidity": 0.2
             }
            },
            "type": "bar"
           }
          ],
          "barpolar": [
           {
            "marker": {
             "line": {
              "color": "#E5ECF6",
              "width": 0.5
             },
             "pattern": {
              "fillmode": "overlay",
              "size": 10,
              "solidity": 0.2
             }
            },
            "type": "barpolar"
           }
          ],
          "carpet": [
           {
            "aaxis": {
             "endlinecolor": "#2a3f5f",
             "gridcolor": "white",
             "linecolor": "white",
             "minorgridcolor": "white",
             "startlinecolor": "#2a3f5f"
            },
            "baxis": {
             "endlinecolor": "#2a3f5f",
             "gridcolor": "white",
             "linecolor": "white",
             "minorgridcolor": "white",
             "startlinecolor": "#2a3f5f"
            },
            "type": "carpet"
           }
          ],
          "choropleth": [
           {
            "colorbar": {
             "outlinewidth": 0,
             "ticks": ""
            },
            "type": "choropleth"
           }
          ],
          "contour": [
           {
            "colorbar": {
             "outlinewidth": 0,
             "ticks": ""
            },
            "colorscale": [
             [
              0,
              "#0d0887"
             ],
             [
              0.1111111111111111,
              "#46039f"
             ],
             [
              0.2222222222222222,
              "#7201a8"
             ],
             [
              0.3333333333333333,
              "#9c179e"
             ],
             [
              0.4444444444444444,
              "#bd3786"
             ],
             [
              0.5555555555555556,
              "#d8576b"
             ],
             [
              0.6666666666666666,
              "#ed7953"
             ],
             [
              0.7777777777777778,
              "#fb9f3a"
             ],
             [
              0.8888888888888888,
              "#fdca26"
             ],
             [
              1,
              "#f0f921"
             ]
            ],
            "type": "contour"
           }
          ],
          "contourcarpet": [
           {
            "colorbar": {
             "outlinewidth": 0,
             "ticks": ""
            },
            "type": "contourcarpet"
           }
          ],
          "heatmap": [
           {
            "colorbar": {
             "outlinewidth": 0,
             "ticks": ""
            },
            "colorscale": [
             [
              0,
              "#0d0887"
             ],
             [
              0.1111111111111111,
              "#46039f"
             ],
             [
              0.2222222222222222,
              "#7201a8"
             ],
             [
              0.3333333333333333,
              "#9c179e"
             ],
             [
              0.4444444444444444,
              "#bd3786"
             ],
             [
              0.5555555555555556,
              "#d8576b"
             ],
             [
              0.6666666666666666,
              "#ed7953"
             ],
             [
              0.7777777777777778,
              "#fb9f3a"
             ],
             [
              0.8888888888888888,
              "#fdca26"
             ],
             [
              1,
              "#f0f921"
             ]
            ],
            "type": "heatmap"
           }
          ],
          "heatmapgl": [
           {
            "colorbar": {
             "outlinewidth": 0,
             "ticks": ""
            },
            "colorscale": [
             [
              0,
              "#0d0887"
             ],
             [
              0.1111111111111111,
              "#46039f"
             ],
             [
              0.2222222222222222,
              "#7201a8"
             ],
             [
              0.3333333333333333,
              "#9c179e"
             ],
             [
              0.4444444444444444,
              "#bd3786"
             ],
             [
              0.5555555555555556,
              "#d8576b"
             ],
             [
              0.6666666666666666,
              "#ed7953"
             ],
             [
              0.7777777777777778,
              "#fb9f3a"
             ],
             [
              0.8888888888888888,
              "#fdca26"
             ],
             [
              1,
              "#f0f921"
             ]
            ],
            "type": "heatmapgl"
           }
          ],
          "histogram": [
           {
            "marker": {
             "pattern": {
              "fillmode": "overlay",
              "size": 10,
              "solidity": 0.2
             }
            },
            "type": "histogram"
           }
          ],
          "histogram2d": [
           {
            "colorbar": {
             "outlinewidth": 0,
             "ticks": ""
            },
            "colorscale": [
             [
              0,
              "#0d0887"
             ],
             [
              0.1111111111111111,
              "#46039f"
             ],
             [
              0.2222222222222222,
              "#7201a8"
             ],
             [
              0.3333333333333333,
              "#9c179e"
             ],
             [
              0.4444444444444444,
              "#bd3786"
             ],
             [
              0.5555555555555556,
              "#d8576b"
             ],
             [
              0.6666666666666666,
              "#ed7953"
             ],
             [
              0.7777777777777778,
              "#fb9f3a"
             ],
             [
              0.8888888888888888,
              "#fdca26"
             ],
             [
              1,
              "#f0f921"
             ]
            ],
            "type": "histogram2d"
           }
          ],
          "histogram2dcontour": [
           {
            "colorbar": {
             "outlinewidth": 0,
             "ticks": ""
            },
            "colorscale": [
             [
              0,
              "#0d0887"
             ],
             [
              0.1111111111111111,
              "#46039f"
             ],
             [
              0.2222222222222222,
              "#7201a8"
             ],
             [
              0.3333333333333333,
              "#9c179e"
             ],
             [
              0.4444444444444444,
              "#bd3786"
             ],
             [
              0.5555555555555556,
              "#d8576b"
             ],
             [
              0.6666666666666666,
              "#ed7953"
             ],
             [
              0.7777777777777778,
              "#fb9f3a"
             ],
             [
              0.8888888888888888,
              "#fdca26"
             ],
             [
              1,
              "#f0f921"
             ]
            ],
            "type": "histogram2dcontour"
           }
          ],
          "mesh3d": [
           {
            "colorbar": {
             "outlinewidth": 0,
             "ticks": ""
            },
            "type": "mesh3d"
           }
          ],
          "parcoords": [
           {
            "line": {
             "colorbar": {
              "outlinewidth": 0,
              "ticks": ""
             }
            },
            "type": "parcoords"
           }
          ],
          "pie": [
           {
            "automargin": true,
            "type": "pie"
           }
          ],
          "scatter": [
           {
            "fillpattern": {
             "fillmode": "overlay",
             "size": 10,
             "solidity": 0.2
            },
            "type": "scatter"
           }
          ],
          "scatter3d": [
           {
            "line": {
             "colorbar": {
              "outlinewidth": 0,
              "ticks": ""
             }
            },
            "marker": {
             "colorbar": {
              "outlinewidth": 0,
              "ticks": ""
             }
            },
            "type": "scatter3d"
           }
          ],
          "scattercarpet": [
           {
            "marker": {
             "colorbar": {
              "outlinewidth": 0,
              "ticks": ""
             }
            },
            "type": "scattercarpet"
           }
          ],
          "scattergeo": [
           {
            "marker": {
             "colorbar": {
              "outlinewidth": 0,
              "ticks": ""
             }
            },
            "type": "scattergeo"
           }
          ],
          "scattergl": [
           {
            "marker": {
             "colorbar": {
              "outlinewidth": 0,
              "ticks": ""
             }
            },
            "type": "scattergl"
           }
          ],
          "scattermapbox": [
           {
            "marker": {
             "colorbar": {
              "outlinewidth": 0,
              "ticks": ""
             }
            },
            "type": "scattermapbox"
           }
          ],
          "scatterpolar": [
           {
            "marker": {
             "colorbar": {
              "outlinewidth": 0,
              "ticks": ""
             }
            },
            "type": "scatterpolar"
           }
          ],
          "scatterpolargl": [
           {
            "marker": {
             "colorbar": {
              "outlinewidth": 0,
              "ticks": ""
             }
            },
            "type": "scatterpolargl"
           }
          ],
          "scatterternary": [
           {
            "marker": {
             "colorbar": {
              "outlinewidth": 0,
              "ticks": ""
             }
            },
            "type": "scatterternary"
           }
          ],
          "surface": [
           {
            "colorbar": {
             "outlinewidth": 0,
             "ticks": ""
            },
            "colorscale": [
             [
              0,
              "#0d0887"
             ],
             [
              0.1111111111111111,
              "#46039f"
             ],
             [
              0.2222222222222222,
              "#7201a8"
             ],
             [
              0.3333333333333333,
              "#9c179e"
             ],
             [
              0.4444444444444444,
              "#bd3786"
             ],
             [
              0.5555555555555556,
              "#d8576b"
             ],
             [
              0.6666666666666666,
              "#ed7953"
             ],
             [
              0.7777777777777778,
              "#fb9f3a"
             ],
             [
              0.8888888888888888,
              "#fdca26"
             ],
             [
              1,
              "#f0f921"
             ]
            ],
            "type": "surface"
           }
          ],
          "table": [
           {
            "cells": {
             "fill": {
              "color": "#EBF0F8"
             },
             "line": {
              "color": "white"
             }
            },
            "header": {
             "fill": {
              "color": "#C8D4E3"
             },
             "line": {
              "color": "white"
             }
            },
            "type": "table"
           }
          ]
         },
         "layout": {
          "annotationdefaults": {
           "arrowcolor": "#2a3f5f",
           "arrowhead": 0,
           "arrowwidth": 1
          },
          "autotypenumbers": "strict",
          "coloraxis": {
           "colorbar": {
            "outlinewidth": 0,
            "ticks": ""
           }
          },
          "colorscale": {
           "diverging": [
            [
             0,
             "#8e0152"
            ],
            [
             0.1,
             "#c51b7d"
            ],
            [
             0.2,
             "#de77ae"
            ],
            [
             0.3,
             "#f1b6da"
            ],
            [
             0.4,
             "#fde0ef"
            ],
            [
             0.5,
             "#f7f7f7"
            ],
            [
             0.6,
             "#e6f5d0"
            ],
            [
             0.7,
             "#b8e186"
            ],
            [
             0.8,
             "#7fbc41"
            ],
            [
             0.9,
             "#4d9221"
            ],
            [
             1,
             "#276419"
            ]
           ],
           "sequential": [
            [
             0,
             "#0d0887"
            ],
            [
             0.1111111111111111,
             "#46039f"
            ],
            [
             0.2222222222222222,
             "#7201a8"
            ],
            [
             0.3333333333333333,
             "#9c179e"
            ],
            [
             0.4444444444444444,
             "#bd3786"
            ],
            [
             0.5555555555555556,
             "#d8576b"
            ],
            [
             0.6666666666666666,
             "#ed7953"
            ],
            [
             0.7777777777777778,
             "#fb9f3a"
            ],
            [
             0.8888888888888888,
             "#fdca26"
            ],
            [
             1,
             "#f0f921"
            ]
           ],
           "sequentialminus": [
            [
             0,
             "#0d0887"
            ],
            [
             0.1111111111111111,
             "#46039f"
            ],
            [
             0.2222222222222222,
             "#7201a8"
            ],
            [
             0.3333333333333333,
             "#9c179e"
            ],
            [
             0.4444444444444444,
             "#bd3786"
            ],
            [
             0.5555555555555556,
             "#d8576b"
            ],
            [
             0.6666666666666666,
             "#ed7953"
            ],
            [
             0.7777777777777778,
             "#fb9f3a"
            ],
            [
             0.8888888888888888,
             "#fdca26"
            ],
            [
             1,
             "#f0f921"
            ]
           ]
          },
          "colorway": [
           "#636efa",
           "#EF553B",
           "#00cc96",
           "#ab63fa",
           "#FFA15A",
           "#19d3f3",
           "#FF6692",
           "#B6E880",
           "#FF97FF",
           "#FECB52"
          ],
          "font": {
           "color": "#2a3f5f"
          },
          "geo": {
           "bgcolor": "white",
           "lakecolor": "white",
           "landcolor": "#E5ECF6",
           "showlakes": true,
           "showland": true,
           "subunitcolor": "white"
          },
          "hoverlabel": {
           "align": "left"
          },
          "hovermode": "closest",
          "mapbox": {
           "style": "light"
          },
          "paper_bgcolor": "white",
          "plot_bgcolor": "#E5ECF6",
          "polar": {
           "angularaxis": {
            "gridcolor": "white",
            "linecolor": "white",
            "ticks": ""
           },
           "bgcolor": "#E5ECF6",
           "radialaxis": {
            "gridcolor": "white",
            "linecolor": "white",
            "ticks": ""
           }
          },
          "scene": {
           "xaxis": {
            "backgroundcolor": "#E5ECF6",
            "gridcolor": "white",
            "gridwidth": 2,
            "linecolor": "white",
            "showbackground": true,
            "ticks": "",
            "zerolinecolor": "white"
           },
           "yaxis": {
            "backgroundcolor": "#E5ECF6",
            "gridcolor": "white",
            "gridwidth": 2,
            "linecolor": "white",
            "showbackground": true,
            "ticks": "",
            "zerolinecolor": "white"
           },
           "zaxis": {
            "backgroundcolor": "#E5ECF6",
            "gridcolor": "white",
            "gridwidth": 2,
            "linecolor": "white",
            "showbackground": true,
            "ticks": "",
            "zerolinecolor": "white"
           }
          },
          "shapedefaults": {
           "line": {
            "color": "#2a3f5f"
           }
          },
          "ternary": {
           "aaxis": {
            "gridcolor": "white",
            "linecolor": "white",
            "ticks": ""
           },
           "baxis": {
            "gridcolor": "white",
            "linecolor": "white",
            "ticks": ""
           },
           "bgcolor": "#E5ECF6",
           "caxis": {
            "gridcolor": "white",
            "linecolor": "white",
            "ticks": ""
           }
          },
          "title": {
           "x": 0.05
          },
          "xaxis": {
           "automargin": true,
           "gridcolor": "white",
           "linecolor": "white",
           "ticks": "",
           "title": {
            "standoff": 15
           },
           "zerolinecolor": "white",
           "zerolinewidth": 2
          },
          "yaxis": {
           "automargin": true,
           "gridcolor": "white",
           "linecolor": "white",
           "ticks": "",
           "title": {
            "standoff": 15
           },
           "zerolinecolor": "white",
           "zerolinewidth": 2
          }
         }
        },
        "width": 800,
        "xaxis": {
         "anchor": "y",
         "autorange": true,
         "domain": [
          0,
          1
         ],
         "range": [
          -0.5,
          10.5
         ],
         "title": {
          "text": "Title"
         },
         "type": "category"
        },
        "yaxis": {
         "anchor": "x",
         "autorange": true,
         "domain": [
          0,
          1
         ],
         "range": [
          0,
          9.789473684210527
         ],
         "title": {
          "text": "Rating"
         },
         "type": "linear"
        }
       }
      },
      "image/png": "[encoded data removed]",
      "text/html": [
       "<div>                            <div id=\"4ffc5961-aa58-4e77-97d8-0cee97323866\" class=\"plotly-graph-div\" style=\"height:600px; width:800px;\"></div>            <script type=\"text/javascript\">                require([\"plotly\"], function(Plotly) {                    window.PLOTLYENV=window.PLOTLYENV || {};                                    if (document.getElementById(\"4ffc5961-aa58-4e77-97d8-0cee97323866\")) {                    Plotly.newPlot(                        \"4ffc5961-aa58-4e77-97d8-0cee97323866\",                        [{\"alignmentgroup\":\"True\",\"hovertemplate\":\"Title=%{x}\\u003cbr\\u003eRating=%{y}\\u003cextra\\u003e\\u003c\\u002fextra\\u003e\",\"legendgroup\":\"\",\"marker\":{\"color\":\"#636efa\",\"pattern\":{\"shape\":\"\"}},\"name\":\"\",\"offsetgroup\":\"\",\"orientation\":\"v\",\"showlegend\":false,\"textposition\":\"auto\",\"x\":[\"The Shawshank Redemption\",\"The Godfather\",\"The Dark Knight\",\"The Godfather Part II\",\"12 Angry Men\",\"Schindler&apos;s List\",\"The Lord of the Rings: The Return of the King\",\"Pulp Fiction\",\"The Lord of the Rings: The Fellowship of the Ring\",\"Il buono, il brutto, il cattivo\",\"Forrest Gump\"],\"xaxis\":\"x\",\"y\":[9.3,9.2,9.0,9.0,9.0,9.0,9.0,8.9,8.9,8.8,8.8],\"yaxis\":\"y\",\"type\":\"bar\"}],                        {\"template\":{\"data\":{\"histogram2dcontour\":[{\"type\":\"histogram2dcontour\",\"colorbar\":{\"outlinewidth\":0,\"ticks\":\"\"},\"colorscale\":[[0.0,\"#0d0887\"],[0.1111111111111111,\"#46039f\"],[0.2222222222222222,\"#7201a8\"],[0.3333333333333333,\"#9c179e\"],[0.4444444444444444,\"#bd3786\"],[0.5555555555555556,\"#d8576b\"],[0.6666666666666666,\"#ed7953\"],[0.7777777777777778,\"#fb9f3a\"],[0.8888888888888888,\"#fdca26\"],[1.0,\"#f0f921\"]]}],\"choropleth\":[{\"type\":\"choropleth\",\"colorbar\":{\"outlinewidth\":0,\"ticks\":\"\"}}],\"histogram2d\":[{\"type\":\"histogram2d\",\"colorbar\":{\"outlinewidth\":0,\"ticks\":\"\"},\"colorscale\":[[0.0,\"#0d0887\"],[0.1111111111111111,\"#46039f\"],[0.2222222222222222,\"#7201a8\"],[0.3333333333333333,\"#9c179e\"],[0.4444444444444444,\"#bd3786\"],[0.5555555555555556,\"#d8576b\"],[0.6666666666666666,\"#ed7953\"],[0.7777777777777778,\"#fb9f3a\"],[0.8888888888888888,\"#fdca26\"],[1.0,\"#f0f921\"]]}],\"heatmap\":[{\"type\":\"heatmap\",\"colorbar\":{\"outlinewidth\":0,\"ticks\":\"\"},\"colorscale\":[[0.0,\"#0d0887\"],[0.1111111111111111,\"#46039f\"],[0.2222222222222222,\"#7201a8\"],[0.3333333333333333,\"#9c179e\"],[0.4444444444444444,\"#bd3786\"],[0.5555555555555556,\"#d8576b\"],[0.6666666666666666,\"#ed7953\"],[0.7777777777777778,\"#fb9f3a\"],[0.8888888888888888,\"#fdca26\"],[1.0,\"#f0f921\"]]}],\"heatmapgl\":[{\"type\":\"heatmapgl\",\"colorbar\":{\"outlinewidth\":0,\"ticks\":\"\"},\"colorscale\":[[0.0,\"#0d0887\"],[0.1111111111111111,\"#46039f\"],[0.2222222222222222,\"#7201a8\"],[0.3333333333333333,\"#9c179e\"],[0.4444444444444444,\"#bd3786\"],[0.5555555555555556,\"#d8576b\"],[0.6666666666666666,\"#ed7953\"],[0.7777777777777778,\"#fb9f3a\"],[0.8888888888888888,\"#fdca26\"],[1.0,\"#f0f921\"]]}],\"contourcarpet\":[{\"type\":\"contourcarpet\",\"colorbar\":{\"outlinewidth\":0,\"ticks\":\"\"}}],\"contour\":[{\"type\":\"contour\",\"colorbar\":{\"outlinewidth\":0,\"ticks\":\"\"},\"colorscale\":[[0.0,\"#0d0887\"],[0.1111111111111111,\"#46039f\"],[0.2222222222222222,\"#7201a8\"],[0.3333333333333333,\"#9c179e\"],[0.4444444444444444,\"#bd3786\"],[0.5555555555555556,\"#d8576b\"],[0.6666666666666666,\"#ed7953\"],[0.7777777777777778,\"#fb9f3a\"],[0.8888888888888888,\"#fdca26\"],[1.0,\"#f0f921\"]]}],\"surface\":[{\"type\":\"surface\",\"colorbar\":{\"outlinewidth\":0,\"ticks\":\"\"},\"colorscale\":[[0.0,\"#0d0887\"],[0.1111111111111111,\"#46039f\"],[0.2222222222222222,\"#7201a8\"],[0.3333333333333333,\"#9c179e\"],[0.4444444444444444,\"#bd3786\"],[0.5555555555555556,\"#d8576b\"],[0.6666666666666666,\"#ed7953\"],[0.7777777777777778,\"#fb9f3a\"],[0.8888888888888888,\"#fdca26\"],[1.0,\"#f0f921\"]]}],\"mesh3d\":[{\"type\":\"mesh3d\",\"colorbar\":{\"outlinewidth\":0,\"ticks\":\"\"}}],\"scatter\":[{\"fillpattern\":{\"fillmode\":\"overlay\",\"size\":10,\"solidity\":0.2},\"type\":\"scatter\"}],\"parcoords\":[{\"type\":\"parcoords\",\"line\":{\"colorbar\":{\"outlinewidth\":0,\"ticks\":\"\"}}}],\"scatterpolargl\":[{\"type\":\"scatterpolargl\",\"marker\":{\"colorbar\":{\"outlinewidth\":0,\"ticks\":\"\"}}}],\"bar\":[{\"error_x\":{\"color\":\"#2a3f5f\"},\"error_y\":{\"color\":\"#2a3f5f\"},\"marker\":{\"line\":{\"color\":\"#E5ECF6\",\"width\":0.5},\"pattern\":{\"fillmode\":\"overlay\",\"size\":10,\"solidity\":0.2}},\"type\":\"bar\"}],\"scattergeo\":[{\"type\":\"scattergeo\",\"marker\":{\"colorbar\":{\"outlinewidth\":0,\"ticks\":\"\"}}}],\"scatterpolar\":[{\"type\":\"scatterpolar\",\"marker\":{\"colorbar\":{\"outlinewidth\":0,\"ticks\":\"\"}}}],\"histogram\":[{\"marker\":{\"pattern\":{\"fillmode\":\"overlay\",\"size\":10,\"solidity\":0.2}},\"type\":\"histogram\"}],\"scattergl\":[{\"type\":\"scattergl\",\"marker\":{\"colorbar\":{\"outlinewidth\":0,\"ticks\":\"\"}}}],\"scatter3d\":[{\"type\":\"scatter3d\",\"line\":{\"colorbar\":{\"outlinewidth\":0,\"ticks\":\"\"}},\"marker\":{\"colorbar\":{\"outlinewidth\":0,\"ticks\":\"\"}}}],\"scattermapbox\":[{\"type\":\"scattermapbox\",\"marker\":{\"colorbar\":{\"outlinewidth\":0,\"ticks\":\"\"}}}],\"scatterternary\":[{\"type\":\"scatterternary\",\"marker\":{\"colorbar\":{\"outlinewidth\":0,\"ticks\":\"\"}}}],\"scattercarpet\":[{\"type\":\"scattercarpet\",\"marker\":{\"colorbar\":{\"outlinewidth\":0,\"ticks\":\"\"}}}],\"carpet\":[{\"aaxis\":{\"endlinecolor\":\"#2a3f5f\",\"gridcolor\":\"white\",\"linecolor\":\"white\",\"minorgridcolor\":\"white\",\"startlinecolor\":\"#2a3f5f\"},\"baxis\":{\"endlinecolor\":\"#2a3f5f\",\"gridcolor\":\"white\",\"linecolor\":\"white\",\"minorgridcolor\":\"white\",\"startlinecolor\":\"#2a3f5f\"},\"type\":\"carpet\"}],\"table\":[{\"cells\":{\"fill\":{\"color\":\"#EBF0F8\"},\"line\":{\"color\":\"white\"}},\"header\":{\"fill\":{\"color\":\"#C8D4E3\"},\"line\":{\"color\":\"white\"}},\"type\":\"table\"}],\"barpolar\":[{\"marker\":{\"line\":{\"color\":\"#E5ECF6\",\"width\":0.5},\"pattern\":{\"fillmode\":\"overlay\",\"size\":10,\"solidity\":0.2}},\"type\":\"barpolar\"}],\"pie\":[{\"automargin\":true,\"type\":\"pie\"}]},\"layout\":{\"autotypenumbers\":\"strict\",\"colorway\":[\"#636efa\",\"#EF553B\",\"#00cc96\",\"#ab63fa\",\"#FFA15A\",\"#19d3f3\",\"#FF6692\",\"#B6E880\",\"#FF97FF\",\"#FECB52\"],\"font\":{\"color\":\"#2a3f5f\"},\"hovermode\":\"closest\",\"hoverlabel\":{\"align\":\"left\"},\"paper_bgcolor\":\"white\",\"plot_bgcolor\":\"#E5ECF6\",\"polar\":{\"bgcolor\":\"#E5ECF6\",\"angularaxis\":{\"gridcolor\":\"white\",\"linecolor\":\"white\",\"ticks\":\"\"},\"radialaxis\":{\"gridcolor\":\"white\",\"linecolor\":\"white\",\"ticks\":\"\"}},\"ternary\":{\"bgcolor\":\"#E5ECF6\",\"aaxis\":{\"gridcolor\":\"white\",\"linecolor\":\"white\",\"ticks\":\"\"},\"baxis\":{\"gridcolor\":\"white\",\"linecolor\":\"white\",\"ticks\":\"\"},\"caxis\":{\"gridcolor\":\"white\",\"linecolor\":\"white\",\"ticks\":\"\"}},\"coloraxis\":{\"colorbar\":{\"outlinewidth\":0,\"ticks\":\"\"}},\"colorscale\":{\"sequential\":[[0.0,\"#0d0887\"],[0.1111111111111111,\"#46039f\"],[0.2222222222222222,\"#7201a8\"],[0.3333333333333333,\"#9c179e\"],[0.4444444444444444,\"#bd3786\"],[0.5555555555555556,\"#d8576b\"],[0.6666666666666666,\"#ed7953\"],[0.7777777777777778,\"#fb9f3a\"],[0.8888888888888888,\"#fdca26\"],[1.0,\"#f0f921\"]],\"sequentialminus\":[[0.0,\"#0d0887\"],[0.1111111111111111,\"#46039f\"],[0.2222222222222222,\"#7201a8\"],[0.3333333333333333,\"#9c179e\"],[0.4444444444444444,\"#bd3786\"],[0.5555555555555556,\"#d8576b\"],[0.6666666666666666,\"#ed7953\"],[0.7777777777777778,\"#fb9f3a\"],[0.8888888888888888,\"#fdca26\"],[1.0,\"#f0f921\"]],\"diverging\":[[0,\"#8e0152\"],[0.1,\"#c51b7d\"],[0.2,\"#de77ae\"],[0.3,\"#f1b6da\"],[0.4,\"#fde0ef\"],[0.5,\"#f7f7f7\"],[0.6,\"#e6f5d0\"],[0.7,\"#b8e186\"],[0.8,\"#7fbc41\"],[0.9,\"#4d9221\"],[1,\"#276419\"]]},\"xaxis\":{\"gridcolor\":\"white\",\"linecolor\":\"white\",\"ticks\":\"\",\"title\":{\"standoff\":15},\"zerolinecolor\":\"white\",\"automargin\":true,\"zerolinewidth\":2},\"yaxis\":{\"gridcolor\":\"white\",\"linecolor\":\"white\",\"ticks\":\"\",\"title\":{\"standoff\":15},\"zerolinecolor\":\"white\",\"automargin\":true,\"zerolinewidth\":2},\"scene\":{\"xaxis\":{\"backgroundcolor\":\"#E5ECF6\",\"gridcolor\":\"white\",\"linecolor\":\"white\",\"showbackground\":true,\"ticks\":\"\",\"zerolinecolor\":\"white\",\"gridwidth\":2},\"yaxis\":{\"backgroundcolor\":\"#E5ECF6\",\"gridcolor\":\"white\",\"linecolor\":\"white\",\"showbackground\":true,\"ticks\":\"\",\"zerolinecolor\":\"white\",\"gridwidth\":2},\"zaxis\":{\"backgroundcolor\":\"#E5ECF6\",\"gridcolor\":\"white\",\"linecolor\":\"white\",\"showbackground\":true,\"ticks\":\"\",\"zerolinecolor\":\"white\",\"gridwidth\":2}},\"shapedefaults\":{\"line\":{\"color\":\"#2a3f5f\"}},\"annotationdefaults\":{\"arrowcolor\":\"#2a3f5f\",\"arrowhead\":0,\"arrowwidth\":1},\"geo\":{\"bgcolor\":\"white\",\"landcolor\":\"#E5ECF6\",\"subunitcolor\":\"white\",\"showland\":true,\"showlakes\":true,\"lakecolor\":\"white\"},\"title\":{\"x\":0.05},\"mapbox\":{\"style\":\"light\"}}},\"xaxis\":{\"anchor\":\"y\",\"domain\":[0.0,1.0],\"title\":{\"text\":\"Title\"}},\"yaxis\":{\"anchor\":\"x\",\"domain\":[0.0,1.0],\"title\":{\"text\":\"Rating\"}},\"legend\":{\"tracegroupgap\":0},\"margin\":{\"t\":60},\"barmode\":\"relative\",\"height\":600,\"width\":800},                        {\"responsive\": true}                    ).then(function(){\n",
       "                            \n",
       "var gd = document.getElementById('4ffc5961-aa58-4e77-97d8-0cee97323866');\n",
       "var x = new MutationObserver(function (mutations, observer) {{\n",
       "        var display = window.getComputedStyle(gd).display;\n",
       "        if (!display || display === 'none') {{\n",
       "            console.log([gd, 'removed!']);\n",
       "            Plotly.purge(gd);\n",
       "            observer.disconnect();\n",
       "        }}\n",
       "}});\n",
       "\n",
       "// Listen for the removal of the full notebook cells\n",
       "var notebookContainer = gd.closest('#notebook-container');\n",
       "if (notebookContainer) {{\n",
       "    x.observe(notebookContainer, {childList: true});\n",
       "}}\n",
       "\n",
       "// Listen for the clearing of the current output cell\n",
       "var outputEl = gd.closest('.output');\n",
       "if (outputEl) {{\n",
       "    x.observe(outputEl, {childList: true});\n",
       "}}\n",
       "\n",
       "                        })                };                });            </script>        </div>"
      ]
     },
     "metadata": {},
     "output_type": "display_data"
    }
   ],
   "source": [
    "import plotly.express as px\n",
    "fig = px.bar(high_rating_movies.loc[0:10], x = \"Title\", y = \"Rating\", height=600, width=800)\n",
    "fig.show()"
   ]
  },
  {
   "cell_type": "code",
   "execution_count": null,
   "id": "a5d31092-0810-45e2-94e6-02159cb60b55",
   "metadata": {},
   "outputs": [],
   "source": []
  }
 ],
 "metadata": {
  "kernelspec": {
   "display_name": "Python 3 (ipykernel)",
   "language": "python",
   "name": "python3"
  },
  "language_info": {
   "codemirror_mode": {
    "name": "ipython",
    "version": 3
   },
   "file_extension": ".py",
   "mimetype": "text/x-python",
   "name": "python",
   "nbconvert_exporter": "python",
   "pygments_lexer": "ipython3",
   "version": "3.11.7"
  }
 },
 "nbformat": 4,
 "nbformat_minor": 5
}
