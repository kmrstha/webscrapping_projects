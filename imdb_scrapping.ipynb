{
 "cells": [
  {
   "cell_type": "code",
   "execution_count": 1,
   "id": "781310c0-c80f-4bc9-83d4-c920c1b6f3e2",
   "metadata": {},
   "outputs": [],
   "source": [
    "from bs4 import BeautifulSoup\n",
    "import requests"
   ]
  },
  {
   "cell_type": "code",
   "execution_count": 2,
   "id": "92c945ff-d164-4fac-bd05-a27b3e75ba02",
   "metadata": {},
   "outputs": [
    {
     "data": {
      "text/plain": [
       "<Response [200]>"
      ]
     },
     "execution_count": 2,
     "metadata": {},
     "output_type": "execute_result"
    }
   ],
   "source": [
    "# URL of the IMDb Top 250 movies chart\n",
    "url = 'https://www.imdb.com/chart/top/'\n",
    "\n",
    "# Define headers to mimic a web browser\n",
    "headers = {\n",
    "    'User-Agent': 'Mozilla/5.0 (Windows NT 10.0; Win64; x64) AppleWebKit/537.36 (KHTML, like Gecko) Chrome/58.0.3029.110 Safari/537.36'\n",
    "}\n",
    "\n",
    "# Fetch the content from the URL with headers\n",
    "response = requests.get(url, headers=headers)\n",
    "response"
   ]
  },
  {
   "cell_type": "code",
   "execution_count": 3,
   "id": "2c0e56a7-61ed-48c9-bc2d-9beba50f9937",
   "metadata": {},
   "outputs": [],
   "source": [
    "soup = BeautifulSoup(response.text,'html')"
   ]
  },
  {
   "cell_type": "code",
   "execution_count": 4,
   "id": "faffa852-b0a0-458f-bf85-120f550fd0a2",
   "metadata": {},
   "outputs": [],
   "source": [
    "def convert_duration(duration):\n",
    "    hours = 0\n",
    "    minutes = 0\n",
    "    if 'H' in duration:\n",
    "        hours = int(duration.split('H')[0].replace('PT', ''))\n",
    "    if 'M' in duration:\n",
    "        minutes_part = duration.split('H')[-1] if 'H' in duration else duration.replace('PT', '')\n",
    "        minutes = int(minutes_part.replace('M', ''))\n",
    "    return f\"{hours}h {minutes}m\""
   ]
  },
  {
   "cell_type": "code",
   "execution_count": 5,
   "id": "514729b2-c119-4db3-b798-c77a3e19e70b",
   "metadata": {},
   "outputs": [
    {
     "name": "stdout",
     "output_type": "stream",
     "text": [
      "Data successfully saved to imdb.csv\n"
     ]
    }
   ],
   "source": [
    "import json\n",
    "import csv\n",
    "if response.status_code == 200:\n",
    "    # Parse the HTML content\n",
    "    soup = BeautifulSoup(response.text, 'html.parser')\n",
    "    \n",
    "    # Find the script tag with type \"application/ld+json\"\n",
    "    script_tag = soup.find('script', type='application/ld+json')\n",
    "    \n",
    "    if script_tag:\n",
    "        # Parse the JSON content\n",
    "        json_content = json.loads(script_tag.string)\n",
    "\n",
    "        # Define the CSV file name\n",
    "        filename = 'imdb.csv'\n",
    "\n",
    "        # Specify the column names for the CSV\n",
    "        fieldnames = ['Title', 'Link', 'Rating', 'Description', 'Genre', 'Duration (hrs)']\n",
    "\n",
    "        # Write the movie details to the CSV file\n",
    "        with open(filename, mode='w', newline='', encoding='utf-8') as file:\n",
    "            writer = csv.DictWriter(file, fieldnames=fieldnames)\n",
    "\n",
    "            # Write the header row\n",
    "            writer.writeheader()\n",
    "        \n",
    "            # Extract movie data\n",
    "            for item in json_content['itemListElement']:\n",
    "                movie = item['item']\n",
    "                title = movie['name']\n",
    "                link = movie['url']\n",
    "                rating = movie['aggregateRating']['ratingValue']\n",
    "                description = movie['description']\n",
    "                genre = movie['genre']\n",
    "                duration = movie['duration']\n",
    "                total_hours = convert_duration(duration)\n",
    "                \n",
    "                # Write the movie details to the CSV file\n",
    "                writer.writerow({\n",
    "                    'Title': title,\n",
    "                    'Link': link,\n",
    "                    'Rating': rating,\n",
    "                    'Description': description,\n",
    "                    'Genre': genre,\n",
    "                    'Duration (hrs)': total_hours\n",
    "                })\n",
    "\n",
    "        print(f\"Data successfully saved to {filename}\")\n",
    "    else:\n",
    "        print('The specified script tag was not found.')\n",
    "else:\n",
    "    print('Failed to retrieve the webpage. Status code:', response.status_code)"
   ]
  },
  {
   "cell_type": "code",
   "execution_count": 6,
   "id": "41377adc-d30d-4c25-a533-6c7538989188",
   "metadata": {},
   "outputs": [
    {
     "data": {
      "text/html": [
       "<div>\n",
       "<style scoped>\n",
       "    .dataframe tbody tr th:only-of-type {\n",
       "        vertical-align: middle;\n",
       "    }\n",
       "\n",
       "    .dataframe tbody tr th {\n",
       "        vertical-align: top;\n",
       "    }\n",
       "\n",
       "    .dataframe thead th {\n",
       "        text-align: right;\n",
       "    }\n",
       "</style>\n",
       "<table border=\"1\" class=\"dataframe\">\n",
       "  <thead>\n",
       "    <tr style=\"text-align: right;\">\n",
       "      <th></th>\n",
       "      <th>Title</th>\n",
       "      <th>Link</th>\n",
       "      <th>Rating</th>\n",
       "      <th>Description</th>\n",
       "      <th>Genre</th>\n",
       "      <th>Duration (hrs)</th>\n",
       "    </tr>\n",
       "  </thead>\n",
       "  <tbody>\n",
       "    <tr>\n",
       "      <th>0</th>\n",
       "      <td>The Shawshank Redemption</td>\n",
       "      <td>https://www.imdb.com/title/tt0111161/</td>\n",
       "      <td>9.3</td>\n",
       "      <td>Over the course of several years, two convicts...</td>\n",
       "      <td>Drama</td>\n",
       "      <td>2h 22m</td>\n",
       "    </tr>\n",
       "    <tr>\n",
       "      <th>1</th>\n",
       "      <td>The Godfather</td>\n",
       "      <td>https://www.imdb.com/title/tt0068646/</td>\n",
       "      <td>9.2</td>\n",
       "      <td>The aging patriarch of an organized crime dyna...</td>\n",
       "      <td>Crime, Drama</td>\n",
       "      <td>2h 55m</td>\n",
       "    </tr>\n",
       "    <tr>\n",
       "      <th>2</th>\n",
       "      <td>The Dark Knight</td>\n",
       "      <td>https://www.imdb.com/title/tt0468569/</td>\n",
       "      <td>9.0</td>\n",
       "      <td>When the menace known as the Joker wreaks havo...</td>\n",
       "      <td>Action, Crime, Drama</td>\n",
       "      <td>2h 32m</td>\n",
       "    </tr>\n",
       "    <tr>\n",
       "      <th>3</th>\n",
       "      <td>The Godfather Part II</td>\n",
       "      <td>https://www.imdb.com/title/tt0071562/</td>\n",
       "      <td>9.0</td>\n",
       "      <td>The early life and career of Vito Corleone in ...</td>\n",
       "      <td>Crime, Drama</td>\n",
       "      <td>3h 22m</td>\n",
       "    </tr>\n",
       "    <tr>\n",
       "      <th>4</th>\n",
       "      <td>12 Angry Men</td>\n",
       "      <td>https://www.imdb.com/title/tt0050083/</td>\n",
       "      <td>9.0</td>\n",
       "      <td>The jury in a New York City murder trial is fr...</td>\n",
       "      <td>Crime, Drama</td>\n",
       "      <td>1h 36m</td>\n",
       "    </tr>\n",
       "    <tr>\n",
       "      <th>...</th>\n",
       "      <td>...</td>\n",
       "      <td>...</td>\n",
       "      <td>...</td>\n",
       "      <td>...</td>\n",
       "      <td>...</td>\n",
       "      <td>...</td>\n",
       "    </tr>\n",
       "    <tr>\n",
       "      <th>245</th>\n",
       "      <td>It Happened One Night</td>\n",
       "      <td>https://www.imdb.com/title/tt0025316/</td>\n",
       "      <td>8.1</td>\n",
       "      <td>A rogue reporter trailing a runaway heiress fo...</td>\n",
       "      <td>Comedy, Romance</td>\n",
       "      <td>1h 45m</td>\n",
       "    </tr>\n",
       "    <tr>\n",
       "      <th>246</th>\n",
       "      <td>Drishyam</td>\n",
       "      <td>https://www.imdb.com/title/tt4430212/</td>\n",
       "      <td>8.2</td>\n",
       "      <td>Desperate measures are taken by a man who trie...</td>\n",
       "      <td>Crime, Drama, Mystery</td>\n",
       "      <td>2h 43m</td>\n",
       "    </tr>\n",
       "    <tr>\n",
       "      <th>247</th>\n",
       "      <td>Aladdin</td>\n",
       "      <td>https://www.imdb.com/title/tt0103639/</td>\n",
       "      <td>8.0</td>\n",
       "      <td>A kind-hearted street urchin and a power-hungr...</td>\n",
       "      <td>Animation, Adventure, Comedy</td>\n",
       "      <td>1h 30m</td>\n",
       "    </tr>\n",
       "    <tr>\n",
       "      <th>248</th>\n",
       "      <td>Dances with Wolves</td>\n",
       "      <td>https://www.imdb.com/title/tt0099348/</td>\n",
       "      <td>8.0</td>\n",
       "      <td>Lieutenant John Dunbar, assigned to a remote w...</td>\n",
       "      <td>Adventure, Drama, Western</td>\n",
       "      <td>3h 1m</td>\n",
       "    </tr>\n",
       "    <tr>\n",
       "      <th>249</th>\n",
       "      <td>Gangs of Wasseypur</td>\n",
       "      <td>https://www.imdb.com/title/tt1954470/</td>\n",
       "      <td>8.2</td>\n",
       "      <td>A clash between Sultan and Shahid Khan leads t...</td>\n",
       "      <td>Action, Comedy, Crime</td>\n",
       "      <td>5h 21m</td>\n",
       "    </tr>\n",
       "  </tbody>\n",
       "</table>\n",
       "<p>250 rows × 6 columns</p>\n",
       "</div>"
      ],
      "text/plain": [
       "                        Title                                   Link  Rating  \\\n",
       "0    The Shawshank Redemption  https://www.imdb.com/title/tt0111161/     9.3   \n",
       "1               The Godfather  https://www.imdb.com/title/tt0068646/     9.2   \n",
       "2             The Dark Knight  https://www.imdb.com/title/tt0468569/     9.0   \n",
       "3       The Godfather Part II  https://www.imdb.com/title/tt0071562/     9.0   \n",
       "4                12 Angry Men  https://www.imdb.com/title/tt0050083/     9.0   \n",
       "..                        ...                                    ...     ...   \n",
       "245     It Happened One Night  https://www.imdb.com/title/tt0025316/     8.1   \n",
       "246                  Drishyam  https://www.imdb.com/title/tt4430212/     8.2   \n",
       "247                   Aladdin  https://www.imdb.com/title/tt0103639/     8.0   \n",
       "248        Dances with Wolves  https://www.imdb.com/title/tt0099348/     8.0   \n",
       "249        Gangs of Wasseypur  https://www.imdb.com/title/tt1954470/     8.2   \n",
       "\n",
       "                                           Description  \\\n",
       "0    Over the course of several years, two convicts...   \n",
       "1    The aging patriarch of an organized crime dyna...   \n",
       "2    When the menace known as the Joker wreaks havo...   \n",
       "3    The early life and career of Vito Corleone in ...   \n",
       "4    The jury in a New York City murder trial is fr...   \n",
       "..                                                 ...   \n",
       "245  A rogue reporter trailing a runaway heiress fo...   \n",
       "246  Desperate measures are taken by a man who trie...   \n",
       "247  A kind-hearted street urchin and a power-hungr...   \n",
       "248  Lieutenant John Dunbar, assigned to a remote w...   \n",
       "249  A clash between Sultan and Shahid Khan leads t...   \n",
       "\n",
       "                            Genre Duration (hrs)  \n",
       "0                           Drama         2h 22m  \n",
       "1                    Crime, Drama         2h 55m  \n",
       "2            Action, Crime, Drama         2h 32m  \n",
       "3                    Crime, Drama         3h 22m  \n",
       "4                    Crime, Drama         1h 36m  \n",
       "..                            ...            ...  \n",
       "245               Comedy, Romance         1h 45m  \n",
       "246         Crime, Drama, Mystery         2h 43m  \n",
       "247  Animation, Adventure, Comedy         1h 30m  \n",
       "248     Adventure, Drama, Western          3h 1m  \n",
       "249         Action, Comedy, Crime         5h 21m  \n",
       "\n",
       "[250 rows x 6 columns]"
      ]
     },
     "execution_count": 6,
     "metadata": {},
     "output_type": "execute_result"
    }
   ],
   "source": [
    "import pandas as pd\n",
    "df = pd.read_csv('imdb.csv', encoding = 'latin1')\n",
    "df"
   ]
  },
  {
   "cell_type": "code",
   "execution_count": 12,
   "id": "76f12413-ce1c-4614-8891-3e474b10b275",
   "metadata": {},
   "outputs": [
    {
     "name": "stdout",
     "output_type": "stream",
     "text": [
      "The Shawshank Redemption\n",
      "The Godfather\n",
      "The Dark Knight\n",
      "The Godfather Part II\n",
      "12 Angry Men\n",
      "Schindler&apos;s List\n",
      "The Lord of the Rings: The Return of the King\n",
      "Pulp Fiction\n",
      "The Lord of the Rings: The Fellowship of the Ring\n",
      "Il buono, il brutto, il cattivo\n",
      "Forrest Gump\n",
      "The Lord of the Rings: The Two Towers\n",
      "Fight Club\n",
      "Goodfellas\n",
      "One Flew Over the Cuckoo&apos;s Nest\n",
      "Se7en\n",
      "Interstellar\n",
      "It&apos;s a Wonderful Life\n",
      "Shichinin no samurai\n",
      "The Silence of the Lambs\n",
      "Saving Private Ryan\n",
      "Cidade de Deus\n",
      "La vita Ã¨ bella\n",
      "The Green Mile\n",
      "The Pianist\n",
      "Dune: Part Two\n",
      "Gisaengchung\n",
      "Gladiator\n",
      "The Lion King\n",
      "The Departed\n",
      "LÃ©on\n",
      "American History X\n",
      "Whiplash\n",
      "The Prestige\n",
      "Hotaru no haka\n",
      "Seppuku\n",
      "The Usual Suspects\n",
      "Casablanca\n",
      "Intouchables\n",
      "Nuovo Cinema Paradiso\n",
      "Modern Times\n",
      "C&apos;era una volta il West\n",
      "City Lights\n",
      "Django Unchained\n",
      "Apocalypse Now\n",
      "12th Fail\n",
      "Das Leben der Anderen\n",
      "Sunset Blvd.\n",
      "Paths of Glory\n",
      "Witness for the Prosecution\n",
      "The Shining\n",
      "The Great Dictator\n",
      "Inglourious Basterds\n",
      "The Dark Knight Rises\n",
      "Coco\n",
      "Oldeuboi\n",
      "Amadeus\n",
      "American Beauty\n",
      "Avengers: Endgame\n",
      "Das Boot\n",
      "Braveheart\n",
      "Good Will Hunting\n",
      "Joker\n",
      "Kimi no na wa.\n",
      "Tengoku to jigoku\n",
      "Once Upon a Time in America\n",
      "3 Idiots\n",
      "CapharnaÃ¼m\n",
      "Idi i smotri\n",
      "Requiem for a Dream\n",
      "Eternal Sunshine of the Spotless Mind\n",
      "Jagten\n",
      "Ikiru\n",
      "Oppenheimer\n",
      "Lawrence of Arabia\n",
      "The Apartment\n",
      "Incendies\n",
      "Citizen Kane\n",
      "Scarface\n",
      "Double Indemnity\n",
      "Full Metal Jacket\n",
      "Heat\n",
      "To Kill a Mockingbird\n",
      "Jodaeiye Nader az Simin\n",
      "The Sting\n",
      "Taare Zameen Par\n",
      "Metropolis\n",
      "1917\n",
      "L.A. Confidential\n",
      "Ladri di biciclette\n",
      "Hamilton\n",
      "Taxi Driver\n",
      "Der Untergang\n",
      "Dangal\n",
      "Per qualche dollaro in piÃ¹\n",
      "Batman Begins\n",
      "Green Book\n",
      "The Kid\n",
      "The Father\n",
      "Judgment at Nuremberg\n",
      "The Truman Show\n",
      "All About Eve\n",
      "Shutter Island\n",
      "Top Gun: Maverick\n",
      "There Will Be Blood\n",
      "Casino\n",
      "Ran\n",
      "The Sixth Sense\n",
      "El laberinto del fauno\n",
      "Unforgiven\n",
      "No Country for Old Men\n",
      "A Beautiful Mind\n",
      "The Treasure of the Sierra Madre\n",
      "YÃ´jinbÃ´\n",
      "The Great Escape\n",
      "Prisoners\n",
      "RashÃ´mon\n",
      "The Elephant Man\n",
      "Chinatown\n",
      "Gone with the Wind\n",
      "V for Vendetta\n",
      "El secreto de sus ojos\n",
      "Raging Bull\n",
      "Three Billboards Outside Ebbing, Missouri\n",
      "Trainspotting\n",
      "The Bridge on the River Kwai\n",
      "Catch Me If You Can\n",
      "Warrior\n",
      "Gran Torino\n",
      "Million Dollar Baby\n",
      "Bacheha-Ye aseman\n",
      "12 Years a Slave\n",
      "Ben-Hur\n",
      "Blade Runner\n",
      "Before Sunrise\n",
      "Barry Lyndon\n",
      "Gone Girl\n",
      "Hacksaw Ridge\n",
      "Dead Poets Society\n",
      "The Gold Rush\n",
      "Salinui chueok\n",
      "In the Name of the Father\n",
      "Relatos salvajes\n",
      "The Deer Hunter\n",
      "On the Waterfront\n",
      "Mary and Max.\n",
      "Le salaire de la peur\n",
      "SmultronstÃ¤llet\n",
      "Mr. Smith Goes to Washington\n",
      "Ford v Ferrari\n",
      "TÃ´kyÃ´ monogatari\n",
      "Rocky\n",
      "Det sjunde inseglet\n",
      "Room\n",
      "Logan\n",
      "Spotlight\n",
      "Hotel Rwanda\n",
      "Platoon\n",
      "La passion de Jeanne d&apos;Arc\n",
      "La haine\n",
      "Before Sunset\n",
      "The Best Years of Our Lives\n",
      "Jai Bhim\n",
      "Rush\n",
      "Network\n",
      "Stand by Me\n",
      "Hachi: A Dog&apos;s Tale\n",
      "Babam ve Oglum\n",
      "Ah-ga-ssi\n",
      "The Sound of Music\n",
      "Into the Wild\n",
      "La battaglia di Algeri\n",
      "The Grapes of Wrath\n",
      "Groundhog Day\n",
      "Amores perros\n",
      "Rebecca\n",
      "Cool Hand Luke\n",
      "The Help\n",
      "Drishyam\n",
      "Dances with Wolves\n"
     ]
    }
   ],
   "source": [
    "drama_movies = df[df['Genre'].str.contains('Drama')]\n",
    "# Print the titles of drama movies\n",
    "for title in drama_movies['Title']:\n",
    "    print(title)"
   ]
  },
  {
   "cell_type": "code",
   "execution_count": 15,
   "id": "a7821cd4-fdc6-4959-80b0-08d57f8ca84b",
   "metadata": {},
   "outputs": [
    {
     "name": "stdout",
     "output_type": "stream",
     "text": [
      "The Shawshank Redemption\n",
      "The Godfather\n",
      "The Dark Knight\n",
      "The Godfather Part II\n",
      "12 Angry Men\n",
      "Schindler&apos;s List\n",
      "The Lord of the Rings: The Return of the King\n",
      "Pulp Fiction\n",
      "The Lord of the Rings: The Fellowship of the Ring\n",
      "Il buono, il brutto, il cattivo\n",
      "Forrest Gump\n",
      "The Lord of the Rings: The Two Towers\n",
      "Fight Club\n",
      "Inception\n",
      "Star Wars: Episode V - The Empire Strikes Back\n",
      "The Matrix\n",
      "Goodfellas\n",
      "One Flew Over the Cuckoo&apos;s Nest\n",
      "Se7en\n",
      "Interstellar\n",
      "It&apos;s a Wonderful Life\n",
      "Shichinin no samurai\n",
      "The Silence of the Lambs\n",
      "Saving Private Ryan\n",
      "Cidade de Deus\n",
      "La vita Ã¨ bella\n",
      "The Green Mile\n",
      "Terminator 2: Judgment Day\n",
      "Star Wars\n",
      "Back to the Future\n",
      "Sen to Chihiro no kamikakushi\n",
      "The Pianist\n",
      "Dune: Part Two\n",
      "Gisaengchung\n",
      "Psycho\n",
      "Gladiator\n",
      "Spider-Man: Across the Spider-Verse\n",
      "The Lion King\n",
      "The Departed\n",
      "LÃ©on\n",
      "American History X\n",
      "Whiplash\n",
      "The Prestige\n",
      "Hotaru no haka\n",
      "Seppuku\n",
      "The Usual Suspects\n",
      "Casablanca\n",
      "Intouchables\n",
      "Nuovo Cinema Paradiso\n",
      "Modern Times\n",
      "Rear Window\n",
      "C&apos;era una volta il West\n",
      "Alien\n",
      "City Lights\n",
      "Django Unchained\n",
      "Apocalypse Now\n",
      "Memento\n",
      "WALLÂ·E\n",
      "12th Fail\n",
      "Raiders of the Lost Ark\n",
      "Das Leben der Anderen\n",
      "Sunset Blvd.\n",
      "Avengers: Infinity War\n",
      "Paths of Glory\n",
      "Spider-Man: Into the Spider-Verse\n",
      "Witness for the Prosecution\n",
      "The Shining\n",
      "The Great Dictator\n",
      "Aliens\n",
      "Inglourious Basterds\n",
      "The Dark Knight Rises\n",
      "Coco\n",
      "Dr. Strangelove or: How I Learned to Stop Worrying and Love the Bomb\n",
      "Oldeuboi\n",
      "Amadeus\n",
      "American Beauty\n",
      "Toy Story\n",
      "Avengers: Endgame\n",
      "Das Boot\n",
      "Braveheart\n",
      "Good Will Hunting\n",
      "Mononoke-hime\n",
      "Joker\n",
      "Kimi no na wa.\n",
      "Tengoku to jigoku\n",
      "Once Upon a Time in America\n",
      "3 Idiots\n",
      "Singin&apos; in the Rain\n",
      "CapharnaÃ¼m\n",
      "Idi i smotri\n",
      "Requiem for a Dream\n",
      "Toy Story 3\n",
      "Star Wars: Episode VI - Return of the Jedi\n",
      "Eternal Sunshine of the Spotless Mind\n",
      "Jagten\n",
      "2001: A Space Odyssey\n",
      "Reservoir Dogs\n",
      "Ikiru\n",
      "Oppenheimer\n",
      "Lawrence of Arabia\n",
      "The Apartment\n",
      "Incendies\n",
      "North by Northwest\n",
      "Citizen Kane\n",
      "M - Eine Stadt sucht einen MÃ¶rder\n",
      "Scarface\n",
      "Double Indemnity\n",
      "Vertigo\n",
      "Full Metal Jacket\n",
      "Le fabuleux destin d&apos;AmÃ©lie Poulain\n",
      "Heat\n",
      "Up\n",
      "A Clockwork Orange\n",
      "To Kill a Mockingbird\n",
      "Jodaeiye Nader az Simin\n",
      "The Sting\n",
      "Indiana Jones and the Last Crusade\n",
      "Die Hard\n",
      "Taare Zameen Par\n",
      "Metropolis\n",
      "Snatch\n",
      "1917\n",
      "L.A. Confidential\n",
      "Ladri di biciclette\n",
      "Hamilton\n",
      "Taxi Driver\n",
      "Der Untergang\n",
      "Dangal\n",
      "Per qualche dollaro in piÃ¹\n",
      "Batman Begins\n",
      "The Wolf of Wall Street\n",
      "Some Like It Hot\n",
      "Green Book\n",
      "The Kid\n",
      "The Father\n",
      "Judgment at Nuremberg\n",
      "The Truman Show\n",
      "All About Eve\n",
      "Shutter Island\n",
      "Top Gun: Maverick\n",
      "There Will Be Blood\n",
      "Casino\n",
      "Jurassic Park\n",
      "Ran\n",
      "The Sixth Sense\n",
      "El laberinto del fauno\n",
      "Unforgiven\n",
      "No Country for Old Men\n",
      "A Beautiful Mind\n",
      "The Thing\n",
      "Kill Bill: Vol. 1\n",
      "The Treasure of the Sierra Madre\n",
      "YÃ´jinbÃ´\n",
      "Monty Python and the Holy Grail\n",
      "The Great Escape\n",
      "Finding Nemo\n",
      "Prisoners\n",
      "Hauru no ugoku shiro\n",
      "RashÃ´mon\n",
      "The Elephant Man\n",
      "Dial M for Murder\n",
      "Chinatown\n",
      "Gone with the Wind\n",
      "Lock, Stock and Two Smoking Barrels\n",
      "V for Vendetta\n",
      "El secreto de sus ojos\n",
      "Inside Out\n",
      "Raging Bull\n",
      "Three Billboards Outside Ebbing, Missouri\n",
      "Trainspotting\n",
      "The Bridge on the River Kwai\n",
      "Klaus\n",
      "Fargo\n",
      "Catch Me If You Can\n",
      "Spider-Man: No Way Home\n",
      "Warrior\n",
      "Gran Torino\n",
      "Harry Potter and the Deathly Hallows - Part 2\n",
      "Million Dollar Baby\n",
      "Tonari no Totoro\n",
      "Bacheha-Ye aseman\n",
      "12 Years a Slave\n",
      "Ben-Hur\n",
      "Blade Runner\n",
      "Before Sunrise\n",
      "Barry Lyndon\n",
      "The Grand Budapest Hotel\n",
      "Mad Max: Fury Road\n",
      "Gone Girl\n",
      "Hacksaw Ridge\n",
      "Dead Poets Society\n",
      "The Gold Rush\n",
      "Salinui chueok\n",
      "In the Name of the Father\n",
      "Relatos salvajes\n",
      "Monsters, Inc.\n",
      "The Deer Hunter\n",
      "The General\n",
      "On the Waterfront\n",
      "Sherlock Jr.\n",
      "How to Train Your Dragon\n",
      "Jaws\n",
      "Mary and Max.\n",
      "The Third Man\n",
      "Le salaire de la peur\n",
      "Ratatouille\n",
      "SmultronstÃ¤llet\n",
      "Mr. Smith Goes to Washington\n",
      "Ford v Ferrari\n",
      "TÃ´kyÃ´ monogatari\n",
      "The Big Lebowski\n",
      "Rocky\n",
      "Det sjunde inseglet\n",
      "Room\n",
      "Logan\n",
      "Spotlight\n",
      "Hotel Rwanda\n",
      "The Terminator\n",
      "Platoon\n",
      "La passion de Jeanne d&apos;Arc\n",
      "La haine\n",
      "Before Sunset\n",
      "Pirates of the Caribbean: The Curse of the Black Pearl\n",
      "The Best Years of Our Lives\n",
      "The Exorcist\n",
      "Jai Bhim\n",
      "Rush\n",
      "Network\n",
      "The Wizard of Oz\n",
      "Stand by Me\n",
      "Hachi: A Dog&apos;s Tale\n",
      "Babam ve Oglum\n",
      "Ah-ga-ssi\n",
      "The Sound of Music\n",
      "Into the Wild\n",
      "To Be or Not to Be\n",
      "La battaglia di Algeri\n",
      "The Grapes of Wrath\n",
      "Amores perros\n",
      "The Iron Giant\n",
      "Rebecca\n",
      "Cool Hand Luke\n",
      "The Help\n",
      "It Happened One Night\n",
      "Drishyam\n",
      "Gangs of Wasseypur\n"
     ]
    }
   ],
   "source": [
    "high_rating_movies = df[df['Rating'] > 8]\n",
    "\n",
    "# Print the titles of movies with a rating greater than 8\n",
    "for title in high_rating_movies['Title']:\n",
    "    print(title)"
   ]
  },
  {
   "cell_type": "code",
   "execution_count": 16,
   "id": "4fc74142-eeb7-455b-bd56-834b4ab89f63",
   "metadata": {},
   "outputs": [
    {
     "data": {
      "text/html": [
       "<div>\n",
       "<style scoped>\n",
       "    .dataframe tbody tr th:only-of-type {\n",
       "        vertical-align: middle;\n",
       "    }\n",
       "\n",
       "    .dataframe tbody tr th {\n",
       "        vertical-align: top;\n",
       "    }\n",
       "\n",
       "    .dataframe thead th {\n",
       "        text-align: right;\n",
       "    }\n",
       "</style>\n",
       "<table border=\"1\" class=\"dataframe\">\n",
       "  <thead>\n",
       "    <tr style=\"text-align: right;\">\n",
       "      <th></th>\n",
       "      <th>Title</th>\n",
       "      <th>Link</th>\n",
       "      <th>Rating</th>\n",
       "      <th>Description</th>\n",
       "      <th>Genre</th>\n",
       "      <th>Duration (hrs)</th>\n",
       "    </tr>\n",
       "  </thead>\n",
       "  <tbody>\n",
       "    <tr>\n",
       "      <th>0</th>\n",
       "      <td>The Shawshank Redemption</td>\n",
       "      <td>https://www.imdb.com/title/tt0111161/</td>\n",
       "      <td>9.3</td>\n",
       "      <td>Over the course of several years, two convicts...</td>\n",
       "      <td>Drama</td>\n",
       "      <td>2h 22m</td>\n",
       "    </tr>\n",
       "    <tr>\n",
       "      <th>1</th>\n",
       "      <td>The Godfather</td>\n",
       "      <td>https://www.imdb.com/title/tt0068646/</td>\n",
       "      <td>9.2</td>\n",
       "      <td>The aging patriarch of an organized crime dyna...</td>\n",
       "      <td>Crime, Drama</td>\n",
       "      <td>2h 55m</td>\n",
       "    </tr>\n",
       "    <tr>\n",
       "      <th>2</th>\n",
       "      <td>The Dark Knight</td>\n",
       "      <td>https://www.imdb.com/title/tt0468569/</td>\n",
       "      <td>9.0</td>\n",
       "      <td>When the menace known as the Joker wreaks havo...</td>\n",
       "      <td>Action, Crime, Drama</td>\n",
       "      <td>2h 32m</td>\n",
       "    </tr>\n",
       "    <tr>\n",
       "      <th>3</th>\n",
       "      <td>The Godfather Part II</td>\n",
       "      <td>https://www.imdb.com/title/tt0071562/</td>\n",
       "      <td>9.0</td>\n",
       "      <td>The early life and career of Vito Corleone in ...</td>\n",
       "      <td>Crime, Drama</td>\n",
       "      <td>3h 22m</td>\n",
       "    </tr>\n",
       "    <tr>\n",
       "      <th>4</th>\n",
       "      <td>12 Angry Men</td>\n",
       "      <td>https://www.imdb.com/title/tt0050083/</td>\n",
       "      <td>9.0</td>\n",
       "      <td>The jury in a New York City murder trial is fr...</td>\n",
       "      <td>Crime, Drama</td>\n",
       "      <td>1h 36m</td>\n",
       "    </tr>\n",
       "    <tr>\n",
       "      <th>5</th>\n",
       "      <td>Schindler&amp;apos;s List</td>\n",
       "      <td>https://www.imdb.com/title/tt0108052/</td>\n",
       "      <td>9.0</td>\n",
       "      <td>In German-occupied Poland during World War II,...</td>\n",
       "      <td>Biography, Drama, History</td>\n",
       "      <td>3h 15m</td>\n",
       "    </tr>\n",
       "    <tr>\n",
       "      <th>6</th>\n",
       "      <td>The Lord of the Rings: The Return of the King</td>\n",
       "      <td>https://www.imdb.com/title/tt0167260/</td>\n",
       "      <td>9.0</td>\n",
       "      <td>Gandalf and Aragorn lead the World of Men agai...</td>\n",
       "      <td>Action, Adventure, Drama</td>\n",
       "      <td>3h 21m</td>\n",
       "    </tr>\n",
       "    <tr>\n",
       "      <th>7</th>\n",
       "      <td>Pulp Fiction</td>\n",
       "      <td>https://www.imdb.com/title/tt0110912/</td>\n",
       "      <td>8.9</td>\n",
       "      <td>The lives of two mob hitmen, a boxer, a gangst...</td>\n",
       "      <td>Crime, Drama</td>\n",
       "      <td>2h 34m</td>\n",
       "    </tr>\n",
       "    <tr>\n",
       "      <th>8</th>\n",
       "      <td>The Lord of the Rings: The Fellowship of the Ring</td>\n",
       "      <td>https://www.imdb.com/title/tt0120737/</td>\n",
       "      <td>8.9</td>\n",
       "      <td>A meek Hobbit from the Shire and eight compani...</td>\n",
       "      <td>Action, Adventure, Drama</td>\n",
       "      <td>2h 58m</td>\n",
       "    </tr>\n",
       "    <tr>\n",
       "      <th>9</th>\n",
       "      <td>Il buono, il brutto, il cattivo</td>\n",
       "      <td>https://www.imdb.com/title/tt0060196/</td>\n",
       "      <td>8.8</td>\n",
       "      <td>A bounty hunting scam joins two men in an unea...</td>\n",
       "      <td>Adventure, Drama, Western</td>\n",
       "      <td>2h 41m</td>\n",
       "    </tr>\n",
       "  </tbody>\n",
       "</table>\n",
       "</div>"
      ],
      "text/plain": [
       "                                               Title  \\\n",
       "0                           The Shawshank Redemption   \n",
       "1                                      The Godfather   \n",
       "2                                    The Dark Knight   \n",
       "3                              The Godfather Part II   \n",
       "4                                       12 Angry Men   \n",
       "5                              Schindler&apos;s List   \n",
       "6      The Lord of the Rings: The Return of the King   \n",
       "7                                       Pulp Fiction   \n",
       "8  The Lord of the Rings: The Fellowship of the Ring   \n",
       "9                    Il buono, il brutto, il cattivo   \n",
       "\n",
       "                                    Link  Rating  \\\n",
       "0  https://www.imdb.com/title/tt0111161/     9.3   \n",
       "1  https://www.imdb.com/title/tt0068646/     9.2   \n",
       "2  https://www.imdb.com/title/tt0468569/     9.0   \n",
       "3  https://www.imdb.com/title/tt0071562/     9.0   \n",
       "4  https://www.imdb.com/title/tt0050083/     9.0   \n",
       "5  https://www.imdb.com/title/tt0108052/     9.0   \n",
       "6  https://www.imdb.com/title/tt0167260/     9.0   \n",
       "7  https://www.imdb.com/title/tt0110912/     8.9   \n",
       "8  https://www.imdb.com/title/tt0120737/     8.9   \n",
       "9  https://www.imdb.com/title/tt0060196/     8.8   \n",
       "\n",
       "                                         Description  \\\n",
       "0  Over the course of several years, two convicts...   \n",
       "1  The aging patriarch of an organized crime dyna...   \n",
       "2  When the menace known as the Joker wreaks havo...   \n",
       "3  The early life and career of Vito Corleone in ...   \n",
       "4  The jury in a New York City murder trial is fr...   \n",
       "5  In German-occupied Poland during World War II,...   \n",
       "6  Gandalf and Aragorn lead the World of Men agai...   \n",
       "7  The lives of two mob hitmen, a boxer, a gangst...   \n",
       "8  A meek Hobbit from the Shire and eight compani...   \n",
       "9  A bounty hunting scam joins two men in an unea...   \n",
       "\n",
       "                       Genre Duration (hrs)  \n",
       "0                      Drama         2h 22m  \n",
       "1               Crime, Drama         2h 55m  \n",
       "2       Action, Crime, Drama         2h 32m  \n",
       "3               Crime, Drama         3h 22m  \n",
       "4               Crime, Drama         1h 36m  \n",
       "5  Biography, Drama, History         3h 15m  \n",
       "6   Action, Adventure, Drama         3h 21m  \n",
       "7               Crime, Drama         2h 34m  \n",
       "8   Action, Adventure, Drama         2h 58m  \n",
       "9  Adventure, Drama, Western         2h 41m  "
      ]
     },
     "execution_count": 16,
     "metadata": {},
     "output_type": "execute_result"
    }
   ],
   "source": [
    "top_10 = high_rating_movies[0:10]\n",
    "top_10"
   ]
  },
  {
   "cell_type": "code",
   "execution_count": 19,
   "id": "c25b90df-b2bb-448c-95af-6cbb673aa4fd",
   "metadata": {},
   "outputs": [
    {
     "data": {
      "application/vnd.plotly.v1+json": {
       "config": {
        "plotlyServerURL": "https://plot.ly"
       },
       "data": [
        {
         "alignmentgroup": "True",
         "hovertemplate": "Title=%{x}<br>Rating=%{y}<extra></extra>",
         "legendgroup": "",
         "marker": {
          "color": "#636efa",
          "pattern": {
           "shape": ""
          }
         },
         "name": "",
         "offsetgroup": "",
         "orientation": "v",
         "showlegend": false,
         "textposition": "auto",
         "type": "bar",
         "x": [
          "The Shawshank Redemption",
          "The Godfather",
          "The Dark Knight",
          "The Godfather Part II",
          "12 Angry Men",
          "Schindler&apos;s List",
          "The Lord of the Rings: The Return of the King",
          "Pulp Fiction",
          "The Lord of the Rings: The Fellowship of the Ring",
          "Il buono, il brutto, il cattivo",
          "Forrest Gump"
         ],
         "xaxis": "x",
         "y": [
          9.3,
          9.2,
          9,
          9,
          9,
          9,
          9,
          8.9,
          8.9,
          8.8,
          8.8
         ],
         "yaxis": "y"
        }
       ],
       "layout": {
        "barmode": "relative",
        "height": 600,
        "legend": {
         "tracegroupgap": 0
        },
        "margin": {
         "t": 60
        },
        "template": {
         "data": {
          "bar": [
           {
            "error_x": {
             "color": "#2a3f5f"
            },
            "error_y": {
             "color": "#2a3f5f"
            },
            "marker": {
             "line": {
              "color": "#E5ECF6",
              "width": 0.5
             },
             "pattern": {
              "fillmode": "overlay",
              "size": 10,
              "solidity": 0.2
             }
            },
            "type": "bar"
           }
          ],
          "barpolar": [
           {
            "marker": {
             "line": {
              "color": "#E5ECF6",
              "width": 0.5
             },
             "pattern": {
              "fillmode": "overlay",
              "size": 10,
              "solidity": 0.2
             }
            },
            "type": "barpolar"
           }
          ],
          "carpet": [
           {
            "aaxis": {
             "endlinecolor": "#2a3f5f",
             "gridcolor": "white",
             "linecolor": "white",
             "minorgridcolor": "white",
             "startlinecolor": "#2a3f5f"
            },
            "baxis": {
             "endlinecolor": "#2a3f5f",
             "gridcolor": "white",
             "linecolor": "white",
             "minorgridcolor": "white",
             "startlinecolor": "#2a3f5f"
            },
            "type": "carpet"
           }
          ],
          "choropleth": [
           {
            "colorbar": {
             "outlinewidth": 0,
             "ticks": ""
            },
            "type": "choropleth"
           }
          ],
          "contour": [
           {
            "colorbar": {
             "outlinewidth": 0,
             "ticks": ""
            },
            "colorscale": [
             [
              0,
              "#0d0887"
             ],
             [
              0.1111111111111111,
              "#46039f"
             ],
             [
              0.2222222222222222,
              "#7201a8"
             ],
             [
              0.3333333333333333,
              "#9c179e"
             ],
             [
              0.4444444444444444,
              "#bd3786"
             ],
             [
              0.5555555555555556,
              "#d8576b"
             ],
             [
              0.6666666666666666,
              "#ed7953"
             ],
             [
              0.7777777777777778,
              "#fb9f3a"
             ],
             [
              0.8888888888888888,
              "#fdca26"
             ],
             [
              1,
              "#f0f921"
             ]
            ],
            "type": "contour"
           }
          ],
          "contourcarpet": [
           {
            "colorbar": {
             "outlinewidth": 0,
             "ticks": ""
            },
            "type": "contourcarpet"
           }
          ],
          "heatmap": [
           {
            "colorbar": {
             "outlinewidth": 0,
             "ticks": ""
            },
            "colorscale": [
             [
              0,
              "#0d0887"
             ],
             [
              0.1111111111111111,
              "#46039f"
             ],
             [
              0.2222222222222222,
              "#7201a8"
             ],
             [
              0.3333333333333333,
              "#9c179e"
             ],
             [
              0.4444444444444444,
              "#bd3786"
             ],
             [
              0.5555555555555556,
              "#d8576b"
             ],
             [
              0.6666666666666666,
              "#ed7953"
             ],
             [
              0.7777777777777778,
              "#fb9f3a"
             ],
             [
              0.8888888888888888,
              "#fdca26"
             ],
             [
              1,
              "#f0f921"
             ]
            ],
            "type": "heatmap"
           }
          ],
          "heatmapgl": [
           {
            "colorbar": {
             "outlinewidth": 0,
             "ticks": ""
            },
            "colorscale": [
             [
              0,
              "#0d0887"
             ],
             [
              0.1111111111111111,
              "#46039f"
             ],
             [
              0.2222222222222222,
              "#7201a8"
             ],
             [
              0.3333333333333333,
              "#9c179e"
             ],
             [
              0.4444444444444444,
              "#bd3786"
             ],
             [
              0.5555555555555556,
              "#d8576b"
             ],
             [
              0.6666666666666666,
              "#ed7953"
             ],
             [
              0.7777777777777778,
              "#fb9f3a"
             ],
             [
              0.8888888888888888,
              "#fdca26"
             ],
             [
              1,
              "#f0f921"
             ]
            ],
            "type": "heatmapgl"
           }
          ],
          "histogram": [
           {
            "marker": {
             "pattern": {
              "fillmode": "overlay",
              "size": 10,
              "solidity": 0.2
             }
            },
            "type": "histogram"
           }
          ],
          "histogram2d": [
           {
            "colorbar": {
             "outlinewidth": 0,
             "ticks": ""
            },
            "colorscale": [
             [
              0,
              "#0d0887"
             ],
             [
              0.1111111111111111,
              "#46039f"
             ],
             [
              0.2222222222222222,
              "#7201a8"
             ],
             [
              0.3333333333333333,
              "#9c179e"
             ],
             [
              0.4444444444444444,
              "#bd3786"
             ],
             [
              0.5555555555555556,
              "#d8576b"
             ],
             [
              0.6666666666666666,
              "#ed7953"
             ],
             [
              0.7777777777777778,
              "#fb9f3a"
             ],
             [
              0.8888888888888888,
              "#fdca26"
             ],
             [
              1,
              "#f0f921"
             ]
            ],
            "type": "histogram2d"
           }
          ],
          "histogram2dcontour": [
           {
            "colorbar": {
             "outlinewidth": 0,
             "ticks": ""
            },
            "colorscale": [
             [
              0,
              "#0d0887"
             ],
             [
              0.1111111111111111,
              "#46039f"
             ],
             [
              0.2222222222222222,
              "#7201a8"
             ],
             [
              0.3333333333333333,
              "#9c179e"
             ],
             [
              0.4444444444444444,
              "#bd3786"
             ],
             [
              0.5555555555555556,
              "#d8576b"
             ],
             [
              0.6666666666666666,
              "#ed7953"
             ],
             [
              0.7777777777777778,
              "#fb9f3a"
             ],
             [
              0.8888888888888888,
              "#fdca26"
             ],
             [
              1,
              "#f0f921"
             ]
            ],
            "type": "histogram2dcontour"
           }
          ],
          "mesh3d": [
           {
            "colorbar": {
             "outlinewidth": 0,
             "ticks": ""
            },
            "type": "mesh3d"
           }
          ],
          "parcoords": [
           {
            "line": {
             "colorbar": {
              "outlinewidth": 0,
              "ticks": ""
             }
            },
            "type": "parcoords"
           }
          ],
          "pie": [
           {
            "automargin": true,
            "type": "pie"
           }
          ],
          "scatter": [
           {
            "fillpattern": {
             "fillmode": "overlay",
             "size": 10,
             "solidity": 0.2
            },
            "type": "scatter"
           }
          ],
          "scatter3d": [
           {
            "line": {
             "colorbar": {
              "outlinewidth": 0,
              "ticks": ""
             }
            },
            "marker": {
             "colorbar": {
              "outlinewidth": 0,
              "ticks": ""
             }
            },
            "type": "scatter3d"
           }
          ],
          "scattercarpet": [
           {
            "marker": {
             "colorbar": {
              "outlinewidth": 0,
              "ticks": ""
             }
            },
            "type": "scattercarpet"
           }
          ],
          "scattergeo": [
           {
            "marker": {
             "colorbar": {
              "outlinewidth": 0,
              "ticks": ""
             }
            },
            "type": "scattergeo"
           }
          ],
          "scattergl": [
           {
            "marker": {
             "colorbar": {
              "outlinewidth": 0,
              "ticks": ""
             }
            },
            "type": "scattergl"
           }
          ],
          "scattermapbox": [
           {
            "marker": {
             "colorbar": {
              "outlinewidth": 0,
              "ticks": ""
             }
            },
            "type": "scattermapbox"
           }
          ],
          "scatterpolar": [
           {
            "marker": {
             "colorbar": {
              "outlinewidth": 0,
              "ticks": ""
             }
            },
            "type": "scatterpolar"
           }
          ],
          "scatterpolargl": [
           {
            "marker": {
             "colorbar": {
              "outlinewidth": 0,
              "ticks": ""
             }
            },
            "type": "scatterpolargl"
           }
          ],
          "scatterternary": [
           {
            "marker": {
             "colorbar": {
              "outlinewidth": 0,
              "ticks": ""
             }
            },
            "type": "scatterternary"
           }
          ],
          "surface": [
           {
            "colorbar": {
             "outlinewidth": 0,
             "ticks": ""
            },
            "colorscale": [
             [
              0,
              "#0d0887"
             ],
             [
              0.1111111111111111,
              "#46039f"
             ],
             [
              0.2222222222222222,
              "#7201a8"
             ],
             [
              0.3333333333333333,
              "#9c179e"
             ],
             [
              0.4444444444444444,
              "#bd3786"
             ],
             [
              0.5555555555555556,
              "#d8576b"
             ],
             [
              0.6666666666666666,
              "#ed7953"
             ],
             [
              0.7777777777777778,
              "#fb9f3a"
             ],
             [
              0.8888888888888888,
              "#fdca26"
             ],
             [
              1,
              "#f0f921"
             ]
            ],
            "type": "surface"
           }
          ],
          "table": [
           {
            "cells": {
             "fill": {
              "color": "#EBF0F8"
             },
             "line": {
              "color": "white"
             }
            },
            "header": {
             "fill": {
              "color": "#C8D4E3"
             },
             "line": {
              "color": "white"
             }
            },
            "type": "table"
           }
          ]
         },
         "layout": {
          "annotationdefaults": {
           "arrowcolor": "#2a3f5f",
           "arrowhead": 0,
           "arrowwidth": 1
          },
          "autotypenumbers": "strict",
          "coloraxis": {
           "colorbar": {
            "outlinewidth": 0,
            "ticks": ""
           }
          },
          "colorscale": {
           "diverging": [
            [
             0,
             "#8e0152"
            ],
            [
             0.1,
             "#c51b7d"
            ],
            [
             0.2,
             "#de77ae"
            ],
            [
             0.3,
             "#f1b6da"
            ],
            [
             0.4,
             "#fde0ef"
            ],
            [
             0.5,
             "#f7f7f7"
            ],
            [
             0.6,
             "#e6f5d0"
            ],
            [
             0.7,
             "#b8e186"
            ],
            [
             0.8,
             "#7fbc41"
            ],
            [
             0.9,
             "#4d9221"
            ],
            [
             1,
             "#276419"
            ]
           ],
           "sequential": [
            [
             0,
             "#0d0887"
            ],
            [
             0.1111111111111111,
             "#46039f"
            ],
            [
             0.2222222222222222,
             "#7201a8"
            ],
            [
             0.3333333333333333,
             "#9c179e"
            ],
            [
             0.4444444444444444,
             "#bd3786"
            ],
            [
             0.5555555555555556,
             "#d8576b"
            ],
            [
             0.6666666666666666,
             "#ed7953"
            ],
            [
             0.7777777777777778,
             "#fb9f3a"
            ],
            [
             0.8888888888888888,
             "#fdca26"
            ],
            [
             1,
             "#f0f921"
            ]
           ],
           "sequentialminus": [
            [
             0,
             "#0d0887"
            ],
            [
             0.1111111111111111,
             "#46039f"
            ],
            [
             0.2222222222222222,
             "#7201a8"
            ],
            [
             0.3333333333333333,
             "#9c179e"
            ],
            [
             0.4444444444444444,
             "#bd3786"
            ],
            [
             0.5555555555555556,
             "#d8576b"
            ],
            [
             0.6666666666666666,
             "#ed7953"
            ],
            [
             0.7777777777777778,
             "#fb9f3a"
            ],
            [
             0.8888888888888888,
             "#fdca26"
            ],
            [
             1,
             "#f0f921"
            ]
           ]
          },
          "colorway": [
           "#636efa",
           "#EF553B",
           "#00cc96",
           "#ab63fa",
           "#FFA15A",
           "#19d3f3",
           "#FF6692",
           "#B6E880",
           "#FF97FF",
           "#FECB52"
          ],
          "font": {
           "color": "#2a3f5f"
          },
          "geo": {
           "bgcolor": "white",
           "lakecolor": "white",
           "landcolor": "#E5ECF6",
           "showlakes": true,
           "showland": true,
           "subunitcolor": "white"
          },
          "hoverlabel": {
           "align": "left"
          },
          "hovermode": "closest",
          "mapbox": {
           "style": "light"
          },
          "paper_bgcolor": "white",
          "plot_bgcolor": "#E5ECF6",
          "polar": {
           "angularaxis": {
            "gridcolor": "white",
            "linecolor": "white",
            "ticks": ""
           },
           "bgcolor": "#E5ECF6",
           "radialaxis": {
            "gridcolor": "white",
            "linecolor": "white",
            "ticks": ""
           }
          },
          "scene": {
           "xaxis": {
            "backgroundcolor": "#E5ECF6",
            "gridcolor": "white",
            "gridwidth": 2,
            "linecolor": "white",
            "showbackground": true,
            "ticks": "",
            "zerolinecolor": "white"
           },
           "yaxis": {
            "backgroundcolor": "#E5ECF6",
            "gridcolor": "white",
            "gridwidth": 2,
            "linecolor": "white",
            "showbackground": true,
            "ticks": "",
            "zerolinecolor": "white"
           },
           "zaxis": {
            "backgroundcolor": "#E5ECF6",
            "gridcolor": "white",
            "gridwidth": 2,
            "linecolor": "white",
            "showbackground": true,
            "ticks": "",
            "zerolinecolor": "white"
           }
          },
          "shapedefaults": {
           "line": {
            "color": "#2a3f5f"
           }
          },
          "ternary": {
           "aaxis": {
            "gridcolor": "white",
            "linecolor": "white",
            "ticks": ""
           },
           "baxis": {
            "gridcolor": "white",
            "linecolor": "white",
            "ticks": ""
           },
           "bgcolor": "#E5ECF6",
           "caxis": {
            "gridcolor": "white",
            "linecolor": "white",
            "ticks": ""
           }
          },
          "title": {
           "x": 0.05
          },
          "xaxis": {
           "automargin": true,
           "gridcolor": "white",
           "linecolor": "white",
           "ticks": "",
           "title": {
            "standoff": 15
           },
           "zerolinecolor": "white",
           "zerolinewidth": 2
          },
          "yaxis": {
           "automargin": true,
           "gridcolor": "white",
           "linecolor": "white",
           "ticks": "",
           "title": {
            "standoff": 15
           },
           "zerolinecolor": "white",
           "zerolinewidth": 2
          }
         }
        },
        "width": 800,
        "xaxis": {
         "anchor": "y",
         "autorange": true,
         "domain": [
          0,
          1
         ],
         "range": [
          -0.5,
          10.5
         ],
         "title": {
          "text": "Title"
         },
         "type": "category"
        },
        "yaxis": {
         "anchor": "x",
         "autorange": true,
         "domain": [
          0,
          1
         ],
         "range": [
          0,
          9.789473684210527
         ],
         "title": {
          "text": "Rating"
         },
         "type": "linear"
        }
       }
      },
      "image/png": "[encoded data removed]",
      "text/html": [
       "<div>                            <div id=\"4ffc5961-aa58-4e77-97d8-0cee97323866\" class=\"plotly-graph-div\" style=\"height:600px; width:800px;\"></div>            <script type=\"text/javascript\">                require([\"plotly\"], function(Plotly) {                    window.PLOTLYENV=window.PLOTLYENV || {};                                    if (document.getElementById(\"4ffc5961-aa58-4e77-97d8-0cee97323866\")) {                    Plotly.newPlot(                        \"4ffc5961-aa58-4e77-97d8-0cee97323866\",                        [{\"alignmentgroup\":\"True\",\"hovertemplate\":\"Title=%{x}\\u003cbr\\u003eRating=%{y}\\u003cextra\\u003e\\u003c\\u002fextra\\u003e\",\"legendgroup\":\"\",\"marker\":{\"color\":\"#636efa\",\"pattern\":{\"shape\":\"\"}},\"name\":\"\",\"offsetgroup\":\"\",\"orientation\":\"v\",\"showlegend\":false,\"textposition\":\"auto\",\"x\":[\"The Shawshank Redemption\",\"The Godfather\",\"The Dark Knight\",\"The Godfather Part II\",\"12 Angry Men\",\"Schindler&apos;s List\",\"The Lord of the Rings: The Return of the King\",\"Pulp Fiction\",\"The Lord of the Rings: The Fellowship of the Ring\",\"Il buono, il brutto, il cattivo\",\"Forrest Gump\"],\"xaxis\":\"x\",\"y\":[9.3,9.2,9.0,9.0,9.0,9.0,9.0,8.9,8.9,8.8,8.8],\"yaxis\":\"y\",\"type\":\"bar\"}],                        {\"template\":{\"data\":{\"histogram2dcontour\":[{\"type\":\"histogram2dcontour\",\"colorbar\":{\"outlinewidth\":0,\"ticks\":\"\"},\"colorscale\":[[0.0,\"#0d0887\"],[0.1111111111111111,\"#46039f\"],[0.2222222222222222,\"#7201a8\"],[0.3333333333333333,\"#9c179e\"],[0.4444444444444444,\"#bd3786\"],[0.5555555555555556,\"#d8576b\"],[0.6666666666666666,\"#ed7953\"],[0.7777777777777778,\"#fb9f3a\"],[0.8888888888888888,\"#fdca26\"],[1.0,\"#f0f921\"]]}],\"choropleth\":[{\"type\":\"choropleth\",\"colorbar\":{\"outlinewidth\":0,\"ticks\":\"\"}}],\"histogram2d\":[{\"type\":\"histogram2d\",\"colorbar\":{\"outlinewidth\":0,\"ticks\":\"\"},\"colorscale\":[[0.0,\"#0d0887\"],[0.1111111111111111,\"#46039f\"],[0.2222222222222222,\"#7201a8\"],[0.3333333333333333,\"#9c179e\"],[0.4444444444444444,\"#bd3786\"],[0.5555555555555556,\"#d8576b\"],[0.6666666666666666,\"#ed7953\"],[0.7777777777777778,\"#fb9f3a\"],[0.8888888888888888,\"#fdca26\"],[1.0,\"#f0f921\"]]}],\"heatmap\":[{\"type\":\"heatmap\",\"colorbar\":{\"outlinewidth\":0,\"ticks\":\"\"},\"colorscale\":[[0.0,\"#0d0887\"],[0.1111111111111111,\"#46039f\"],[0.2222222222222222,\"#7201a8\"],[0.3333333333333333,\"#9c179e\"],[0.4444444444444444,\"#bd3786\"],[0.5555555555555556,\"#d8576b\"],[0.6666666666666666,\"#ed7953\"],[0.7777777777777778,\"#fb9f3a\"],[0.8888888888888888,\"#fdca26\"],[1.0,\"#f0f921\"]]}],\"heatmapgl\":[{\"type\":\"heatmapgl\",\"colorbar\":{\"outlinewidth\":0,\"ticks\":\"\"},\"colorscale\":[[0.0,\"#0d0887\"],[0.1111111111111111,\"#46039f\"],[0.2222222222222222,\"#7201a8\"],[0.3333333333333333,\"#9c179e\"],[0.4444444444444444,\"#bd3786\"],[0.5555555555555556,\"#d8576b\"],[0.6666666666666666,\"#ed7953\"],[0.7777777777777778,\"#fb9f3a\"],[0.8888888888888888,\"#fdca26\"],[1.0,\"#f0f921\"]]}],\"contourcarpet\":[{\"type\":\"contourcarpet\",\"colorbar\":{\"outlinewidth\":0,\"ticks\":\"\"}}],\"contour\":[{\"type\":\"contour\",\"colorbar\":{\"outlinewidth\":0,\"ticks\":\"\"},\"colorscale\":[[0.0,\"#0d0887\"],[0.1111111111111111,\"#46039f\"],[0.2222222222222222,\"#7201a8\"],[0.3333333333333333,\"#9c179e\"],[0.4444444444444444,\"#bd3786\"],[0.5555555555555556,\"#d8576b\"],[0.6666666666666666,\"#ed7953\"],[0.7777777777777778,\"#fb9f3a\"],[0.8888888888888888,\"#fdca26\"],[1.0,\"#f0f921\"]]}],\"surface\":[{\"type\":\"surface\",\"colorbar\":{\"outlinewidth\":0,\"ticks\":\"\"},\"colorscale\":[[0.0,\"#0d0887\"],[0.1111111111111111,\"#46039f\"],[0.2222222222222222,\"#7201a8\"],[0.3333333333333333,\"#9c179e\"],[0.4444444444444444,\"#bd3786\"],[0.5555555555555556,\"#d8576b\"],[0.6666666666666666,\"#ed7953\"],[0.7777777777777778,\"#fb9f3a\"],[0.8888888888888888,\"#fdca26\"],[1.0,\"#f0f921\"]]}],\"mesh3d\":[{\"type\":\"mesh3d\",\"colorbar\":{\"outlinewidth\":0,\"ticks\":\"\"}}],\"scatter\":[{\"fillpattern\":{\"fillmode\":\"overlay\",\"size\":10,\"solidity\":0.2},\"type\":\"scatter\"}],\"parcoords\":[{\"type\":\"parcoords\",\"line\":{\"colorbar\":{\"outlinewidth\":0,\"ticks\":\"\"}}}],\"scatterpolargl\":[{\"type\":\"scatterpolargl\",\"marker\":{\"colorbar\":{\"outlinewidth\":0,\"ticks\":\"\"}}}],\"bar\":[{\"error_x\":{\"color\":\"#2a3f5f\"},\"error_y\":{\"color\":\"#2a3f5f\"},\"marker\":{\"line\":{\"color\":\"#E5ECF6\",\"width\":0.5},\"pattern\":{\"fillmode\":\"overlay\",\"size\":10,\"solidity\":0.2}},\"type\":\"bar\"}],\"scattergeo\":[{\"type\":\"scattergeo\",\"marker\":{\"colorbar\":{\"outlinewidth\":0,\"ticks\":\"\"}}}],\"scatterpolar\":[{\"type\":\"scatterpolar\",\"marker\":{\"colorbar\":{\"outlinewidth\":0,\"ticks\":\"\"}}}],\"histogram\":[{\"marker\":{\"pattern\":{\"fillmode\":\"overlay\",\"size\":10,\"solidity\":0.2}},\"type\":\"histogram\"}],\"scattergl\":[{\"type\":\"scattergl\",\"marker\":{\"colorbar\":{\"outlinewidth\":0,\"ticks\":\"\"}}}],\"scatter3d\":[{\"type\":\"scatter3d\",\"line\":{\"colorbar\":{\"outlinewidth\":0,\"ticks\":\"\"}},\"marker\":{\"colorbar\":{\"outlinewidth\":0,\"ticks\":\"\"}}}],\"scattermapbox\":[{\"type\":\"scattermapbox\",\"marker\":{\"colorbar\":{\"outlinewidth\":0,\"ticks\":\"\"}}}],\"scatterternary\":[{\"type\":\"scatterternary\",\"marker\":{\"colorbar\":{\"outlinewidth\":0,\"ticks\":\"\"}}}],\"scattercarpet\":[{\"type\":\"scattercarpet\",\"marker\":{\"colorbar\":{\"outlinewidth\":0,\"ticks\":\"\"}}}],\"carpet\":[{\"aaxis\":{\"endlinecolor\":\"#2a3f5f\",\"gridcolor\":\"white\",\"linecolor\":\"white\",\"minorgridcolor\":\"white\",\"startlinecolor\":\"#2a3f5f\"},\"baxis\":{\"endlinecolor\":\"#2a3f5f\",\"gridcolor\":\"white\",\"linecolor\":\"white\",\"minorgridcolor\":\"white\",\"startlinecolor\":\"#2a3f5f\"},\"type\":\"carpet\"}],\"table\":[{\"cells\":{\"fill\":{\"color\":\"#EBF0F8\"},\"line\":{\"color\":\"white\"}},\"header\":{\"fill\":{\"color\":\"#C8D4E3\"},\"line\":{\"color\":\"white\"}},\"type\":\"table\"}],\"barpolar\":[{\"marker\":{\"line\":{\"color\":\"#E5ECF6\",\"width\":0.5},\"pattern\":{\"fillmode\":\"overlay\",\"size\":10,\"solidity\":0.2}},\"type\":\"barpolar\"}],\"pie\":[{\"automargin\":true,\"type\":\"pie\"}]},\"layout\":{\"autotypenumbers\":\"strict\",\"colorway\":[\"#636efa\",\"#EF553B\",\"#00cc96\",\"#ab63fa\",\"#FFA15A\",\"#19d3f3\",\"#FF6692\",\"#B6E880\",\"#FF97FF\",\"#FECB52\"],\"font\":{\"color\":\"#2a3f5f\"},\"hovermode\":\"closest\",\"hoverlabel\":{\"align\":\"left\"},\"paper_bgcolor\":\"white\",\"plot_bgcolor\":\"#E5ECF6\",\"polar\":{\"bgcolor\":\"#E5ECF6\",\"angularaxis\":{\"gridcolor\":\"white\",\"linecolor\":\"white\",\"ticks\":\"\"},\"radialaxis\":{\"gridcolor\":\"white\",\"linecolor\":\"white\",\"ticks\":\"\"}},\"ternary\":{\"bgcolor\":\"#E5ECF6\",\"aaxis\":{\"gridcolor\":\"white\",\"linecolor\":\"white\",\"ticks\":\"\"},\"baxis\":{\"gridcolor\":\"white\",\"linecolor\":\"white\",\"ticks\":\"\"},\"caxis\":{\"gridcolor\":\"white\",\"linecolor\":\"white\",\"ticks\":\"\"}},\"coloraxis\":{\"colorbar\":{\"outlinewidth\":0,\"ticks\":\"\"}},\"colorscale\":{\"sequential\":[[0.0,\"#0d0887\"],[0.1111111111111111,\"#46039f\"],[0.2222222222222222,\"#7201a8\"],[0.3333333333333333,\"#9c179e\"],[0.4444444444444444,\"#bd3786\"],[0.5555555555555556,\"#d8576b\"],[0.6666666666666666,\"#ed7953\"],[0.7777777777777778,\"#fb9f3a\"],[0.8888888888888888,\"#fdca26\"],[1.0,\"#f0f921\"]],\"sequentialminus\":[[0.0,\"#0d0887\"],[0.1111111111111111,\"#46039f\"],[0.2222222222222222,\"#7201a8\"],[0.3333333333333333,\"#9c179e\"],[0.4444444444444444,\"#bd3786\"],[0.5555555555555556,\"#d8576b\"],[0.6666666666666666,\"#ed7953\"],[0.7777777777777778,\"#fb9f3a\"],[0.8888888888888888,\"#fdca26\"],[1.0,\"#f0f921\"]],\"diverging\":[[0,\"#8e0152\"],[0.1,\"#c51b7d\"],[0.2,\"#de77ae\"],[0.3,\"#f1b6da\"],[0.4,\"#fde0ef\"],[0.5,\"#f7f7f7\"],[0.6,\"#e6f5d0\"],[0.7,\"#b8e186\"],[0.8,\"#7fbc41\"],[0.9,\"#4d9221\"],[1,\"#276419\"]]},\"xaxis\":{\"gridcolor\":\"white\",\"linecolor\":\"white\",\"ticks\":\"\",\"title\":{\"standoff\":15},\"zerolinecolor\":\"white\",\"automargin\":true,\"zerolinewidth\":2},\"yaxis\":{\"gridcolor\":\"white\",\"linecolor\":\"white\",\"ticks\":\"\",\"title\":{\"standoff\":15},\"zerolinecolor\":\"white\",\"automargin\":true,\"zerolinewidth\":2},\"scene\":{\"xaxis\":{\"backgroundcolor\":\"#E5ECF6\",\"gridcolor\":\"white\",\"linecolor\":\"white\",\"showbackground\":true,\"ticks\":\"\",\"zerolinecolor\":\"white\",\"gridwidth\":2},\"yaxis\":{\"backgroundcolor\":\"#E5ECF6\",\"gridcolor\":\"white\",\"linecolor\":\"white\",\"showbackground\":true,\"ticks\":\"\",\"zerolinecolor\":\"white\",\"gridwidth\":2},\"zaxis\":{\"backgroundcolor\":\"#E5ECF6\",\"gridcolor\":\"white\",\"linecolor\":\"white\",\"showbackground\":true,\"ticks\":\"\",\"zerolinecolor\":\"white\",\"gridwidth\":2}},\"shapedefaults\":{\"line\":{\"color\":\"#2a3f5f\"}},\"annotationdefaults\":{\"arrowcolor\":\"#2a3f5f\",\"arrowhead\":0,\"arrowwidth\":1},\"geo\":{\"bgcolor\":\"white\",\"landcolor\":\"#E5ECF6\",\"subunitcolor\":\"white\",\"showland\":true,\"showlakes\":true,\"lakecolor\":\"white\"},\"title\":{\"x\":0.05},\"mapbox\":{\"style\":\"light\"}}},\"xaxis\":{\"anchor\":\"y\",\"domain\":[0.0,1.0],\"title\":{\"text\":\"Title\"}},\"yaxis\":{\"anchor\":\"x\",\"domain\":[0.0,1.0],\"title\":{\"text\":\"Rating\"}},\"legend\":{\"tracegroupgap\":0},\"margin\":{\"t\":60},\"barmode\":\"relative\",\"height\":600,\"width\":800},                        {\"responsive\": true}                    ).then(function(){\n",
       "                            \n",
       "var gd = document.getElementById('4ffc5961-aa58-4e77-97d8-0cee97323866');\n",
       "var x = new MutationObserver(function (mutations, observer) {{\n",
       "        var display = window.getComputedStyle(gd).display;\n",
       "        if (!display || display === 'none') {{\n",
       "            console.log([gd, 'removed!']);\n",
       "            Plotly.purge(gd);\n",
       "            observer.disconnect();\n",
       "        }}\n",
       "}});\n",
       "\n",
       "// Listen for the removal of the full notebook cells\n",
       "var notebookContainer = gd.closest('#notebook-container');\n",
       "if (notebookContainer) {{\n",
       "    x.observe(notebookContainer, {childList: true});\n",
       "}}\n",
       "\n",
       "// Listen for the clearing of the current output cell\n",
       "var outputEl = gd.closest('.output');\n",
       "if (outputEl) {{\n",
       "    x.observe(outputEl, {childList: true});\n",
       "}}\n",
       "\n",
       "                        })                };                });            </script>        </div>"
      ]
     },
     "metadata": {},
     "output_type": "display_data"
    }
   ],
   "source": [
    "import plotly.express as px\n",
    "fig = px.bar(high_rating_movies.loc[0:10], x = \"Title\", y = \"Rating\", height=600, width=800)\n",
    "fig.show()"
   ]
  },
  {
   "cell_type": "code",
   "execution_count": 20,
   "id": "a5d31092-0810-45e2-94e6-02159cb60b55",
   "metadata": {},
   "outputs": [
    {
     "name": "stdout",
     "output_type": "stream",
     "text": [
      "2: ['0', 'The Shawshank Redemption', 'https://www.imdb.com/title/tt0111161/', '9.3', 'Over the course of several years, two convicts form a friendship, seeking consolation and, eventually, redemption through basic compassion.', 'Drama', '2h 22m']\n",
      "3: ['1', 'The Godfather', 'https://www.imdb.com/title/tt0068646/', '9.2', 'The aging patriarch of an organized crime dynasty transfers control of his clandestine empire to his reluctant son.', 'Crime, Drama', '2h 55m']\n",
      "4: ['2', 'The Dark Knight', 'https://www.imdb.com/title/tt0468569/', '9.0', 'When the menace known as the Joker wreaks havoc and chaos on the people of Gotham, Batman must accept one of the greatest psychological and physical tests of his ability to fight injustice.', 'Action, Crime, Drama', '2h 32m']\n",
      "5: ['3', 'The Godfather Part II', 'https://www.imdb.com/title/tt0071562/', '9.0', 'The early life and career of Vito Corleone in 1920s New York City is portrayed, while his son, Michael, expands and tightens his grip on the family crime syndicate.', 'Crime, Drama', '3h 22m']\n",
      "6: ['4', '12 Angry Men', 'https://www.imdb.com/title/tt0050083/', '9.0', 'The jury in a New York City murder trial is frustrated by a single member whose skeptical caution forces them to more carefully consider the evidence before jumping to a hasty verdict.', 'Crime, Drama', '1h 36m']\n",
      "7: ['5', 'Schindler&apos;s List', 'https://www.imdb.com/title/tt0108052/', '9.0', 'In German-occupied Poland during World War II, industrialist Oskar Schindler gradually becomes concerned for his Jewish workforce after witnessing their persecution by the Nazis.', 'Biography, Drama, History', '3h 15m']\n",
      "8: ['6', 'The Lord of the Rings: The Return of the King', 'https://www.imdb.com/title/tt0167260/', '9.0', 'Gandalf and Aragorn lead the World of Men against Sauron&apos;s army to draw his gaze from Frodo and Sam as they approach Mount Doom with the One Ring.', 'Action, Adventure, Drama', '3h 21m']\n",
      "9: ['7', 'Pulp Fiction', 'https://www.imdb.com/title/tt0110912/', '8.9', 'The lives of two mob hitmen, a boxer, a gangster and his wife, and a pair of diner bandits intertwine in four tales of violence and redemption.', 'Crime, Drama', '2h 34m']\n",
      "10: ['8', 'The Lord of the Rings: The Fellowship of the Ring', 'https://www.imdb.com/title/tt0120737/', '8.9', 'A meek Hobbit from the Shire and eight companions set out on a journey to destroy the powerful One Ring and save Middle-earth from the Dark Lord Sauron.', 'Action, Adventure, Drama', '2h 58m']\n",
      "11: ['9', 'Il buono, il brutto, il cattivo', 'https://www.imdb.com/title/tt0060196/', '8.8', 'A bounty hunting scam joins two men in an uneasy alliance against a third in a race to find a fortune in gold buried in a remote cemetery.', 'Adventure, Drama, Western', '2h 41m']\n",
      "12: ['10', 'Forrest Gump', 'https://www.imdb.com/title/tt0109830/', '8.8', 'The history of the United States from the 1950s to the &apos;70s unfolds from the perspective of an Alabama man with an IQ of 75, who yearns to be reunited with his childhood sweetheart.', 'Drama, Romance', '2h 22m']\n",
      "13: ['11', 'The Lord of the Rings: The Two Towers', 'https://www.imdb.com/title/tt0167261/', '8.8', 'While Frodo and Sam edge closer to Mordor with the help of the shifty Gollum, the divided fellowship makes a stand against Sauron&apos;s new ally, Saruman, and his hordes of Isengard.', 'Action, Adventure, Drama', '2h 59m']\n",
      "14: ['12', 'Fight Club', 'https://www.imdb.com/title/tt0137523/', '8.8', 'An insomniac office worker and a devil-may-care soap maker form an underground fight club that evolves into much more.', 'Drama', '2h 19m']\n",
      "15: ['13', 'Inception', 'https://www.imdb.com/title/tt1375666/', '8.8', 'A thief who steals corporate secrets through the use of dream-sharing technology is given the inverse task of planting an idea into the mind of a C.E.O., but his tragic past may doom the project and his team to disaster.', 'Action, Adventure, Sci-Fi', '2h 28m']\n",
      "16: ['14', 'Star Wars: Episode V - The Empire Strikes Back', 'https://www.imdb.com/title/tt0080684/', '8.7', 'After the Rebel Alliance are overpowered by the Empire, Luke Skywalker begins his Jedi training with Yoda, while his friends are pursued across the galaxy by Darth Vader and bounty hunter Boba Fett.', 'Action, Adventure, Fantasy', '2h 4m']\n",
      "17: ['15', 'The Matrix', 'https://www.imdb.com/title/tt0133093/', '8.7', 'When a beautiful stranger leads computer hacker Neo to a forbidding underworld, he discovers the shocking truth--the life he knows is the elaborate deception of an evil cyber-intelligence.', 'Action, Sci-Fi', '2h 16m']\n",
      "18: ['16', 'Goodfellas', 'https://www.imdb.com/title/tt0099685/', '8.7', 'The story of Henry Hill and his life in the mafia, covering his relationship with his wife Karen and his mob partners Jimmy Conway and Tommy DeVito.', 'Biography, Crime, Drama', '2h 25m']\n",
      "19: ['17', 'One Flew Over the Cuckoo&apos;s Nest', 'https://www.imdb.com/title/tt0073486/', '8.7', 'In the Fall of 1963, a Korean War veteran and criminal pleads insanity and is admitted to a mental institution, where he rallies up the scared patients against the tyrannical nurse.', 'Drama', '2h 13m']\n",
      "20: ['18', 'Se7en', 'https://www.imdb.com/title/tt0114369/', '8.6', 'Two detectives, a rookie and a veteran, hunt a serial killer who uses the seven deadly sins as his motives.', 'Crime, Drama, Mystery', '2h 7m']\n",
      "21: ['19', 'Interstellar', 'https://www.imdb.com/title/tt0816692/', '8.7', 'When Earth becomes uninhabitable in the future, a farmer and ex-NASA pilot, Joseph Cooper, is tasked to pilot a spacecraft, along with a team of researchers, to find a new planet for humans.', 'Adventure, Drama, Sci-Fi', '2h 49m']\n",
      "22: ['20', 'It&apos;s a Wonderful Life', 'https://www.imdb.com/title/tt0038650/', '8.6', 'An angel is sent from Heaven to help a desperately frustrated businessman by showing him what life would have been like if he had never existed.', 'Drama, Family, Fantasy', '2h 10m']\n",
      "23: ['21', 'Shichinin no samurai', 'https://www.imdb.com/title/tt0047478/', '8.6', 'Farmers from a village exploited by bandits hire a veteran samurai for protection, who gathers six other samurai to join him.', 'Action, Drama', '3h 27m']\n",
      "24: ['22', 'The Silence of the Lambs', 'https://www.imdb.com/title/tt0102926/', '8.6', 'A young F.B.I. cadet must receive the help of an incarcerated and manipulative cannibal killer to help catch another serial killer, a madman who skins his victims.', 'Crime, Drama, Thriller', '1h 58m']\n",
      "25: ['23', 'Saving Private Ryan', 'https://www.imdb.com/title/tt0120815/', '8.6', 'Following the Normandy Landings, a group of U.S. soldiers go behind enemy lines to retrieve a paratrooper whose brothers have been killed in action.', 'Drama, War', '2h 49m']\n",
      "26: ['24', 'Cidade de Deus', 'https://www.imdb.com/title/tt0317248/', '8.6', 'In the slums of Rio, two kids&apos; paths diverge as one struggles to become a photographer and the other a kingpin.', 'Crime, Drama', '2h 10m']\n",
      "27: ['25', 'La vita ÃƒÂ¨ bella', 'https://www.imdb.com/title/tt0118799/', '8.6', 'When an open-minded Jewish waiter and his son become victims of the Holocaust, he uses a perfect mixture of will, humor and imagination to protect his son from the dangers around their camp.', 'Comedy, Drama, Romance', '1h 56m']\n",
      "28: ['26', 'The Green Mile', 'https://www.imdb.com/title/tt0120689/', '8.6', 'A tale set on death row, where gentle giant John Coffey possesses the mysterious power to heal people&apos;s ailments. When the lead guard, Paul Edgecombe, recognizes John&apos;s gift, he tries to help stave off the condemned man&apos;s execution.', 'Crime, Drama, Fantasy', '3h 9m']\n",
      "29: ['27', 'Terminator 2: Judgment Day', 'https://www.imdb.com/title/tt0103064/', '8.6', 'A cyborg, identical to the one who failed to kill Sarah Connor, must now protect her ten year old son John from an even more advanced and powerful cyborg.', 'Action, Adventure, Sci-Fi', '2h 17m']\n",
      "30: ['28', 'Star Wars', 'https://www.imdb.com/title/tt0076759/', '8.6', 'Luke Skywalker joins forces with a Jedi Knight, a cocky pilot, a Wookiee and two droids to save the galaxy from the Empire&apos;s world-destroying battle station, while also attempting to rescue Princess Leia from the mysterious Darth ...', 'Action, Adventure, Fantasy', '2h 1m']\n",
      "31: ['29', 'Back to the Future', 'https://www.imdb.com/title/tt0088763/', '8.5', 'Marty McFly, a 17-year-old high school student, is accidentally sent 30 years into the past in a time-traveling DeLorean invented by his close friend, the maverick scientist Doc Brown.', 'Adventure, Comedy, Sci-Fi', '1h 56m']\n",
      "32: ['30', 'Sen to Chihiro no kamikakushi', 'https://www.imdb.com/title/tt0245429/', '8.6', 'During her family&apos;s move to the suburbs, a sullen 10-year-old girl wanders into a world ruled by gods, witches and spirits, and where humans are changed into beasts.', 'Animation, Adventure, Family', '2h 5m']\n",
      "33: ['31', 'The Pianist', 'https://www.imdb.com/title/tt0253474/', '8.5', 'During WWII, acclaimed Polish musician Wladyslaw faces various struggles as he loses contact with his family. As the situation worsens, he hides in the ruins of Warsaw in order to survive.', 'Biography, Drama, Music', '2h 30m']\n",
      "34: ['32', 'Dune: Part Two', 'https://www.imdb.com/title/tt15239678/', '8.6', 'Paul Atreides unites with Chani and the Fremen while seeking revenge against the conspirators who destroyed his family.', 'Action, Adventure, Drama', '2h 46m']\n",
      "35: ['33', 'Gisaengchung', 'https://www.imdb.com/title/tt6751668/', '8.5', 'Greed and class discrimination threaten the newly-formed symbiotic relationship between the wealthy Park family and the destitute Kim clan.', 'Drama, Thriller', '2h 12m']\n",
      "36: ['34', 'Psycho', 'https://www.imdb.com/title/tt0054215/', '8.5', 'A secretary on the run for embezzlement takes refuge at a secluded California motel owned by a repressed man and his overbearing mother.', 'Horror, Mystery, Thriller', '1h 49m']\n",
      "37: ['35', 'Gladiator', 'https://www.imdb.com/title/tt0172495/', '8.5', 'A former Roman General sets out to exact vengeance against the corrupt emperor who murdered his family and sent him into slavery.', 'Action, Adventure, Drama', '2h 35m']\n",
      "38: ['36', 'Spider-Man: Across the Spider-Verse', 'https://www.imdb.com/title/tt9362722/', '8.6', 'Miles Morales catapults across the multiverse, where he encounters a team of Spider-People charged with protecting its very existence. When the heroes clash on how to handle a new threat, Miles must redefine what it means to be a ...', 'Animation, Action, Adventure', '2h 20m']\n",
      "39: ['37', 'The Lion King', 'https://www.imdb.com/title/tt0110357/', '8.5', 'Lion prince Simba and his father are targeted by his bitter uncle, who wants to ascend the throne himself.', 'Animation, Adventure, Drama', '1h 28m']\n",
      "40: ['38', 'The Departed', 'https://www.imdb.com/title/tt0407887/', '8.5', 'An undercover cop and a mole in the police attempt to identify each other while infiltrating an Irish gang in South Boston.', 'Crime, Drama, Thriller', '2h 31m']\n",
      "41: ['39', 'LÃƒÂ©on', 'https://www.imdb.com/title/tt0110413/', '8.5', '12-year-old Mathilda is reluctantly taken in by LÃƒÂ©on, a professional assassin, after her family is murdered. An unusual relationship forms as she becomes his protÃƒÂ©gÃƒÂ©e and learns the assassin&apos;s trade.', 'Action, Crime, Drama', '1h 50m']\n",
      "42: ['40', 'American History X', 'https://www.imdb.com/title/tt0120586/', '8.5', 'Living a life marked by violence, neo-Nazi Derek finally goes to prison after killing two black youths. Upon his release, Derek vows to change; he hopes to prevent his brother, Danny, who idolizes Derek, from following in his foot...', 'Crime, Drama', '1h 59m']\n",
      "43: ['41', 'Whiplash', 'https://www.imdb.com/title/tt2582802/', '8.5', 'A promising young drummer enrolls at a cut-throat music conservatory where his dreams of greatness are mentored by an instructor who will stop at nothing to realize a student&apos;s potential.', 'Drama, Music', '1h 46m']\n",
      "44: ['42', 'The Prestige', 'https://www.imdb.com/title/tt0482571/', '8.5', 'After a tragic accident, two stage magicians in 1890s London engage in a battle to create the ultimate illusion while sacrificing everything they have to outwit each other.', 'Drama, Mystery, Sci-Fi', '2h 10m']\n",
      "45: ['43', 'Hotaru no haka', 'https://www.imdb.com/title/tt0095327/', '8.5', 'A young boy and his little sister struggle to survive in Japan during World War II.', 'Animation, Drama, War', '1h 29m']\n",
      "46: ['44', 'Seppuku', 'https://www.imdb.com/title/tt0056058/', '8.6', 'When a ronin requesting seppuku at a feudal lord&apos;s palace is told of the brutal suicide of another ronin who previously visited, he reveals how their pasts are intertwined - and in doing so challenges the clan&apos;s integrity.', 'Action, Drama, Mystery', '2h 13m']\n",
      "47: ['45', 'The Usual Suspects', 'https://www.imdb.com/title/tt0114814/', '8.5', 'The sole survivor of a pier shoot-out tells the story of how a notorious criminal influenced the events that began with five criminals meeting in a seemingly random police lineup.', 'Crime, Drama, Mystery', '1h 46m']\n",
      "48: ['46', 'Casablanca', 'https://www.imdb.com/title/tt0034583/', '8.5', 'A cynical expatriate American cafe owner struggles to decide whether or not to help his former lover and her fugitive husband escape the Nazis in French Morocco.', 'Drama, Romance, War', '1h 42m']\n",
      "49: ['47', 'Intouchables', 'https://www.imdb.com/title/tt1675434/', '8.5', 'After he becomes a quadriplegic from a paragliding accident, an aristocrat hires a young man from the projects to be his caregiver.', 'Comedy, Drama', '1h 52m']\n",
      "50: ['48', 'Nuovo Cinema Paradiso', 'https://www.imdb.com/title/tt0095765/', '8.5', 'A filmmaker recalls his childhood when falling in love with the pictures at the cinema of his home village and forms a deep friendship with the cinema&apos;s projectionist.', 'Drama, Romance', '2h 54m']\n",
      "51: ['49', 'Modern Times', 'https://www.imdb.com/title/tt0027977/', '8.5', 'The Tramp struggles to live in modern industrial society with the help of a young homeless woman.', 'Comedy, Drama, Romance', '1h 27m']\n",
      "52: ['50', 'Rear Window', 'https://www.imdb.com/title/tt0047396/', '8.5', 'A wheelchair-bound photographer spies on his neighbors from his Greenwich Village courtyard apartment window and, despite the skepticism of his fashion-model girlfriend, becomes convinced one of them has committed murder.', 'Mystery, Thriller', '1h 52m']\n",
      "53: ['51', 'C&apos;era una volta il West', 'https://www.imdb.com/title/tt0064116/', '8.5', 'A mysterious stranger with a harmonica joins forces with a notorious desperado to protect a beautiful widow from a ruthless assassin working for the railroad.', 'Drama, Western', '2h 46m']\n",
      "54: ['52', 'Alien', 'https://www.imdb.com/title/tt0078748/', '8.5', 'The crew of a commercial spacecraft encounters a deadly lifeform after investigating a mysterious transmission of unknown origin.', 'Horror, Sci-Fi', '1h 57m']\n",
      "55: ['53', 'City Lights', 'https://www.imdb.com/title/tt0021749/', '8.5', 'With the aid of a wealthy erratic tippler, a dewy-eyed tramp who has fallen in love with a sightless flower girl accumulates money to be able to help her medically.', 'Comedy, Drama, Romance', '1h 27m']\n",
      "56: ['54', 'Django Unchained', 'https://www.imdb.com/title/tt1853728/', '8.5', 'With the help of a German bounty-hunter, a freed slave sets out to rescue his wife from a brutal plantation owner in Mississippi.', 'Comedy, Drama, Western', '2h 45m']\n",
      "57: ['55', 'Apocalypse Now', 'https://www.imdb.com/title/tt0078788/', '8.4', 'A U.S. Army officer serving in Vietnam is tasked with assassinating a renegade Special Forces Colonel who sees himself as a god.', 'Drama, Mystery, War', '2h 27m']\n",
      "58: ['56', 'Memento', 'https://www.imdb.com/title/tt0209144/', '8.4', 'A man with short-term memory loss attempts to track down his wife&apos;s murderer.', 'Mystery, Thriller', '1h 53m']\n",
      "59: ['57', 'WALLÃ‚Â·E', 'https://www.imdb.com/title/tt0910970/', '8.4', 'In the distant future, a small waste-collecting robot inadvertently embarks on a space journey that will ultimately decide the fate of mankind.', 'Animation, Adventure, Family', '1h 38m']\n",
      "60: ['58', '12th Fail', 'https://www.imdb.com/title/tt23849204/', '8.9', 'The real-life story of IPS Officer Manoj Kumar Sharma and IRS Officer Shraddha Joshi.', 'Biography, Drama', '2h 27m']\n",
      "61: ['59', 'Raiders of the Lost Ark', 'https://www.imdb.com/title/tt0082971/', '8.4', 'In 1936, archaeologist and adventurer Indiana Jones is hired by the U.S. government to find the Ark of the Covenant before the Nazis can obtain its awesome powers.', 'Action, Adventure', '1h 55m']\n",
      "62: ['60', 'Das Leben der Anderen', 'https://www.imdb.com/title/tt0405094/', '8.4', 'In 1984 East Berlin, an agent of the secret police conducting surveillance on a writer and his lover finds himself becoming increasingly absorbed by their lives.', 'Drama, Mystery, Thriller', '2h 17m']\n",
      "63: ['61', 'Sunset Blvd.', 'https://www.imdb.com/title/tt0043014/', '8.4', 'A screenwriter develops a dangerous relationship with a faded film star determined to make a triumphant return.', 'Drama, Film-Noir', '1h 50m']\n",
      "64: ['62', 'Avengers: Infinity War', 'https://www.imdb.com/title/tt4154756/', '8.4', 'The Avengers and their allies must be willing to sacrifice all in an attempt to defeat the powerful Thanos before his blitz of devastation and ruin puts an end to the universe.', 'Action, Adventure, Sci-Fi', '2h 29m']\n",
      "65: ['63', 'Paths of Glory', 'https://www.imdb.com/title/tt0050825/', '8.4', 'After a failed attack on a German position, a general orders three soldiers, chosen at random, court-martialed for cowardice and their commanding officer must defend them.', 'Drama, War', '1h 28m']\n",
      "66: ['64', 'Spider-Man: Into the Spider-Verse', 'https://www.imdb.com/title/tt4633694/', '8.4', 'Teen Miles Morales becomes the Spider-Man of his universe and must join with five spider-powered individuals from other dimensions to stop a threat for all realities.', 'Animation, Action, Adventure', '1h 57m']\n",
      "67: ['65', 'Witness for the Prosecution', 'https://www.imdb.com/title/tt0051201/', '8.4', 'A veteran British barrister must defend his client in a murder trial that has surprise after surprise.', 'Crime, Drama, Mystery', '1h 56m']\n",
      "68: ['66', 'The Shining', 'https://www.imdb.com/title/tt0081505/', '8.4', 'A family heads to an isolated hotel for the winter where a sinister presence influences the father into violence, while his psychic son sees horrific forebodings from both past and future.', 'Drama, Horror', '2h 26m']\n",
      "69: ['67', 'The Great Dictator', 'https://www.imdb.com/title/tt0032553/', '8.4', 'Dictator Adenoid Hynkel tries to expand his empire while a poor Jewish barber tries to avoid persecution from Hynkel&apos;s regime.', 'Comedy, Drama, War', '2h 5m']\n",
      "70: ['68', 'Aliens', 'https://www.imdb.com/title/tt0090605/', '8.4', 'Decades after surviving the Nostromo incident, Ellen Ripley is sent out to re-establish contact with a terraforming colony but finds herself battling the Alien Queen and her offspring.', 'Action, Adventure, Sci-Fi', '2h 17m']\n",
      "71: ['69', 'Inglourious Basterds', 'https://www.imdb.com/title/tt0361748/', '8.4', 'In Nazi-occupied France during World War II, a plan to assassinate Nazi leaders by a group of Jewish U.S. soldiers coincides with a theatre owner&apos;s vengeful plans for the same.', 'Adventure, Drama, War', '2h 33m']\n",
      "72: ['70', 'The Dark Knight Rises', 'https://www.imdb.com/title/tt1345836/', '8.4', 'Eight years after the Joker&apos;s reign of chaos, Batman is coerced out of exile with the assistance of the mysterious Selina Kyle in order to defend Gotham City from the vicious guerrilla terrorist Bane.', 'Action, Drama, Thriller', '2h 44m']\n",
      "73: ['71', 'Coco', 'https://www.imdb.com/title/tt2380307/', '8.4', 'Aspiring musician Miguel, confronted with his family&apos;s ancestral ban on music, enters the Land of the Dead to find his great-great-grandfather, a legendary singer.', 'Animation, Adventure, Drama', '1h 45m']\n",
      "74: ['72', 'Dr. Strangelove or: How I Learned to Stop Worrying and Love the Bomb', 'https://www.imdb.com/title/tt0057012/', '8.3', 'An unhinged American general orders a bombing attack on the Soviet Union, triggering a path to nuclear holocaust that a war room full of politicians and generals frantically tries to stop.', 'Comedy, War', '1h 35m']\n",
      "75: ['73', 'Oldeuboi', 'https://www.imdb.com/title/tt0364569/', '8.3', 'After being kidnapped and imprisoned for fifteen years, Oh Dae-Su is released, only to find that he must track down his captor in five days.', 'Action, Drama, Mystery', '2h 0m']\n",
      "76: ['74', 'Amadeus', 'https://www.imdb.com/title/tt0086879/', '8.4', 'The life, success and troubles of Wolfgang Amadeus Mozart, as told by Antonio Salieri, the contemporaneous composer who was deeply jealous of Mozart&apos;s talent and claimed to have murdered him.', 'Biography, Drama, Music', '2h 40m']\n",
      "77: ['75', 'American Beauty', 'https://www.imdb.com/title/tt0169547/', '8.3', 'A sexually frustrated suburban father has a mid-life crisis after becoming infatuated with his daughter&apos;s best friend.', 'Drama', '2h 2m']\n",
      "78: ['76', 'Toy Story', 'https://www.imdb.com/title/tt0114709/', '8.3', 'A cowboy doll is profoundly threatened and jealous when a new spaceman action figure supplants him as top toy in a boy&apos;s bedroom.', 'Animation, Adventure, Comedy', '1h 21m']\n",
      "79: ['77', 'Avengers: Endgame', 'https://www.imdb.com/title/tt4154796/', '8.4', 'After the devastating events of Avengers: Infinity War (2018), the universe is in ruins. With the help of remaining allies, the Avengers assemble once more in order to reverse Thanos&apos; actions and restore balance to the universe.', 'Action, Adventure, Drama', '3h 1m']\n",
      "80: ['78', 'Das Boot', 'https://www.imdb.com/title/tt0082096/', '8.4', 'A German U-boat stalks the frigid waters of the North Atlantic as its young crew experience the sheer terror and claustrophobic life of a submariner in World War II.', 'Drama, War', '2h 29m']\n",
      "81: ['79', 'Braveheart', 'https://www.imdb.com/title/tt0112573/', '8.3', 'Scottish warrior William Wallace leads his countrymen in a rebellion to free his homeland from the tyranny of King Edward I of England.', 'Biography, Drama, War', '2h 58m']\n",
      "82: ['80', 'Good Will Hunting', 'https://www.imdb.com/title/tt0119217/', '8.3', 'Will Hunting, a janitor at MIT, has a gift for mathematics, but needs help from a psychologist to find direction in his life.', 'Drama, Romance', '2h 6m']\n",
      "83: ['81', 'Mononoke-hime', 'https://www.imdb.com/title/tt0119698/', '8.3', 'On a journey to find the cure for a Tatarigami&apos;s curse, Ashitaka finds himself in the middle of a war between the forest gods and Tatara, a mining colony. In this quest he also meets San, the Mononoke Hime.', 'Animation, Action, Adventure', '2h 14m']\n",
      "84: ['82', 'Joker', 'https://www.imdb.com/title/tt7286456/', '8.4', 'During the 1980s, a failed stand-up comedian is driven insane and turns to a life of crime and chaos in Gotham City while becoming an infamous psychopathic crime figure.', 'Crime, Drama, Thriller', '2h 2m']\n",
      "85: ['83', 'Kimi no na wa.', 'https://www.imdb.com/title/tt5311514/', '8.4', 'Two teenagers share a profound, magical connection upon discovering they are swapping bodies. Things manage to become even more complicated when the boy and girl decide to meet in person.', 'Animation, Drama, Fantasy', '1h 46m']\n",
      "86: ['84', 'Tengoku to jigoku', 'https://www.imdb.com/title/tt0057565/', '8.4', 'An executive of a Yokohama shoe company becomes a victim of extortion when his chauffeur&apos;s son is kidnapped by mistake and held for ransom.', 'Crime, Drama, Mystery', '2h 23m']\n",
      "87: ['85', 'Once Upon a Time in America', 'https://www.imdb.com/title/tt0087843/', '8.3', 'A former Prohibition-era Jewish gangster returns to the Lower East Side of Manhattan 35 years later, where he must once again confront the ghosts and regrets of his old life.', 'Crime, Drama', '3h 49m']\n",
      "88: ['86', '3 Idiots', 'https://www.imdb.com/title/tt1187043/', '8.4', 'Two friends are searching for their long lost companion. They revisit their college days and recall the memories of their friend who inspired them to think differently, even as the rest of the world called them &quot;idiots&quot;.', 'Comedy, Drama', '2h 50m']\n",
      "89: ['87', 'Singin&apos; in the Rain', 'https://www.imdb.com/title/tt0045152/', '8.3', 'A silent film star falls for a chorus girl just as he and his delusionally jealous screen partner are trying to make the difficult transition to talking pictures in 1920s Hollywood.', 'Comedy, Musical, Romance', '1h 43m']\n",
      "90: ['88', 'CapharnaÃƒÂ¼m', 'https://www.imdb.com/title/tt8267604/', '8.4', 'While serving a five-year sentence for a violent crime, a 12-year-old boy sues his parents for neglect.', 'Drama', '2h 6m']\n",
      "91: ['89', 'Idi i smotri', 'https://www.imdb.com/title/tt0091251/', '8.4', 'After finding an old rifle, a young boy joins the Soviet resistance movement against ruthless German forces and experiences the horrors of World War II.', 'Drama, Thriller, War', '2h 22m']\n",
      "92: ['90', 'Requiem for a Dream', 'https://www.imdb.com/title/tt0180093/', '8.3', 'The drug-induced utopias of four Coney Island people are shattered when their addictions run deep..', 'Drama', '1h 42m']\n",
      "93: ['91', 'Toy Story 3', 'https://www.imdb.com/title/tt0435761/', '8.3', 'The toys are mistakenly delivered to a day-care center instead of the attic right before Andy leaves for college, and it&apos;s up to Woody to convince the other toys that they weren&apos;t abandoned and to return home.', 'Animation, Adventure, Comedy', '1h 43m']\n",
      "94: ['92', 'Star Wars: Episode VI - Return of the Jedi', 'https://www.imdb.com/title/tt0086190/', '8.3', 'After rescuing Han Solo from Jabba the Hutt, the Rebel Alliance attempt to destroy the second Death Star, while Luke struggles to help Darth Vader back from the dark side.', 'Action, Adventure, Fantasy', '2h 11m']\n",
      "95: ['93', 'Eternal Sunshine of the Spotless Mind', 'https://www.imdb.com/title/tt0338013/', '8.3', 'When their relationship turns sour, a couple undergoes a medical procedure to have each other erased from their memories forever.', 'Drama, Romance, Sci-Fi', '1h 48m']\n",
      "96: ['94', 'Jagten', 'https://www.imdb.com/title/tt2106476/', '8.3', 'A teacher lives a lonely life, all the while struggling over his son&apos;s custody. His life slowly gets better as he finds love and receives good news from his son, but his new luck is about to be brutally shattered by an innocent li...', 'Drama', '1h 55m']\n",
      "97: ['95', '2001: A Space Odyssey', 'https://www.imdb.com/title/tt0062622/', '8.3', 'After uncovering a mysterious artifact buried beneath the Lunar surface, a spacecraft is sent to Jupiter to find its origins: a spacecraft manned by two men and the supercomputer HAL 9000.', 'Adventure, Sci-Fi', '2h 29m']\n",
      "98: ['96', 'Reservoir Dogs', 'https://www.imdb.com/title/tt0105236/', '8.3', 'When a simple jewelry heist goes horribly wrong, the surviving criminals begin to suspect that one of them is a police informant.', 'Crime, Thriller', '1h 39m']\n",
      "99: ['97', 'Ikiru', 'https://www.imdb.com/title/tt0044741/', '8.3', 'A bureaucrat tries to find meaning in his life after he discovers he has terminal cancer.', 'Drama', '2h 23m']\n",
      "100: ['98', 'Oppenheimer', 'https://www.imdb.com/title/tt15398776/', '8.3', 'The story of American scientist J. Robert Oppenheimer and his role in the development of the atomic bomb.', 'Biography, Drama, History', '3h 0m']\n",
      "101: ['99', 'Lawrence of Arabia', 'https://www.imdb.com/title/tt0056172/', '8.3', 'The story of T.E. Lawrence, the English officer who successfully united and led the diverse, often warring, Arab tribes during World War I in order to fight the Turks.', 'Adventure, Biography, Drama', '3h 38m']\n",
      "102: ['100', 'The Apartment', 'https://www.imdb.com/title/tt0053604/', '8.3', 'A Manhattan insurance clerk tries to rise in his company by letting its executives use his apartment for trysts, but office politics and his own romantic hopes complicate matters.', 'Comedy, Drama, Romance', '2h 5m']\n",
      "103: ['101', 'Incendies', 'https://www.imdb.com/title/tt1255953/', '8.3', 'Twins journey to the Middle East to discover their family history and fulfill their mother&apos;s last wishes.', 'Drama, Mystery, War', '2h 11m']\n",
      "104: ['102', 'North by Northwest', 'https://www.imdb.com/title/tt0053125/', '8.3', 'A New York City advertising executive goes on the run after being mistaken for a government agent by a group of foreign spies, and falls for a woman whose loyalties he begins to doubt.', 'Action, Adventure, Mystery', '2h 16m']\n",
      "105: ['103', 'Citizen Kane', 'https://www.imdb.com/title/tt0033467/', '8.3', 'Following the death of publishing tycoon Charles Foster Kane, reporters scramble to uncover the meaning of his final utterance: &apos;Rosebud.&apos;', 'Drama, Mystery', '1h 59m']\n",
      "106: ['104', 'M - Eine Stadt sucht einen MÃƒÂ¶rder', 'https://www.imdb.com/title/tt0022100/', '8.3', 'When the police in a German city are unable to catch a child-murderer, other criminals join in the manhunt.', 'Crime, Mystery, Thriller', '1h 57m']\n",
      "107: ['105', 'Scarface', 'https://www.imdb.com/title/tt0086250/', '8.3', 'In 1980 Miami, a determined Cuban immigrant takes over a drug cartel and succumbs to greed.', 'Crime, Drama', '2h 50m']\n",
      "108: ['106', 'Double Indemnity', 'https://www.imdb.com/title/tt0036775/', '8.3', 'A Los Angeles insurance representative lets an alluring housewife seduce him into a scheme of insurance fraud and murder that arouses the suspicion of his colleague, an insurance investigator.', 'Crime, Drama, Film-Noir', '1h 47m']\n",
      "109: ['107', 'Vertigo', 'https://www.imdb.com/title/tt0052357/', '8.3', 'A former San Francisco police detective juggles wrestling with his personal demons and becoming obsessed with the hauntingly beautiful woman he has been hired to trail, who may be deeply disturbed.', 'Mystery, Romance, Thriller', '2h 8m']\n",
      "110: ['108', 'Full Metal Jacket', 'https://www.imdb.com/title/tt0093058/', '8.3', 'A pragmatic U.S. Marine observes the dehumanizing effects the Vietnam War has on his fellow recruits from their brutal boot camp training to the bloody street fighting in Hue.', 'Drama, War', '1h 56m']\n",
      "111: ['109', 'Le fabuleux destin d&apos;AmÃƒÂ©lie Poulain', 'https://www.imdb.com/title/tt0211915/', '8.3', 'Despite being caught in her imaginative world, Amelie, a young waitress, decides to help people find happiness. Her quest to spread joy leads her on a journey where she finds true love.', 'Comedy, Romance', '2h 2m']\n",
      "112: ['110', 'Heat', 'https://www.imdb.com/title/tt0113277/', '8.3', 'A group of high-end professional thieves start to feel the heat from the LAPD when they unknowingly leave a verbal clue at their latest heist.', 'Action, Crime, Drama', '2h 50m']\n",
      "113: ['111', 'Up', 'https://www.imdb.com/title/tt1049413/', '8.3', '78-year-old Carl Fredricksen travels to Paradise Falls in his house equipped with balloons, inadvertently taking a young stowaway.', 'Animation, Adventure, Comedy', '1h 36m']\n",
      "114: ['112', 'A Clockwork Orange', 'https://www.imdb.com/title/tt0066921/', '8.3', 'In Stanley Kubrick&apos;s controversial filming of the Anthony Burgess dystopian novel, sadistic gang leader Alex DeLarge is imprisoned and volunteers for a conduct-aversion experiment, but it doesn&apos;t go as planned.', 'Crime, Sci-Fi', '2h 16m']\n",
      "115: ['113', 'To Kill a Mockingbird', 'https://www.imdb.com/title/tt0056592/', '8.3', 'Atticus Finch, a widowed lawyer in Depression-era Alabama, defends a Black man against an undeserved rape charge, and tries to educate his young children against prejudice.', 'Crime, Drama', '2h 9m']\n",
      "116: ['114', 'Jodaeiye Nader az Simin', 'https://www.imdb.com/title/tt1832382/', '8.3', 'A married couple are faced with a difficult decision - to improve the life of their child by moving to another country or to stay in Iran and look after a deteriorating parent who has Alzheimer&apos;s disease.', 'Drama', '2h 3m']\n",
      "117: ['115', 'The Sting', 'https://www.imdb.com/title/tt0070735/', '8.3', 'Two grifters team up to pull off the ultimate con.', 'Comedy, Crime, Drama', '2h 9m']\n",
      "118: ['116', 'Indiana Jones and the Last Crusade', 'https://www.imdb.com/title/tt0097576/', '8.2', 'In 1938, after his father goes missing while pursuing the Holy Grail, Indiana Jones finds himself up against the Nazis again to stop them from obtaining its powers.', 'Action, Adventure', '2h 7m']\n",
      "119: ['117', 'Die Hard', 'https://www.imdb.com/title/tt0095016/', '8.2', 'A New York City police officer tries to save his estranged wife and several others taken hostage by terrorists during a Christmas party at the Nakatomi Plaza in Los Angeles.', 'Action, Thriller', '2h 12m']\n",
      "120: ['118', 'Taare Zameen Par', 'https://www.imdb.com/title/tt0986264/', '8.3', 'An eight-year-old boy is thought to be a lazy trouble-maker, until the new art teacher has the patience and compassion to discover the real problem behind his struggles in school.', 'Drama, Family', '2h 42m']\n",
      "121: ['119', 'Metropolis', 'https://www.imdb.com/title/tt0017136/', '8.3', 'In a futuristic city sharply divided between the working class and the city planners, the son of the city&apos;s mastermind falls in love with a working-class prophet who predicts the coming of a savior to mediate their differences.', 'Drama, Sci-Fi', '2h 33m']\n",
      "122: ['120', 'Snatch', 'https://www.imdb.com/title/tt0208092/', '8.2', 'Unscrupulous boxing promoters, violent bookmakers, a Russian gangster, incompetent amateur robbers and supposedly Jewish jewelers fight to track down a priceless stolen diamond.', 'Comedy, Crime', '1h 44m']\n",
      "123: ['121', '1917', 'https://www.imdb.com/title/tt8579674/', '8.2', 'April 6th, 1917. As an infantry battalion assembles to wage war deep in enemy territory, two soldiers are assigned to race against time and deliver a message that will stop 1,600 men from walking straight into a deadly trap.', 'Action, Drama, History', '1h 59m']\n",
      "124: ['122', 'L.A. Confidential', 'https://www.imdb.com/title/tt0119488/', '8.2', 'As corruption grows in 1950s Los Angeles, three policemen - one strait-laced, one brutal, and one sleazy - investigate a series of murders with their own brand of justice.', 'Crime, Drama, Mystery', '2h 18m']\n",
      "125: ['123', 'Ladri di biciclette', 'https://www.imdb.com/title/tt0040522/', '8.3', 'In post-war Italy, a working-class man&apos;s bicycle is stolen, endangering his efforts to find work. He and his son set out to find it.', 'Drama', '1h 29m']\n",
      "126: ['124', 'Hamilton', 'https://www.imdb.com/title/tt8503618/', '8.3', 'The real life of one of America&apos;s foremost founding fathers and first Secretary of the Treasury, Alexander Hamilton. Captured live on Broadway from the Richard Rodgers Theater with the original Broadway cast.', 'Biography, Drama, History', '2h 40m']\n",
      "127: ['125', 'Taxi Driver', 'https://www.imdb.com/title/tt0075314/', '8.2', 'A mentally unstable veteran works as a nighttime taxi driver in New York City, where the perceived decadence and sleaze fuels his urge for violent action.', 'Crime, Drama', '1h 54m']\n",
      "128: ['126', 'Der Untergang', 'https://www.imdb.com/title/tt0363163/', '8.2', 'Traudl Junge, the final secretary for Adolf Hitler, tells of the Nazi dictator&apos;s final days in his Berlin bunker at the end of WWII.', 'Biography, Drama, History', '2h 36m']\n",
      "129: ['127', 'Dangal', 'https://www.imdb.com/title/tt5074352/', '8.3', 'Former wrestler Mahavir Singh Phogat and his two wrestler daughters struggle towards glory at the Commonwealth Games in the face of societal oppression.', 'Action, Biography, Drama', '2h 41m']\n",
      "130: ['128', 'Per qualche dollaro in piÃƒÂ¹', 'https://www.imdb.com/title/tt0059578/', '8.2', 'Two bounty hunters with the same intentions team up to track down a gang of outlaws led by a psychotic Mexican bandit, who is plotting an audacious bank robbery.', 'Drama, Western', '2h 12m']\n",
      "131: ['129', 'Batman Begins', 'https://www.imdb.com/title/tt0372784/', '8.2', 'After witnessing his parents&apos; death, Bruce learns the art of fighting to confront injustice. When he returns to Gotham as Batman, he must stop a secret society that intends to destroy the city.', 'Action, Crime, Drama', '2h 20m']\n",
      "132: ['130', 'The Wolf of Wall Street', 'https://www.imdb.com/title/tt0993846/', '8.2', 'Based on the true story of Jordan Belfort, from his rise to a wealthy stock-broker living the high life to his fall involving crime, corruption and the federal government.', 'Biography, Comedy, Crime', '3h 0m']\n",
      "133: ['131', 'Some Like It Hot', 'https://www.imdb.com/title/tt0053291/', '8.2', 'After two male musicians witness a mob hit, they flee the state in an all-female band disguised as women, but further complications set in.', 'Comedy, Music, Romance', '2h 1m']\n",
      "134: ['132', 'Green Book', 'https://www.imdb.com/title/tt6966692/', '8.2', 'A working-class Italian-American bouncer becomes the driver for an African-American classical pianist on a tour of venues through the 1960s American South.', 'Biography, Comedy, Drama', '2h 10m']\n",
      "135: ['133', 'The Kid', 'https://www.imdb.com/title/tt0012349/', '8.2', 'The Tramp cares for an abandoned child, but events put their relationship in jeopardy.', 'Comedy, Drama, Family', '1h 8m']\n",
      "136: ['134', 'The Father', 'https://www.imdb.com/title/tt10272386/', '8.2', 'A man refuses all assistance from his daughter as he ages. As he tries to make sense of his changing circumstances, he begins to doubt his loved ones, his own mind and even the fabric of his reality.', 'Drama, Mystery', '1h 37m']\n",
      "137: ['135', 'Judgment at Nuremberg', 'https://www.imdb.com/title/tt0055031/', '8.3', 'In 1948, an American court in occupied Germany tries four Nazis judged for war crimes.', 'Drama, War', '2h 59m']\n",
      "138: ['136', 'The Truman Show', 'https://www.imdb.com/title/tt0120382/', '8.2', 'An insurance salesman discovers his whole life is actually a reality TV show.', 'Comedy, Drama', '1h 43m']\n",
      "139: ['137', 'All About Eve', 'https://www.imdb.com/title/tt0042192/', '8.2', 'Seemingly timid but secretly ruthless ingenue Eve Harrington insinuates herself into the lives of aging Broadway star Margo Channing and her circle of theater friends in this Oscar-winning story.', 'Drama', '2h 18m']\n",
      "140: ['138', 'Shutter Island', 'https://www.imdb.com/title/tt1130884/', '8.2', 'Teddy Daniels and Chuck Aule, two US marshals, are sent to an asylum on a remote island in order to investigate the disappearance of a patient, where Teddy uncovers a shocking truth about the place.', 'Drama, Mystery, Thriller', '2h 18m']\n",
      "141: ['139', 'Top Gun: Maverick', 'https://www.imdb.com/title/tt1745960/', '8.2', 'After thirty years, Maverick is still pushing the envelope as a top naval aviator, but must confront ghosts of his past when he leads TOP GUN&apos;s elite graduates on a mission that demands the ultimate sacrifice from those chosen to ...', 'Action, Drama', '2h 10m']\n",
      "142: ['140', 'There Will Be Blood', 'https://www.imdb.com/title/tt0469494/', '8.2', 'A story of family, religion, hatred, oil and madness, focusing on a turn-of-the-century prospector in the early days of the business.', 'Drama', '2h 38m']\n",
      "143: ['141', 'Casino', 'https://www.imdb.com/title/tt0112641/', '8.2', 'In Las Vegas, two best friends - a casino executive and a mafia enforcer - compete for a gambling empire and a fast-living, fast-loving socialite.', 'Crime, Drama', '2h 58m']\n",
      "144: ['142', 'Jurassic Park', 'https://www.imdb.com/title/tt0107290/', '8.2', 'A pragmatic paleontologist touring an almost complete theme park on an island in Central America is tasked with protecting a couple of kids after a power failure causes the park&apos;s cloned dinosaurs to run loose.', 'Action, Adventure, Sci-Fi', '2h 7m']\n",
      "145: ['143', 'Ran', 'https://www.imdb.com/title/tt0089881/', '8.2', 'In Medieval Japan, an elderly warlord retires, handing over his empire to his three sons. However, he vastly underestimates how the new-found power will corrupt them and cause them to turn on each other...and him.', 'Action, Drama, War', '2h 40m']\n",
      "146: ['144', 'The Sixth Sense', 'https://www.imdb.com/title/tt0167404/', '8.2', 'Malcolm Crowe, a child psychologist, starts treating a young boy, Cole, who encounters dead people and convinces him to help them. In turn, Cole helps Malcolm reconcile with his estranged wife.', 'Drama, Mystery, Thriller', '1h 47m']\n",
      "147: ['145', 'El laberinto del fauno', 'https://www.imdb.com/title/tt0457430/', '8.2', 'In the Falangist Spain of 1944, the bookish young stepdaughter of a sadistic army officer escapes into an eerie but captivating fantasy world.', 'Drama, Fantasy, War', '1h 58m']\n",
      "148: ['146', 'Unforgiven', 'https://www.imdb.com/title/tt0105695/', '8.2', 'Retired Old West gunslinger William Munny reluctantly takes on one last job, with the help of his old partner Ned Logan and a young man, The &quot;Schofield Kid.&quot;', 'Drama, Western', '2h 10m']\n",
      "149: ['147', 'No Country for Old Men', 'https://www.imdb.com/title/tt0477348/', '8.2', 'Violence and mayhem ensue after a hunter stumbles upon the aftermath of a drug deal gone wrong and over two million dollars in cash near the Rio Grande.', 'Crime, Drama, Thriller', '2h 2m']\n",
      "150: ['148', 'A Beautiful Mind', 'https://www.imdb.com/title/tt0268978/', '8.2', 'A mathematical genius, John Nash made an astonishing discovery early in his career and stood on the brink of international acclaim. But the handsome and arrogant Nash soon found himself on a harrowing journey of self-discovery.', 'Biography, Drama, Mystery', '2h 15m']\n",
      "151: ['149', 'The Thing', 'https://www.imdb.com/title/tt0084787/', '8.2', 'A research team in Antarctica is hunted by a shape-shifting alien that assumes the appearance of its victims.', 'Horror, Mystery, Sci-Fi', '1h 49m']\n",
      "152: ['150', 'Kill Bill: Vol. 1', 'https://www.imdb.com/title/tt0266697/', '8.2', 'After awakening from a four-year coma, a former assassin wreaks vengeance on the team of assassins who betrayed her.', 'Action, Crime, Thriller', '1h 51m']\n",
      "153: ['151', 'The Treasure of the Sierra Madre', 'https://www.imdb.com/title/tt0040897/', '8.2', 'Two down-on-their-luck Americans searching for work in 1920s Mexico convince an old prospector to help them mine for gold in the Sierra Madre Mountains.', 'Adventure, Drama, Western', '2h 6m']\n",
      "154: ['152', 'YÃƒÂ´jinbÃƒÂ´', 'https://www.imdb.com/title/tt0055630/', '8.2', 'A crafty ronin comes to a town divided by two criminal gangs and decides to play them against each other to free the town.', 'Action, Drama, Thriller', '1h 50m']\n",
      "155: ['153', 'Monty Python and the Holy Grail', 'https://www.imdb.com/title/tt0071853/', '8.2', 'King Arthur and his Knights of the Round Table embark on a surreal, low-budget search for the Holy Grail, encountering many, very silly obstacles.', 'Adventure, Comedy, Fantasy', '1h 31m']\n",
      "156: ['154', 'The Great Escape', 'https://www.imdb.com/title/tt0057115/', '8.2', 'Allied prisoners of war plan for several hundred of their number to escape from a German camp during World War II.', 'Adventure, Drama, Thriller', '2h 52m']\n",
      "157: ['155', 'Finding Nemo', 'https://www.imdb.com/title/tt0266543/', '8.2', 'After his son is captured in the Great Barrier Reef and taken to Sydney, a timid clownfish sets out on a journey to bring him home.', 'Animation, Adventure, Comedy', '1h 40m']\n",
      "158: ['156', 'Prisoners', 'https://www.imdb.com/title/tt1392214/', '8.2', 'When Keller Dover&apos;s daughter and her friend go missing, he takes matters into his own hands as the police pursue multiple leads and the pressure mounts.', 'Crime, Drama, Mystery', '2h 33m']\n",
      "159: ['157', 'Hauru no ugoku shiro', 'https://www.imdb.com/title/tt0347149/', '8.2', 'When an unconfident young woman is cursed with an old body by a spiteful witch, her only chance of breaking the spell lies with a self-indulgent yet insecure young wizard and his companions in his legged, walking castle.', 'Animation, Adventure, Family', '1h 59m']\n",
      "160: ['158', 'RashÃƒÂ´mon', 'https://www.imdb.com/title/tt0042876/', '8.2', 'The rape of a bride and the murder of her samurai husband are recalled from the perspectives of a bandit, the bride, the samurai&apos;s ghost and a woodcutter.', 'Crime, Drama, Mystery', '1h 28m']\n",
      "161: ['159', 'The Elephant Man', 'https://www.imdb.com/title/tt0080678/', '8.2', 'A Victorian surgeon rescues a heavily disfigured man who is mistreated while scraping a living as a side-show freak. Behind his monstrous faÃƒÂ§ade, there is revealed a person of kindness, intelligence and sophistication.', 'Biography, Drama', '2h 4m']\n",
      "162: ['160', 'Dial M for Murder', 'https://www.imdb.com/title/tt0046912/', '8.2', 'A former tennis star arranges the murder of his adulterous wife.', 'Crime, Thriller', '1h 45m']\n",
      "163: ['161', 'Chinatown', 'https://www.imdb.com/title/tt0071315/', '8.1', 'A private detective hired to expose an adulterer in 1930s Los Angeles finds himself caught up in a web of deceit, corruption, and murder.', 'Drama, Mystery, Thriller', '2h 10m']\n",
      "164: ['162', 'Gone with the Wind', 'https://www.imdb.com/title/tt0031381/', '8.2', 'A sheltered and manipulative Southern belle and a roguish profiteer face off in a turbulent romance as the society around them crumbles with the end of slavery and is rebuilt during the Civil War and Reconstruction periods.', 'Drama, Romance, War', '3h 58m']\n",
      "165: ['163', 'Lock, Stock and Two Smoking Barrels', 'https://www.imdb.com/title/tt0120735/', '8.1', 'Eddy persuades his three pals to pool money for a vital poker game against a powerful local mobster, Hatchet Harry. Eddy loses, after which Harry gives him a week to pay back 500,000 pounds.', 'Action, Comedy, Crime', '1h 47m']\n",
      "166: ['164', 'V for Vendetta', 'https://www.imdb.com/title/tt0434409/', '8.2', 'In a future British dystopian society, a shadowy freedom fighter, known only by the alias of &quot;V&quot;, plots to overthrow the tyrannical government - with the help of a young woman.', 'Action, Drama, Sci-Fi', '2h 12m']\n",
      "167: ['165', 'El secreto de sus ojos', 'https://www.imdb.com/title/tt1305806/', '8.2', 'A retired legal counselor writes a novel hoping to find closure for one of his past unresolved homicide cases and for his unreciprocated love with his superior - both of which still haunt him decades later.', 'Drama, Mystery, Romance', '2h 9m']\n",
      "168: ['166', 'Inside Out', 'https://www.imdb.com/title/tt2096673/', '8.1', 'After young Riley is uprooted from her Midwest life and moved to San Francisco, her emotions - Joy, Fear, Anger, Disgust and Sadness - conflict on how best to navigate a new city, house, and school.', 'Animation, Adventure, Comedy', '1h 35m']\n",
      "169: ['167', 'Raging Bull', 'https://www.imdb.com/title/tt0081398/', '8.1', 'The life of boxer Jake LaMotta, whose violence and temper that led him to the top in the ring destroyed his life outside of it.', 'Biography, Drama, Sport', '2h 9m']\n",
      "170: ['168', 'Three Billboards Outside Ebbing, Missouri', 'https://www.imdb.com/title/tt5027774/', '8.1', 'A mother personally challenges the local authorities to solve her daughter&apos;s murder when they fail to catch the culprit.', 'Comedy, Crime, Drama', '1h 55m']\n",
      "171: ['169', 'Trainspotting', 'https://www.imdb.com/title/tt0117951/', '8.1', 'Renton, deeply immersed in the Edinburgh drug scene, tries to clean up and get out despite the allure of drugs and the influence of friends.', 'Drama', '1h 33m']\n",
      "172: ['170', 'The Bridge on the River Kwai', 'https://www.imdb.com/title/tt0050212/', '8.1', 'British POWs are forced to build a railway bridge across the river Kwai for their Japanese captors in occupied Burma, not knowing that the allied forces are planning a daring commando raid through the jungle to destroy it.', 'Adventure, Drama, War', '2h 41m']\n",
      "173: ['171', 'Klaus', 'https://www.imdb.com/title/tt4729430/', '8.2', 'A simple act of kindness always sparks another, even in a frozen, faraway place. When Smeerensburg&apos;s new postman, Jesper, befriends toymaker Klaus, their gifts melt an age-old feud and deliver a sleigh full of holiday traditions.', 'Animation, Adventure, Comedy', '1h 36m']\n",
      "174: ['172', 'Fargo', 'https://www.imdb.com/title/tt0116282/', '8.1', 'Minnesota car salesman Jerry Lundegaard&apos;s inept crime falls apart due to his and his henchmen&apos;s bungling and the persistent police work of the quite pregnant Marge Gunderson.', 'Crime, Thriller', '1h 38m']\n",
      "175: ['173', 'Catch Me If You Can', 'https://www.imdb.com/title/tt0264464/', '8.1', 'Barely 17 yet, Frank is a skilled forger who has passed as a doctor, lawyer and pilot. FBI agent Carl becomes obsessed with tracking down the con man, who only revels in the pursuit.', 'Biography, Crime, Drama', '2h 21m']\n",
      "176: ['174', 'Spider-Man: No Way Home', 'https://www.imdb.com/title/tt10872600/', '8.2', 'With Spider-Man&apos;s identity now revealed, Peter asks Doctor Strange for help. When a spell goes wrong, dangerous foes from other worlds start to appear, forcing Peter to discover what it truly means to be Spider-Man.', 'Action, Adventure, Fantasy', '2h 28m']\n",
      "177: ['175', 'Warrior', 'https://www.imdb.com/title/tt1291584/', '8.1', 'The youngest son of an alcoholic former boxer returns home, where he&apos;s trained by his father for competition in a mixed martial arts tournament - a path that puts the fighter on a collision course with his estranged, older brother.', 'Action, Drama, Sport', '2h 20m']\n",
      "178: ['176', 'Gran Torino', 'https://www.imdb.com/title/tt1205489/', '8.1', 'After a Hmong teenager tries to steal his prized 1972 Gran Torino, a disgruntled, prejudiced Korean War veteran seeks to redeem both the boy and himself.', 'Drama', '1h 56m']\n",
      "179: ['177', 'Harry Potter and the Deathly Hallows - Part 2', 'https://www.imdb.com/title/tt1201607/', '8.1', 'Harry, Ron, and Hermione search for Voldemort&apos;s remaining Horcruxes in their effort to destroy the Dark Lord as the final battle rages on at Hogwarts.', 'Adventure, Family, Fantasy', '2h 10m']\n",
      "180: ['178', 'Million Dollar Baby', 'https://www.imdb.com/title/tt0405159/', '8.1', 'Frankie, an ill-tempered old coach, reluctantly agrees to train aspiring boxer Maggie. Impressed with her determination and talent, he helps her become the best and the two soon form a close bond.', 'Drama, Sport', '2h 12m']\n",
      "181: ['179', 'Tonari no Totoro', 'https://www.imdb.com/title/tt0096283/', '8.1', 'When two girls move to the country to be near their ailing mother, they have adventures with the wondrous forest spirits who live nearby.', 'Animation, Comedy, Family', '1h 26m']\n",
      "182: ['180', 'Bacheha-Ye aseman', 'https://www.imdb.com/title/tt0118849/', '8.2', 'After a boy loses his sister&apos;s pair of shoes, he goes on a series of adventures in order to find them. When he can&apos;t, he tries a new way to &quot;win&quot; a new pair.', 'Drama, Family, Sport', '1h 29m']\n",
      "183: ['181', '12 Years a Slave', 'https://www.imdb.com/title/tt2024544/', '8.1', 'In the antebellum United States, Solomon Northup, a free Black man from upstate New York, is abducted and sold into slavery.', 'Biography, Drama, History', '2h 14m']\n",
      "184: ['182', 'Ben-Hur', 'https://www.imdb.com/title/tt0052618/', '8.1', 'After a Jewish prince is betrayed and sent into slavery by a Roman friend in 1st-century Jerusalem, he regains his freedom and comes back for revenge.', 'Adventure, Drama', '3h 32m']\n",
      "185: ['183', 'Blade Runner', 'https://www.imdb.com/title/tt0083658/', '8.1', 'A blade runner must pursue and terminate four replicants who stole a ship in space and have returned to Earth to find their creator.', 'Action, Drama, Sci-Fi', '1h 57m']\n",
      "186: ['184', 'Before Sunrise', 'https://www.imdb.com/title/tt0112471/', '8.1', 'A young man and woman meet on a train in Europe, and wind up spending one evening together in Vienna. Unfortunately, both know that this will probably be their only night together.', 'Drama, Romance', '1h 41m']\n",
      "187: ['185', 'Barry Lyndon', 'https://www.imdb.com/title/tt0072684/', '8.1', 'An Irish rogue wins the heart of a rich widow and assumes her dead husband&apos;s aristocratic position in 18th-century England.', 'Adventure, Drama, War', '3h 5m']\n",
      "188: ['186', 'The Grand Budapest Hotel', 'https://www.imdb.com/title/tt2278388/', '8.1', 'A writer encounters the owner of an aging high-class hotel, who tells him of his early years serving as a lobby boy in the hotel&apos;s glorious years under an exceptional concierge.', 'Adventure, Comedy, Crime', '1h 39m']\n",
      "189: ['187', 'Mad Max: Fury Road', 'https://www.imdb.com/title/tt1392190/', '8.1', 'In a post-apocalyptic wasteland, a woman rebels against a tyrannical ruler in search for her homeland with the aid of a group of female prisoners, a psychotic worshipper and a drifter named Max.', 'Action, Adventure, Sci-Fi', '2h 0m']\n",
      "190: ['188', 'Gone Girl', 'https://www.imdb.com/title/tt2267998/', '8.1', 'With his wife&apos;s disappearance having become the focus of an intense media circus, a man sees the spotlight turned on him when it&apos;s suspected that he may not be innocent.', 'Drama, Mystery, Thriller', '2h 29m']\n",
      "191: ['189', 'Hacksaw Ridge', 'https://www.imdb.com/title/tt2119532/', '8.1', 'World War II American Army Medic Desmond T. Doss, serving during the Battle of Okinawa, refuses to kill people and becomes the first man in American history to receive the Medal of Honor without firing a shot.', 'Biography, Drama, History', '2h 19m']\n",
      "192: ['190', 'Dead Poets Society', 'https://www.imdb.com/title/tt0097165/', '8.1', 'Maverick teacher John Keating returns in 1959 to the prestigious New England boys&apos; boarding school where he was once a star student, using poetry to embolden his pupils to new heights of self-expression.', 'Comedy, Drama', '2h 8m']\n",
      "193: ['191', 'The Gold Rush', 'https://www.imdb.com/title/tt0015864/', '8.1', 'A prospector goes to the Klondike during the 1890s gold rush in hopes of making his fortune, and is smitten with a girl he sees in a dance hall.', 'Adventure, Comedy, Drama', '1h 35m']\n",
      "194: ['192', 'Salinui chueok', 'https://www.imdb.com/title/tt0353969/', '8.1', 'In a small Korean province in 1986, two detectives struggle with the case of multiple young women being found raped and murdered by an unknown culprit.', 'Crime, Drama, Mystery', '2h 11m']\n",
      "195: ['193', 'In the Name of the Father', 'https://www.imdb.com/title/tt0107207/', '8.1', 'An Irish man&apos;s coerced confession to an I.R.A. bombing he did not commit results in the imprisonment of his father as well. Meanwhile, a British lawyer fights to clear their names and free them.', 'Biography, Crime, Drama', '2h 13m']\n",
      "196: ['194', 'Relatos salvajes', 'https://www.imdb.com/title/tt3011894/', '8.1', 'Six short stories that explore the extremities of human behavior involving people in distress.', 'Comedy, Drama, Thriller', '2h 2m']\n",
      "197: ['195', 'Monsters, Inc.', 'https://www.imdb.com/title/tt0198781/', '8.1', 'In order to power the city, monsters have to scare children so that they scream. However, the children are toxic to the monsters, and after a child gets through, two monsters realize things may not be what they think.', 'Animation, Adventure, Comedy', '1h 32m']\n",
      "198: ['196', 'The Deer Hunter', 'https://www.imdb.com/title/tt0077416/', '8.1', 'An in-depth examination of the ways in which the Vietnam War impacts and disrupts the lives of several friends in a small steel mill town in Pennsylvania.', 'Drama, War', '3h 3m']\n",
      "199: ['197', 'The General', 'https://www.imdb.com/title/tt0017925/', '8.1', 'After being rejected by the Confederate military, not realizing it was due to his crucial civilian role, an engineer must single-handedly recapture his beloved locomotive after it is seized by Union spies and return it through ene...', 'Action, Adventure, Comedy', '1h 18m']\n",
      "200: ['198', 'On the Waterfront', 'https://www.imdb.com/title/tt0047296/', '8.1', 'An ex-prize fighter turned New Jersey longshoreman struggles to stand up to his corrupt union bosses, including his older brother, as he starts to connect with the grieving sister of one of the syndicate&apos;s victims.', 'Crime, Drama, Thriller', '1h 48m']\n",
      "201: ['199', 'Sherlock Jr.', 'https://www.imdb.com/title/tt0015324/', '8.2', 'A film projectionist longs to be a detective, and puts his meagre skills to work when he is framed by a rival for stealing his girlfriend&apos;s father&apos;s pocketwatch.', 'Action, Comedy, Romance', '0h 45m']\n",
      "202: ['200', 'How to Train Your Dragon', 'https://www.imdb.com/title/tt0892769/', '8.1', 'A hapless young Viking who aspires to hunt dragons becomes the unlikely friend of a young dragon himself, and learns there may be more to the creatures than he assumed.', 'Animation, Action, Adventure', '1h 38m']\n",
      "203: ['201', 'Jaws', 'https://www.imdb.com/title/tt0073195/', '8.1', 'When a killer shark unleashes chaos on a beach community off Cape Cod, it&apos;s up to a local sheriff, a marine biologist, and an old seafarer to hunt the beast down.', 'Adventure, Mystery, Thriller', '2h 4m']\n",
      "204: ['202', 'Mary and Max.', 'https://www.imdb.com/title/tt0978762/', '8.1', 'In 1976 Melbourne, a lonely 8-year-old girl strikes up a correspondence with an unlikely pen pal: a severely obese 44-year-old New Yorker with Asperger&apos;s syndrome.', 'Animation, Comedy, Drama', '1h 32m']\n",
      "205: ['203', 'The Third Man', 'https://www.imdb.com/title/tt0041959/', '8.1', 'Pulp novelist Holly Martins travels to shadowy, postwar Vienna, only to find himself investigating the mysterious death of an old friend, Harry Lime.', 'Film-Noir, Mystery, Thriller', '1h 44m']\n",
      "206: ['204', 'Le salaire de la peur', 'https://www.imdb.com/title/tt0046268/', '8.1', 'In a decrepit South American village, four men are hired to transport an urgent nitroglycerine shipment without the equipment that would make it safe.', 'Adventure, Drama, Thriller', '2h 11m']\n",
      "207: ['205', 'Ratatouille', 'https://www.imdb.com/title/tt0382932/', '8.1', 'A rat who can cook makes an unusual alliance with a young kitchen worker at a famous Paris restaurant.', 'Animation, Adventure, Comedy', '1h 51m']\n",
      "208: ['206', 'SmultronstÃƒÂ¤llet', 'https://www.imdb.com/title/tt0050986/', '8.1', 'After living a life marked by coldness, an aging professor is forced to confront the emptiness of his existence.', 'Drama, Romance', '1h 31m']\n",
      "209: ['207', 'Mr. Smith Goes to Washington', 'https://www.imdb.com/title/tt0031679/', '8.1', 'A naive youth leader is appointed to fill a vacancy in the U.S. Senate. His idealistic plans promptly collide with corruption at home and subterfuge from his hero in Washington, but he tries to forge ahead despite attacks on his c...', 'Comedy, Drama', '2h 9m']\n",
      "210: ['208', 'Ford v Ferrari', 'https://www.imdb.com/title/tt1950186/', '8.1', 'American car designer Carroll Shelby and driver Ken Miles battle corporate interference and the laws of physics to build a revolutionary race car for Ford in order to defeat Ferrari at the 24 Hours of Le Mans in 1966.', 'Action, Biography, Drama', '2h 32m']\n",
      "211: ['209', 'TÃƒÂ´kyÃƒÂ´ monogatari', 'https://www.imdb.com/title/tt0046438/', '8.1', 'An old couple visit their children and grandchildren in the city, but receive little attention.', 'Drama', '2h 16m']\n",
      "212: ['210', 'The Big Lebowski', 'https://www.imdb.com/title/tt0118715/', '8.1', 'Jeff &quot;The Dude&quot; Lebowski, mistaken for a millionaire of the same name, seeks restitution for his ruined rug and enlists his bowling buddies to help get it.', 'Comedy, Crime', '1h 57m']\n",
      "213: ['211', 'Rocky', 'https://www.imdb.com/title/tt0075148/', '8.1', 'A small-time Philadelphia boxer gets a supremely rare chance to fight the world heavyweight champion in a bout in which he strives to go the distance for his self-respect.', 'Drama, Sport', '2h 0m']\n",
      "214: ['212', 'Det sjunde inseglet', 'https://www.imdb.com/title/tt0050976/', '8.1', 'A knight returning to Sweden after the Crusades seeks answers about life, death, and the existence of God as he plays chess against the Grim Reaper during the Black Plague.', 'Drama, Fantasy', '1h 36m']\n",
      "215: ['213', 'Room', 'https://www.imdb.com/title/tt3170832/', '8.1', 'A little boy is held captive in a room with his mother since his birth, so he has never known the world outside.', 'Drama, Thriller', '1h 58m']\n",
      "216: ['214', 'Logan', 'https://www.imdb.com/title/tt3315342/', '8.1', 'In a future where mutants are nearly extinct, an elderly and weary Logan leads a quiet life. But when Laura, a mutant child pursued by scientists, comes to him for help, he must get her to safety.', 'Action, Drama, Sci-Fi', '2h 17m']\n",
      "217: ['215', 'Spotlight', 'https://www.imdb.com/title/tt1895587/', '8.1', 'The true story of how the Boston Globe uncovered the massive scandal of child molestation and cover-up within the local Catholic Archdiocese, shaking the entire Catholic Church to its core.', 'Biography, Crime, Drama', '2h 9m']\n",
      "218: ['216', 'Hotel Rwanda', 'https://www.imdb.com/title/tt0395169/', '8.1', 'Paul Rusesabagina, a hotel manager, houses over a thousand Tutsi refugees during their struggle against the Hutu militia in Rwanda, Africa.', 'Biography, Drama, History', '2h 1m']\n",
      "219: ['217', 'The Terminator', 'https://www.imdb.com/title/tt0088247/', '8.1', 'A human soldier is sent from 2029 to 1984 to stop an almost indestructible cyborg killing machine, sent from the same year, which has been programmed to execute a young woman whose unborn son is the key to humanity&apos;s future salvat...', 'Action, Adventure, Sci-Fi', '1h 47m']\n",
      "220: ['218', 'Platoon', 'https://www.imdb.com/title/tt0091763/', '8.1', 'Chris Taylor, a neophyte recruit in Vietnam, finds himself caught in a battle of wills between two sergeants, one good and the other evil. A shrewd examination of the brutality of war and the duality of man in conflict.', 'Drama, War', '2h 0m']\n",
      "221: ['219', 'La passion de Jeanne d&apos;Arc', 'https://www.imdb.com/title/tt0019254/', '8.1', 'In 1431, Jeanne d&apos;Arc is placed on trial on charges of heresy. The ecclesiastical jurists attempt to force Jeanne to recant her claims of holy visions.', 'Biography, Drama, History', '1h 50m']\n",
      "222: ['220', 'La haine', 'https://www.imdb.com/title/tt0113247/', '8.1', '24 hours in the lives of three young men in the French suburbs the day after a violent riot.', 'Crime, Drama', '1h 38m']\n",
      "223: ['221', 'Before Sunset', 'https://www.imdb.com/title/tt0381681/', '8.1', 'Nine years after Jesse and Celine first met, they encounter each other again on the French leg of Jesse&apos;s book tour.', 'Drama, Romance', '1h 20m']\n",
      "224: ['222', 'Pirates of the Caribbean: The Curse of the Black Pearl', 'https://www.imdb.com/title/tt0325980/', '8.1', 'Blacksmith Will Turner teams up with eccentric pirate &quot;Captain&quot; Jack Sparrow to save Elizabeth Swann, the governor&apos;s daughter and his love, from Jack&apos;s former pirate allies, who are now undead.', 'Action, Adventure, Fantasy', '2h 23m']\n",
      "225: ['223', 'The Best Years of Our Lives', 'https://www.imdb.com/title/tt0036868/', '8.1', 'Three World War II veterans, two of them traumatized or disabled, return home to the American midwest to discover that they and their families have been irreparably changed.', 'Drama, Romance, War', '2h 50m']\n",
      "226: ['224', 'The Exorcist', 'https://www.imdb.com/title/tt0070047/', '8.1', 'When a young girl is possessed by a mysterious entity, her mother seeks the help of two Catholic priests to save her life.', 'Horror', '2h 2m']\n",
      "227: ['225', 'Jai Bhim', 'https://www.imdb.com/title/tt15097216/', '8.7', 'When a tribal man is arrested for a case of alleged theft, his wife turns to a human-rights lawyer to help bring justice.', 'Crime, Drama, Mystery', '2h 44m']\n",
      "228: ['226', 'Rush', 'https://www.imdb.com/title/tt1979320/', '8.1', 'The merciless 1970s rivalry between Formula One rivals James Hunt and Niki Lauda.', 'Action, Biography, Drama', '2h 3m']\n",
      "229: ['227', 'Network', 'https://www.imdb.com/title/tt0074958/', '8.1', 'A television network cynically exploits a deranged former anchor&apos;s ravings and revelations about the news media for its own profit, but finds that his message may be difficult to control.', 'Drama', '2h 1m']\n",
      "230: ['228', 'The Wizard of Oz', 'https://www.imdb.com/title/tt0032138/', '8.1', 'Young Dorothy Gale and her dog Toto are swept away by a tornado from their Kansas farm to the magical Land of Oz, and embark on a quest with three new friends to see the Wizard, who can return her to her home and fulfill the other...', 'Adventure, Family, Fantasy', '1h 42m']\n",
      "231: ['229', 'Stand by Me', 'https://www.imdb.com/title/tt0092005/', '8.1', 'A writer recounts a childhood journey with his friends to find the body of a missing boy.', 'Adventure, Comedy, Drama', '1h 29m']\n",
      "232: ['230', 'The Incredibles', 'https://www.imdb.com/title/tt0317705/', '8.0', 'While trying to lead a quiet suburban life, a family of undercover superheroes are forced into action to save the world.', 'Animation, Action, Adventure', '1h 55m']\n",
      "233: ['231', 'Hachi: A Dog&apos;s Tale', 'https://www.imdb.com/title/tt1028532/', '8.1', 'Professor Wilson discovers a lost Akita puppy on his way home. Despite objections from his wife, Hachi endears himself to the family and grows to be Parker&apos;s loyal companion. As their bond grows deeper, a beautiful relationship un...', 'Biography, Drama, Family', '1h 33m']\n",
      "234: ['232', 'Babam ve Oglum', 'https://www.imdb.com/title/tt0476735/', '8.2', 'The family of a left-wing journalist is torn apart after the military coup of Turkey in 1980.', 'Drama, Family', '1h 52m']\n",
      "235: ['233', 'Ah-ga-ssi', 'https://www.imdb.com/title/tt4016934/', '8.1', 'A woman is hired as a handmaiden to a Japanese heiress, but secretly she is involved in a plot to defraud her.', 'Drama, Romance, Thriller', '2h 25m']\n",
      "236: ['234', 'The Sound of Music', 'https://www.imdb.com/title/tt0059742/', '8.1', 'A young novice is sent by her convent in 1930s Austria to become a governess to the seven children of a widowed naval officer.', 'Biography, Drama, Family', '2h 52m']\n",
      "237: ['235', 'Into the Wild', 'https://www.imdb.com/title/tt0758758/', '8.1', 'After graduating from Emory University, top student and athlete Christopher McCandless abandons his possessions, gives his entire $24,000 savings account to charity and hitchhikes to Alaska to live in the wilderness. Along the way...', 'Adventure, Biography, Drama', '2h 28m']\n",
      "238: ['236', 'To Be or Not to Be', 'https://www.imdb.com/title/tt0035446/', '8.1', 'During the German occupation of Poland, an acting troupe becomes embroiled in a Polish soldier&apos;s efforts to track down a German spy.', 'Comedy, Romance, War', '1h 39m']\n",
      "239: ['237', 'La battaglia di Algeri', 'https://www.imdb.com/title/tt0058946/', '8.1', 'In the 1950s, fear and violence escalate as the people of Algiers fight for independence from the French government.', 'Drama, War', '2h 1m']\n",
      "240: ['238', 'The Grapes of Wrath', 'https://www.imdb.com/title/tt0032551/', '8.1', 'An Oklahoma family, driven off their farm by the poverty and hopelessness of the Dust Bowl, joins the westward migration to California, suffering the misfortunes of the homeless in the Great Depression.', 'Drama', '2h 9m']\n",
      "241: ['239', 'Groundhog Day', 'https://www.imdb.com/title/tt0107048/', '8.0', 'A narcissistic, self-centered weatherman finds himself in a time loop on Groundhog Day.', 'Comedy, Drama, Fantasy', '1h 41m']\n",
      "242: ['240', 'Amores perros', 'https://www.imdb.com/title/tt0245712/', '8.1', 'An amateur dog fighter, a supermodel, and a derelict assassin, all separately struggling to find love, find their lives transformed by a devastating car wreck in Mexico City.', 'Drama, Thriller', '2h 34m']\n",
      "243: ['241', 'The Iron Giant', 'https://www.imdb.com/title/tt0129167/', '8.1', 'A young boy befriends a giant robot from outer space that a paranoid government agent wants to destroy.', 'Animation, Action, Adventure', '1h 26m']\n",
      "244: ['242', 'Rebecca', 'https://www.imdb.com/title/tt0032976/', '8.1', 'A self-conscious woman juggles adjusting to her new role as an aristocrat&apos;s wife and avoiding being intimidated by his first wife&apos;s spectral presence.', 'Drama, Mystery, Romance', '2h 10m']\n",
      "245: ['243', 'Cool Hand Luke', 'https://www.imdb.com/title/tt0061512/', '8.1', 'A laid-back Southern man is sentenced to two years in a rural prison, but refuses to conform.', 'Crime, Drama', '2h 7m']\n",
      "246: ['244', 'The Help', 'https://www.imdb.com/title/tt1454029/', '8.1', 'An aspiring author during the civil rights movement of the 1960s decides to write a book detailing the African American maids&apos; point of view on the white families for which they work, and the hardships they go through on a daily b...', 'Drama', '2h 26m']\n",
      "247: ['245', 'It Happened One Night', 'https://www.imdb.com/title/tt0025316/', '8.1', 'A rogue reporter trailing a runaway heiress for a big story joins her on a bus heading from Florida to New York and they end up stuck with each other when the bus leaves them behind at one of the stops along the way.', 'Comedy, Romance', '1h 45m']\n",
      "248: ['246', 'Drishyam', 'https://www.imdb.com/title/tt4430212/', '8.2', 'Desperate measures are taken by a man who tries to save his family from the dark side of the law, after they commit an unexpected crime.', 'Crime, Drama, Mystery', '2h 43m']\n",
      "249: ['247', 'Aladdin', 'https://www.imdb.com/title/tt0103639/', '8.0', 'A kind-hearted street urchin and a power-hungry Grand Vizier vie for a magic lamp that has the power to make their deepest wishes come true.', 'Animation, Adventure, Comedy', '1h 30m']\n",
      "250: ['248', 'Dances with Wolves', 'https://www.imdb.com/title/tt0099348/', '8.0', 'Lieutenant John Dunbar, assigned to a remote western Civil War outpost, finds himself engaging with a neighbouring Sioux settlement, causing him to question his own purpose.', 'Adventure, Drama, Western', '3h 1m']\n",
      "251: ['249', 'Gangs of Wasseypur', 'https://www.imdb.com/title/tt1954470/', '8.2', 'A clash between Sultan and Shahid Khan leads to the expulsion of Khan from Wasseypur, and ignites a deadly blood feud spanning three generations.', 'Action, Comedy, Crime', '5h 21m']\n"
     ]
    }
   ],
   "source": [
    "import csv\n",
    "\n",
    "# Assuming 'df' is your DataFrame\n",
    "# Save the DataFrame to a CSV file starting the index from 1 after the header\n",
    "df.to_csv('imdb.csv', index_label='Index')\n",
    "\n",
    "# Read the CSV file\n",
    "with open('imdb.csv', 'r') as file:\n",
    "    reader = csv.reader(file)\n",
    "    headers = next(reader)  # Skip the header row\n",
    "    for idx, row in enumerate(reader, start=1):\n",
    "        print(f'{idx + 1}: {row}')\n"
   ]
  },
  {
   "cell_type": "code",
   "execution_count": null,
   "id": "aec42f32-fb97-4178-8bac-1379ee668d35",
   "metadata": {},
   "outputs": [],
   "source": []
  }
 ],
 "metadata": {
  "kernelspec": {
   "display_name": "Python 3 (ipykernel)",
   "language": "python",
   "name": "python3"
  },
  "language_info": {
   "codemirror_mode": {
    "name": "ipython",
    "version": 3
   },
   "file_extension": ".py",
   "mimetype": "text/x-python",
   "name": "python",
   "nbconvert_exporter": "python",
   "pygments_lexer": "ipython3",
   "version": "3.11.7"
  }
 },
 "nbformat": 4,
 "nbformat_minor": 5
}
